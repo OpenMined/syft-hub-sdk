{
 "cells": [
  {
   "cell_type": "markdown",
   "id": "772ee596-e1f8-4dbb-8604-b710e5b8223f",
   "metadata": {},
   "source": [
    "# Quickstart"
   ]
  },
  {
   "cell_type": "code",
   "execution_count": 13,
   "id": "5b8eed42-0d43-4f11-b37c-d1a9186eb905",
   "metadata": {},
   "outputs": [],
   "source": [
    "%%capture output --no-stderr\n",
    "\n",
    "# Install the SDK in development mode (run this once)\n",
    "!pip install nest_asyncio\n",
    "!pip install -e ."
   ]
  },
  {
   "cell_type": "code",
   "execution_count": 14,
   "id": "25019054-09b2-45ac-8921-c6e27e477f14",
   "metadata": {},
   "outputs": [
    {
     "name": "stdout",
     "output_type": "stream",
     "text": [
      "SYFTBOX_ACCOUNTING_EMAIL: callis@openmined.org\n",
      "SYFTBOX_ACCOUNTING_PASSWORD: True\n",
      "SYFTBOX_ACCOUNTING_URL: True\n"
     ]
    }
   ],
   "source": [
    "# Check env vars are loaded\n",
    "import os\n",
    "import nest_asyncio\n",
    "from syft_nsai_sdk import SyftBoxClient\n",
    "\n",
    "email = os.getenv('SYFTBOX_ACCOUNTING_EMAIL')\n",
    "password = os.getenv('SYFTBOX_ACCOUNTING_PASSWORD')\n",
    "service_url = os.getenv('SYFTBOX_ACCOUNTING_URL')\n",
    "print(f\"SYFTBOX_ACCOUNTING_EMAIL: {email}\")\n",
    "print(f\"SYFTBOX_ACCOUNTING_PASSWORD: {bool(password)}\")\n",
    "print(f\"SYFTBOX_ACCOUNTING_URL: {bool(service_url)}\")"
   ]
  },
  {
   "cell_type": "code",
   "execution_count": 15,
   "id": "f83c4721-1388-4c44-b5fa-72add3f83d3d",
   "metadata": {},
   "outputs": [],
   "source": [
    "# Apply the patch to allow nested event loops\n",
    "nest_asyncio.apply()"
   ]
  },
  {
   "cell_type": "code",
   "execution_count": 18,
   "id": "a26dc6c1-b6c7-4ecc-8997-c3c680096608",
   "metadata": {},
   "outputs": [],
   "source": [
    "# main func\n",
    "\n",
    "import asyncio\n",
    "async def main():\n",
    "    async with SyftBoxClient() as client:\n",
    "        # Setup accounting for paid models\n",
    "        await client.setup_accounting(\n",
    "            email,\n",
    "            password,\n",
    "            service_url,\n",
    "        )\n",
    "        \n",
    "        # Chat with a model\n",
    "        response = await client.chat(\n",
    "            model_name=\"claude-sonnet-3.5\",\n",
    "            owner=\"aggregator@openmined.org\",\n",
    "            prompt=\"Hello! What is syftbox?\",\n",
    "            temperature=0.7,\n",
    "            max_tokens=200\n",
    "        )\n",
    "        print(response.message.content)"
   ]
  },
  {
   "cell_type": "code",
   "execution_count": 19,
   "id": "b371e429-4e14-4b64-aeca-cbf8cb2b3ce4",
   "metadata": {},
   "outputs": [
    {
     "name": "stdout",
     "output_type": "stream",
     "text": [
      "✓ Response received                                                             \n",
      "\n",
      "I'm not familiar with a specific technology, product, or concept called \"syftbox.\" It could be:\n",
      "\n",
      "1. A proprietary software tool or platform\n",
      "2. A recent startup or product\n",
      "3. A specialized term in a particular field\n",
      "4. A typographical variation of something else\n",
      "\n",
      "If you could provide more context about where you encountered this term or what field it relates to (cybersecurity, data science, etc.), I'd be happy to try to give you more relevant information. Alternatively, if you're looking for information about a specific technology, I can help with that instead.\n"
     ]
    }
   ],
   "source": [
    "asyncio.run(main())"
   ]
  },
  {
   "cell_type": "code",
   "execution_count": null,
   "id": "636bc919-c2f3-4eed-be4e-9ee71ed8faa7",
   "metadata": {},
   "outputs": [],
   "source": []
  }
 ],
 "metadata": {
  "kernelspec": {
   "display_name": "Python 3 (ipykernel)",
   "language": "python",
   "name": "python3"
  },
  "language_info": {
   "codemirror_mode": {
    "name": "ipython",
    "version": 3
   },
   "file_extension": ".py",
   "mimetype": "text/x-python",
   "name": "python",
   "nbconvert_exporter": "python",
   "pygments_lexer": "ipython3",
   "version": "3.12.9"
  }
 },
 "nbformat": 4,
 "nbformat_minor": 5
}

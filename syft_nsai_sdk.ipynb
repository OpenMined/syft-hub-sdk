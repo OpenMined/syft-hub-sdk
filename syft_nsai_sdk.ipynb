{
 "cells": [
  {
   "cell_type": "markdown",
   "metadata": {},
   "source": [
    "# SyftBox SDK Development Testing\n",
    "\n",
    "This notebook is for testing and validating the SyftBox SDK during development."
   ]
  },
  {
   "cell_type": "code",
   "execution_count": 3,
   "metadata": {},
   "outputs": [
    {
     "name": "stderr",
     "output_type": "stream",
     "text": [
      "\u001b[34m2025-08-14 18:27:47 - syft_nsai_sdk - INFO - This is an informational message.\u001b[0m\n",
      "\u001b[31m2025-08-14 18:27:47 - syft_nsai_sdk - ERROR - This is an error message.\u001b[0m\n"
     ]
    }
   ],
   "source": [
    "from syft_nsai_sdk.logger import get_logger\n",
    "\n",
    "logger = get_logger()\n",
    "logger.info(\"This is an informational message.\")\n",
    "logger.error(\"This is an error message.\")"
   ]
  },
  {
   "cell_type": "code",
   "execution_count": 5,
   "metadata": {},
   "outputs": [
    {
     "name": "stderr",
     "output_type": "stream",
     "text": [
      "\u001b[32m2025-08-14 18:28:05 - syft_nsai_sdk - SUCCESS - SyftBox SDK imported successfully\u001b[0m\n"
     ]
    }
   ],
   "source": [
    "# Install the SDK in development mode (run this once)\n",
    "# !pip install -e .\n",
    "\n",
    "# Import the SDK\n",
    "import syft_nsai_sdk as sb\n",
    "logger.success(\"SyftBox SDK imported successfully\")"
   ]
  },
  {
   "cell_type": "markdown",
   "metadata": {},
   "source": [
    "## 1. Check SDK Status"
   ]
  },
  {
   "cell_type": "code",
   "execution_count": 7,
   "metadata": {},
   "outputs": [
    {
     "name": "stderr",
     "output_type": "stream",
     "text": [
      "\u001b[34m2025-08-14 18:28:40 - syft_nsai_sdk.sdk - INFO - SyftBox SDK Status:\u001b[0m\n",
      "\u001b[34m2025-08-14 18:28:40 - syft_nsai_sdk.sdk - INFO - SyftBox SDK Status:\u001b[0m\n",
      "\u001b[34m2025-08-14 18:28:40 - syft_nsai_sdk.sdk - INFO -    Config Exists: Yes\u001b[0m\n",
      "\u001b[34m2025-08-14 18:28:40 - syft_nsai_sdk.sdk - INFO -    Config Exists: Yes\u001b[0m\n",
      "\u001b[34m2025-08-14 18:28:40 - syft_nsai_sdk.sdk - INFO -    Authenticated: Yes\u001b[0m\n",
      "\u001b[34m2025-08-14 18:28:40 - syft_nsai_sdk.sdk - INFO -    Authenticated: Yes\u001b[0m\n",
      "\u001b[34m2025-08-14 18:28:40 - syft_nsai_sdk.sdk - INFO -    User: callis@openmined.org\u001b[0m\n",
      "\u001b[34m2025-08-14 18:28:40 - syft_nsai_sdk.sdk - INFO -    User: callis@openmined.org\u001b[0m\n",
      "\u001b[34m2025-08-14 18:28:40 - syft_nsai_sdk.sdk - INFO -    Server: https://syftbox.net\u001b[0m\n",
      "\u001b[34m2025-08-14 18:28:40 - syft_nsai_sdk.sdk - INFO -    Server: https://syftbox.net\u001b[0m\n",
      "\u001b[34m2025-08-14 18:28:40 - syft_nsai_sdk.sdk - INFO -    Data Dir: /Users/callisezenwaka/SyftBox\u001b[0m\n",
      "\u001b[34m2025-08-14 18:28:40 - syft_nsai_sdk.sdk - INFO -    Data Dir: /Users/callisezenwaka/SyftBox\u001b[0m\n",
      "\u001b[32m2025-08-14 18:28:40 - syft_nsai_sdk - SUCCESS - 🔐 Authenticated: <function is_authenticated at 0x11460e5c0>\u001b[0m\n",
      "\u001b[34m2025-08-14 18:28:40 - syft_nsai_sdk - INFO - 👤 Current user: <function current_user at 0x11460e520>\u001b[0m\n"
     ]
    },
    {
     "name": "stdout",
     "output_type": "stream",
     "text": [
      "📊 Checking SDK status...\n"
     ]
    }
   ],
   "source": [
    "# Check if SDK is properly configured\n",
    "print(\"📊 Checking SDK status...\")\n",
    "status_info = sb.status()\n",
    "\n",
    "logger.success(f\"🔐 Authenticated: {sb.is_authenticated}\")\n",
    "if sb.current_user:\n",
    "    logger.info(f\"👤 Current user: {sb.current_user}\")"
   ]
  },
  {
   "cell_type": "markdown",
   "metadata": {},
   "source": [
    "## 2. Discover Models"
   ]
  },
  {
   "cell_type": "code",
   "execution_count": 9,
   "metadata": {},
   "outputs": [
    {
     "name": "stderr",
     "output_type": "stream",
     "text": [
      "\u001b[34m2025-08-14 18:29:49 - syft_nsai_sdk - INFO - 🔍 Discovering all models...\u001b[0m\n",
      "\u001b[32m2025-08-14 18:29:49 - syft_nsai_sdk - SUCCESS - Found 10 total models\u001b[0m\n",
      "\u001b[34m2025-08-14 18:29:49 - syft_nsai_sdk - INFO - \n",
      "Model List:\u001b[0m\n"
     ]
    },
    {
     "name": "stdout",
     "output_type": "stream",
     "text": [
      "╭────────────────────┬──────────────────────────┬─────────────────────────────────┬──────────────┬───────────────────────────────────────────────────────┬───────────╮\n",
      "│ Name               │ Owner                    │ Tags                            │ Services     │ Summary                                               │ Status    │\n",
      "├────────────────────┼──────────────────────────┼─────────────────────────────────┼──────────────┼───────────────────────────────────────────────────────┼───────────┤\n",
      "│ shubham-router     │ shubham@openmined.org    │ AI                              │ search       │ This is a short summary                               │ available │\n",
      "├────────────────────┼──────────────────────────┼─────────────────────────────────┼──────────────┼───────────────────────────────────────────────────────┼───────────┤\n",
      "│ the-city           │ speters@thecity.nyc      │ news                            │ search       │ The City                                              │ available │\n",
      "├────────────────────┼──────────────────────────┼─────────────────────────────────┼──────────────┼───────────────────────────────────────────────────────┼───────────┤\n",
      "│ matts-news-service │ mtprewitt@gmail.com      │ None                            │ search       │ news articles                                         │ available │\n",
      "├────────────────────┼──────────────────────────┼─────────────────────────────────┼──────────────┼───────────────────────────────────────────────────────┼───────────┤\n",
      "│ callis             │ callis@openmined.org     │ test                            │ chat         │ test                                                  │ available │\n",
      "├────────────────────┼──────────────────────────┼─────────────────────────────────┼──────────────┼───────────────────────────────────────────────────────┼───────────┤\n",
      "│ claude-sonnet-3.5  │ aggregator@openmined.org │ claude, anthropic, sonnet, chat │ chat, search │ Hosted Claude Sonnet 3.5 router                       │ available │\n",
      "├────────────────────┼──────────────────────────┼─────────────────────────────────┼──────────────┼───────────────────────────────────────────────────────┼───────────┤\n",
      "│ deepseek-v3        │ aggregator@openmined.org │ deepseek, opensource, chagt     │ chat, search │ Hosted Deepseek V3                                    │ available │\n",
      "├────────────────────┼──────────────────────────┼─────────────────────────────────┼──────────────┼───────────────────────────────────────────────────────┼───────────┤\n",
      "│ ionesio-router     │ ionesio@openmined.org    │ news                            │ search       │ Testing Router                                        │ available │\n",
      "├────────────────────┼──────────────────────────┼─────────────────────────────────┼──────────────┼───────────────────────────────────────────────────────┼───────────┤\n",
      "│ public-tinnyllama  │ irina@openmined.org      │ ollama, opensource, tinyllama   │ chat         │ Public Ollama:tinyllama model hosted for experimen... │ available │\n",
      "├────────────────────┼──────────────────────────┼─────────────────────────────────┼──────────────┼───────────────────────────────────────────────────────┼───────────┤\n",
      "│ openmined-about    │ irina@openmined.org      │ openmined                       │ search       │ Learn more about OpenMined’s attribution based con... │ available │\n",
      "├────────────────────┼──────────────────────────┼─────────────────────────────────┼──────────────┼───────────────────────────────────────────────────────┼───────────┤\n",
      "│ ollama-model       │ irina@openmined.org      │ ollama, opensource, unknown     │ chat         │ Self-hosted model through Ollama                      │ available │\n",
      "╰────────────────────┴──────────────────────────┴─────────────────────────────────┴──────────────┴───────────────────────────────────────────────────────┴───────────╯\n"
     ]
    }
   ],
   "source": [
    "# Get all available models\n",
    "logger.info(\"🔍 Discovering all models...\")\n",
    "all_models = sb.get_models()\n",
    "logger.success(f\"Found {len(all_models)} total models\")\n",
    "\n",
    "if all_models:\n",
    "    logger.info(\"\\nModel List:\")\n",
    "    sb.display_models(all_models)\n",
    "else:\n",
    "    logger.warning(\"No models found. Make sure SyftBox is running and synced.\")"
   ]
  },
  {
   "cell_type": "markdown",
   "metadata": {},
   "source": [
    "## 3. Filter Models by Tags"
   ]
  },
  {
   "cell_type": "code",
   "execution_count": 5,
   "metadata": {},
   "outputs": [
    {
     "name": "stdout",
     "output_type": "stream",
     "text": [
      "\n",
      "Looking for 'news' models...\n",
      "Found 2 models with 'news' tag\n",
      "  - the-city by speters@thecity.nyc | Services: ['search']\n",
      "  - ionesio-router by ionesio@openmined.org | Services: ['search']\n",
      "\n",
      "Looking for 'AI' models...\n",
      "Found 1 models with 'AI' tag\n",
      "  - shubham-router by shubham@openmined.org | Services: ['search']\n",
      "\n",
      "Looking for 'test' models...\n",
      "Found 1 models with 'test' tag\n",
      "  - callis by callis@openmined.org | Services: ['chat']\n",
      "\n",
      "Looking for 'chat' models...\n",
      "Found 1 models with 'chat' tag\n",
      "  - claude-sonnet-3.5 by aggregator@openmined.org | Services: ['chat', 'search']\n",
      "\n",
      "Looking for 'ollama' models...\n",
      "Found 2 models with 'ollama' tag\n",
      "  - public-tinnyllama by irina@openmined.org | Services: ['chat']\n",
      "  - ollama-model by irina@openmined.org | Services: ['chat']\n",
      "\n",
      "Looking for 'nlp' models...\n",
      "Found 0 models with 'nlp' tag\n",
      "\n",
      "Looking for 'search' models...\n",
      "Found 0 models with 'search' tag\n",
      "\n",
      "Looking for 'chat' models...\n",
      "Found 1 models with 'chat' tag\n",
      "  - claude-sonnet-3.5 by aggregator@openmined.org | Services: ['chat', 'search']\n"
     ]
    }
   ],
   "source": [
    "# Search for models with specific tags\n",
    "test_tags = [\"news\", \"AI\", \"test\", \"chat\", \"ollama\", \"nlp\", \"search\", \"chat\"]\n",
    "\n",
    "for tag in test_tags:\n",
    "    print(f\"\\nLooking for '{tag}' models...\")\n",
    "    tagged_models = sb.find_models(tags=[tag])\n",
    "    print(f\"Found {len(tagged_models)} models with '{tag}' tag\")\n",
    "    \n",
    "    if tagged_models:\n",
    "        for model in tagged_models:\n",
    "            print(f\"  - {model.name} by {model.owner} | Services: {model.services}\")"
   ]
  },
  {
   "cell_type": "markdown",
   "metadata": {},
   "source": [
    "## 4. Test Model Interaction"
   ]
  },
  {
   "cell_type": "code",
   "execution_count": 10,
   "metadata": {},
   "outputs": [
    {
     "name": "stdout",
     "output_type": "stream",
     "text": [
      "🤖 Testing interaction with: shubham-router\n",
      "   Owner: shubham@openmined.org\n",
      "   Services: ['search']\n",
      "   Tags: ['AI']\n",
      "   Status: available\n",
      "\n",
      "🔍 Testing search service...\n"
     ]
    },
    {
     "name": "stderr",
     "output_type": "stream",
     "text": [
      "\u001b[31m2025-08-14 18:30:37 - syft_nsai_sdk - ERROR - ❌ Search failed: Failed to call service 'search': RPC request failed with status 401: {\"code\":\"E_AUTH_INVALID_CREDENTIALS\",\"error\":\"invalid access token: token signature is invalid: signature is invalid\"}\n",
      "\u001b[0m\n"
     ]
    }
   ],
   "source": [
    "# Test model interaction if models are available\n",
    "if all_models:\n",
    "    test_model = all_models[0]\n",
    "    print(f\"🤖 Testing interaction with: {test_model.name}\")\n",
    "    print(f\"   Owner: {test_model.owner}\")\n",
    "    print(f\"   Services: {test_model.services}\")\n",
    "    print(f\"   Tags: {test_model.tags}\")\n",
    "    print(f\"   Status: {test_model.status}\")\n",
    "    \n",
    "    # Test chat if available\n",
    "    if \"chat\" in test_model.services:\n",
    "        print(\"\\n💬 Testing chat service...\")\n",
    "        try:\n",
    "            response = test_model.chat(\n",
    "                \"Hello! This is a test message from the development notebook.\",\n",
    "                temperature=0.7,\n",
    "                max_tokens=50\n",
    "            )\n",
    "            print(f\"✅ Chat Response: {response}\")\n",
    "        except Exception as e:\n",
    "            logger.error(f\"❌ Chat failed: {e}\")\n",
    "    \n",
    "    # Test search if available\n",
    "    if \"search\" in test_model.services:\n",
    "        print(\"\\n🔍 Testing search service...\")\n",
    "        try:\n",
    "            results = test_model.search(\"test query\")\n",
    "            logger.success(f\"✅ Search Results: {results[:200]}...\")\n",
    "        except Exception as e:\n",
    "            logger.error(f\"❌ Search failed: {e}\")\n",
    "else:\n",
    "    print(\"⚠️ No models available for testing\")"
   ]
  },
  {
   "cell_type": "markdown",
   "metadata": {},
   "source": [
    "## 5. Test Different Owner Filters"
   ]
  },
  {
   "cell_type": "code",
   "execution_count": 7,
   "metadata": {},
   "outputs": [
    {
     "name": "stdout",
     "output_type": "stream",
     "text": [
      "📊 Found 7 unique model owners:\n",
      "\n",
      "👤 Models by callis@openmined.org:\n",
      "  - callis | ['chat']\n",
      "\n",
      "👤 Models by irina@openmined.org:\n",
      "  - public-tinnyllama | ['chat']\n",
      "  - openmined-about | ['search']\n",
      "  - ollama-model | ['chat']\n",
      "\n",
      "👤 Models by shubham@openmined.org:\n",
      "  - shubham-router | ['search']\n"
     ]
    }
   ],
   "source": [
    "# Test filtering by specific owners\n",
    "if all_models:\n",
    "    unique_owners = list(set(model.owner for model in all_models))\n",
    "    print(f\"📊 Found {len(unique_owners)} unique model owners:\")\n",
    "    \n",
    "    for owner in unique_owners[:3]:  # Test first 3 owners\n",
    "        print(f\"\\n👤 Models by {owner}:\")\n",
    "        owner_models = sb.find_models(owners=[owner])\n",
    "        for model in owner_models:\n",
    "            print(f\"  - {model.name} | {model.services}\")"
   ]
  },
  {
   "cell_type": "markdown",
   "metadata": {},
   "source": [
    "## 6. Performance Testing"
   ]
  },
  {
   "cell_type": "code",
   "execution_count": 8,
   "metadata": {},
   "outputs": [
    {
     "name": "stdout",
     "output_type": "stream",
     "text": [
      "⏱️ Performance Testing...\n",
      "📈 Model Discovery: 0.01s for 10 models\n",
      "🔍 Model Lookup: 0.00s\n",
      "✅ Found: shubham-router\n"
     ]
    }
   ],
   "source": [
    "import time\n",
    "\n",
    "# Test discovery performance\n",
    "print(\"⏱️ Performance Testing...\")\n",
    "\n",
    "start_time = time.time()\n",
    "models = sb.get_models()\n",
    "discovery_time = time.time() - start_time\n",
    "\n",
    "print(f\"📈 Model Discovery: {discovery_time:.2f}s for {len(models)} models\")\n",
    "\n",
    "if models:\n",
    "    # Test individual model lookup performance\n",
    "    test_model = models[0]\n",
    "    \n",
    "    start_time = time.time()\n",
    "    found_model = sb.get_model(test_model.name, owner=test_model.owner)\n",
    "    lookup_time = time.time() - start_time\n",
    "    \n",
    "    print(f\"🔍 Model Lookup: {lookup_time:.2f}s\")\n",
    "    print(f\"✅ Found: {found_model.name if found_model else 'Not found'}\")"
   ]
  },
  {
   "cell_type": "markdown",
   "metadata": {},
   "source": [
    "## 7. Error Handling Tests"
   ]
  },
  {
   "cell_type": "code",
   "execution_count": 11,
   "metadata": {},
   "outputs": [
    {
     "name": "stdout",
     "output_type": "stream",
     "text": [
      "Testing error handling...\n",
      "Non-existent model result: None\n",
      "✅ Invalid tag search returned 0 results (expected 0)\n",
      "✅ Error handling tests completed\n"
     ]
    }
   ],
   "source": [
    "# Test error handling\n",
    "print(\"Testing error handling...\")\n",
    "\n",
    "# Test non-existent model\n",
    "try:\n",
    "    fake_model = sb.get_model(\"non-existent-model-12345\")\n",
    "    print(f\"Non-existent model result: {fake_model}\")\n",
    "except Exception as e:\n",
    "    logger.error(f\"❌ Expected error for non-existent model: {e}\")\n",
    "\n",
    "# Test invalid filters\n",
    "try:\n",
    "    empty_results = sb.find_models(tags=[\"non-existent-tag-12345\"])\n",
    "    print(f\"✅ Invalid tag search returned {len(empty_results)} results (expected 0)\")\n",
    "except Exception as e:\n",
    "    logger.error(f\"❌ Unexpected error with invalid tags: {e}\")\n",
    "\n",
    "print(\"✅ Error handling tests completed\")"
   ]
  },
  {
   "cell_type": "markdown",
   "metadata": {},
   "source": [
    "## 8. Development Notes\n",
    "\n",
    "Use this section to test new features or debug issues:"
   ]
  },
  {
   "cell_type": "code",
   "execution_count": null,
   "metadata": {},
   "outputs": [],
   "source": [
    "# Scratch space for development testing\n",
    "print(\"🔧 Development testing area\")\n",
    "\n",
    "# Add your test code here\n",
    "# Example:\n",
    "# models = sb.find_models(name=\"specific-model\")\n",
    "# print(f\"Specific search: {len(models)} results\")"
   ]
  }
 ],
 "metadata": {
  "kernelspec": {
   "display_name": "Python 3 (ipykernel)",
   "language": "python",
   "name": "python3"
  },
  "language_info": {
   "codemirror_mode": {
    "name": "ipython",
    "version": 3
   },
   "file_extension": ".py",
   "mimetype": "text/x-python",
   "name": "python",
   "nbconvert_exporter": "python",
   "pygments_lexer": "ipython3",
   "version": "3.12.9"
  }
 },
 "nbformat": 4,
 "nbformat_minor": 4
}

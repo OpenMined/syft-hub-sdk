{
 "cells": [
  {
   "cell_type": "markdown",
   "metadata": {},
   "source": [
    "# SyftBox SDK Development Testing\n",
    "\n",
    "This notebook is for testing and validating the SyftBox SDK during development."
   ]
  },
  {
   "cell_type": "code",
   "execution_count": 1,
   "metadata": {},
   "outputs": [],
   "source": [
    "%%capture output --no-stderr\n",
    "\n",
    "# Install the SDK in development mode (run this once)\n",
    "!pip install nest_asyncio\n",
    "!pip install -e ."
   ]
  },
  {
   "cell_type": "code",
   "execution_count": 2,
   "metadata": {},
   "outputs": [],
   "source": [
    "# Import the SDK\n",
    "import syft_nsai_sdk as sdk\n",
    "import httpx"
   ]
  },
  {
   "cell_type": "code",
   "execution_count": 3,
   "metadata": {},
   "outputs": [],
   "source": [
    "import nest_asyncio\n",
    "nest_asyncio.apply()"
   ]
  },
  {
   "cell_type": "code",
   "execution_count": 4,
   "metadata": {},
   "outputs": [
    {
     "name": "stderr",
     "output_type": "stream",
     "text": [
      "\u001b[32m2025-08-19 19:58:27 - syft_nsai_sdk - SUCCESS - SyftBox SDK imported successfully\u001b[0m\n"
     ]
    }
   ],
   "source": [
    "from syft_nsai_sdk.utils.logger import get_logger\n",
    "\n",
    "logger = get_logger()\n",
    "logger.success(\"SyftBox SDK imported successfully\")"
   ]
  },
  {
   "cell_type": "code",
   "execution_count": 5,
   "metadata": {},
   "outputs": [],
   "source": [
    "# Set up logging\n",
    "import logging\n",
    "\n",
    "# Turn off debug logging for your SDK\n",
    "logging.getLogger('syft_nsai_sdk').setLevel(logging.INFO)"
   ]
  },
  {
   "cell_type": "code",
   "execution_count": 6,
   "metadata": {},
   "outputs": [],
   "source": [
    "from syft_nsai_sdk import SyftBoxClient\n",
    "from IPython.display import display, HTML, Markdown"
   ]
  },
  {
   "cell_type": "code",
   "execution_count": 7,
   "metadata": {},
   "outputs": [
    {
     "name": "stderr",
     "output_type": "stream",
     "text": [
      "\u001b[34m2025-08-19 19:58:27 - syft_nsai_sdk.main - INFO - Using email: callis@openmined.org, service URL: https://syftaccounting.centralus.cloudapp.azure.com/\u001b[0m\n",
      "\u001b[34m2025-08-19 19:58:27 - syft_nsai_sdk.main - INFO - Accounting configured for callis@openmined.org\u001b[0m\n",
      "\u001b[34m2025-08-19 19:58:27 - syft_nsai_sdk.main - INFO - SyftBoxClient initialized for guest@syft.org\u001b[0m\n",
      "\u001b[34m2025-08-19 19:58:27 - syft_nsai_sdk - INFO - Syftbox client created: <syft_nsai_sdk.main.SyftBoxClient object at 0x104b9f410>\u001b[0m\n"
     ]
    }
   ],
   "source": [
    "client = SyftBoxClient()\n",
    "logger.info(f\"Syftbox client created: {client}\")"
   ]
  },
  {
   "cell_type": "code",
   "execution_count": 8,
   "metadata": {},
   "outputs": [
    {
     "name": "stderr",
     "output_type": "stream",
     "text": [
      "\u001b[34m2025-08-19 19:58:27 - syft_nsai_sdk.discovery.scanner - INFO - Found 12 models across 251 datasites\u001b[0m\n",
      "\u001b[34m2025-08-19 19:58:27 - syft_nsai_sdk.discovery.scanner - INFO - Cached 12 models from 8 owners\u001b[0m\n",
      "\u001b[34m2025-08-19 19:58:27 - syft_nsai_sdk.main - INFO - Discovered 12 models (health_check=False)\u001b[0m\n",
      "\u001b[34m2025-08-19 19:58:27 - syft_nsai_sdk.main - INFO - Discovered 12 models (health_check=False)\u001b[0m\n"
     ]
    }
   ],
   "source": [
    "%%capture output --no-stderr\n",
    "\n",
    "# Rich model display\n",
    "import asyncio\n",
    "models = client.discover_models(health_check=\"never\")\n",
    "display(HTML(client.list_models()))"
   ]
  },
  {
   "cell_type": "code",
   "execution_count": 9,
   "metadata": {},
   "outputs": [
    {
     "name": "stderr",
     "output_type": "stream",
     "text": [
      "\u001b[34m2025-08-19 19:58:27 - syft_nsai_sdk.main - INFO - Discovered 12 models (health_check=False)\u001b[0m\n"
     ]
    },
    {
     "name": "stdout",
     "output_type": "stream",
     "text": [
      "Found the following model details: 12\n"
     ]
    }
   ],
   "source": [
    "#\n",
    "# Interactive chat\n",
    "# STEP 1: List models explicitly\n",
    "model_details = client.list_models(format=\"\")\n",
    "print(f\"Found the following model details: {len(model_details)}\")"
   ]
  },
  {
   "cell_type": "code",
   "execution_count": 10,
   "metadata": {},
   "outputs": [
    {
     "name": "stderr",
     "output_type": "stream",
     "text": [
      "\u001b[33m2025-08-19 19:58:27 - syft_nsai_sdk.services.health - WARNING - Unexpected error in health check for syft-sdk: AUTHENTICATION_ERROR: No accounting service URL configured\u001b[0m\n",
      "\u001b[33m2025-08-19 19:58:27 - syft_nsai_sdk.services.health - WARNING - Unexpected error in health check for deepseek-v3: AUTHENTICATION_ERROR: No accounting service URL configured\u001b[0m\n",
      "\u001b[33m2025-08-19 19:58:27 - syft_nsai_sdk.services.health - WARNING - Unexpected error in health check for public-tinnyllama: AUTHENTICATION_ERROR: No accounting service URL configured\u001b[0m\n",
      "\u001b[33m2025-08-19 19:58:27 - syft_nsai_sdk.services.health - WARNING - Unexpected error in health check for ollama-model: AUTHENTICATION_ERROR: No accounting service URL configured\u001b[0m\n",
      "\u001b[34m2025-08-19 19:58:27 - syft_nsai_sdk.services.health - INFO - Batch health check completed in 0.03s for 4 models\u001b[0m\n",
      "\u001b[34m2025-08-19 19:58:27 - syft_nsai_sdk.main - INFO - Discovered 4 models (health_check=True)\u001b[0m\n"
     ]
    },
    {
     "name": "stdout",
     "output_type": "stream",
     "text": [
      "Found 4 models\n"
     ]
    }
   ],
   "source": [
    "# STEP 2: Discover models explicitly \n",
    "models = client.discover_models(service_type=\"chat\", tags=[\"opensource\"])\n",
    "print(f\"Found {len(models)} models\")"
   ]
  },
  {
   "cell_type": "code",
   "execution_count": 11,
   "metadata": {},
   "outputs": [],
   "source": [
    "# model = models[0]\n",
    "# enabled_services = [s.type.value for s in model.services if s.enabled]\n",
    "# print(f\"{model.name} ({model.owner}) - Tags: {model.tags} - Services: {enabled_services}\")"
   ]
  },
  {
   "cell_type": "code",
   "execution_count": 12,
   "metadata": {},
   "outputs": [
    {
     "name": "stdout",
     "output_type": "stream",
     "text": [
      "Name                 Owner                     Tags                      Services                 \n",
      "----------------------------------------------------------------------------------------------------\n",
      "syft-sdk             callis@openmined.org      chat, opensource          chat                     \n",
      "deepseek-v3          aggregator@openmined.org  deepseek, opensource      chat, search             \n",
      "public-tinnyllama    irina@openmined.org       ollama, opensource        chat                     \n",
      "ollama-model         irina@openmined.org       ollama, opensource        chat                     \n"
     ]
    }
   ],
   "source": [
    "print(f\"{'Name':<20} {'Owner':<25} {'Tags':<25} {'Services':<25}\")\n",
    "print(\"-\" * 100)\n",
    "for model in models:\n",
    "    enabled_services = [s.type.value for s in model.services if s.enabled]\n",
    "    tags_str = \", \".join(model.tags[:2])\n",
    "    services_str = \", \".join(enabled_services)\n",
    "    print(f\"{model.name:<20} {model.owner:<25} {tags_str:<25} {services_str:<25}\")"
   ]
  },
  {
   "cell_type": "code",
   "execution_count": 13,
   "metadata": {},
   "outputs": [
    {
     "name": "stderr",
     "output_type": "stream",
     "text": [
      "\u001b[34m2025-08-19 19:58:27 - syft_nsai_sdk.main - INFO - Discovered 1 models (health_check=False)\u001b[0m\n"
     ]
    },
    {
     "data": {
      "text/plain": [
       "'============================================================\\nModel: syft-sdk\\n============================================================\\nOwner: callis@openmined.org\\nSummary: This is syft sdk.\\nDescription: This is the syft sdk.\\nConfig Status: Active\\n\\nServices:\\n  • Chat: ✅ Enabled (Free)\\n  • Search: ❌ Disabled (Free)\\n\\nTags: chat, opensource, news\\n\\nPricing: Free\\n\\nMetadata: /Users/callisezenwaka/SyftBox/datasites/callis@openmined.org/public/routers/syft-sdk/metadata.json'"
      ]
     },
     "execution_count": 13,
     "metadata": {},
     "output_type": "execute_result"
    }
   ],
   "source": [
    "# model = client.find_model(model_name=\"syft-sdk\")\n",
    "model = client.show_model_details(model_name=\"syft-sdk\")\n",
    "model"
   ]
  },
  {
   "cell_type": "code",
   "execution_count": 14,
   "metadata": {},
   "outputs": [
    {
     "name": "stderr",
     "output_type": "stream",
     "text": [
      "\u001b[34m2025-08-19 19:58:27 - syft_nsai_sdk.main - INFO - Discovered 1 models (health_check=False)\u001b[0m\n"
     ]
    },
    {
     "data": {
      "text/plain": [
       "'============================================================\\nModel: public-tinnyllama\\n============================================================\\nOwner: irina@openmined.org\\nSummary: Public Ollama:tinyllama model hosted for experimentation\\nDescription: Try it out!\\nConfig Status: Active\\n\\nServices:\\n  • Chat: ✅ Enabled (Free)\\n  • Search: ❌ Disabled (Free)\\n\\nTags: ollama, opensource, tinyllama\\n\\nPricing: Free\\n\\nMetadata: /Users/callisezenwaka/SyftBox/datasites/irina@openmined.org/public/routers/public-tinnyllama/metadata.json'"
      ]
     },
     "execution_count": 14,
     "metadata": {},
     "output_type": "execute_result"
    }
   ],
   "source": [
    "# public-tinnyllama\n",
    "model = client.show_model_details(model_name=\"public-tinnyllama\")\n",
    "model"
   ]
  },
  {
   "cell_type": "code",
   "execution_count": 15,
   "metadata": {},
   "outputs": [
    {
     "name": "stdout",
     "output_type": "stream",
     "text": [
      "SYFTBOX_ACCOUNTING_EMAIL: callis@openmined.org\n",
      "SYFTBOX_ACCOUNTING_URL: https://syftaccounting.centralus.cloudapp.azure.com/\n"
     ]
    }
   ],
   "source": [
    "# Check env vars are loaded\n",
    "import os\n",
    "\n",
    "email = os.getenv('SYFTBOX_ACCOUNTING_EMAIL')\n",
    "password = os.getenv('SYFTBOX_ACCOUNTING_PASSWORD')\n",
    "service_url = os.getenv('SYFTBOX_ACCOUNTING_URL')\n",
    "print(f\"SYFTBOX_ACCOUNTING_EMAIL: {email}\")\n",
    "# print(f\"SYFTBOX_ACCOUNTING_PASSWORD: {password}\")\n",
    "print(f\"SYFTBOX_ACCOUNTING_URL: {service_url}\")"
   ]
  },
  {
   "cell_type": "code",
   "execution_count": 16,
   "metadata": {},
   "outputs": [
    {
     "name": "stderr",
     "output_type": "stream",
     "text": [
      "\u001b[34m2025-08-19 19:58:27 - syft_nsai_sdk.main - INFO - Using syftbox accounting service URL: https://syftaccounting.centralus.cloudapp.azure.com/\u001b[0m\n",
      "\u001b[34m2025-08-19 19:58:28 - syft_nsai_sdk.main - INFO - Accounting configured for callis@openmined.org\u001b[0m\n",
      "\u001b[34m2025-08-19 19:58:28 - syft_nsai_sdk.main - INFO - Accounting setup successful\u001b[0m\n"
     ]
    }
   ],
   "source": [
    "# Set up accounting service\n",
    "# client = SyftBoxClient(auto_setup_accounting=False)\n",
    "\n",
    "# Sign in to accounting service\n",
    "await client.setup_accounting(email, password, service_url)"
   ]
  },
  {
   "cell_type": "code",
   "execution_count": 17,
   "metadata": {},
   "outputs": [
    {
     "name": "stdout",
     "output_type": "stream",
     "text": [
      "✅ Accounting configured\n",
      "   Email: callis@openmined.org\n",
      "   Balance: $20.0\n",
      "   Can use both free and paid models\n"
     ]
    }
   ],
   "source": [
    "# Check status\n",
    "print(client.show_accounting_status())\n",
    "# ✅ Accounting configured\n",
    "#    Email: user@example.com\n",
    "#    Balance: $25.50\n",
    "#    Can use both free and paid models"
   ]
  },
  {
   "cell_type": "code",
   "execution_count": 16,
   "metadata": {},
   "outputs": [
    {
     "name": "stdout",
     "output_type": "stream",
     "text": [
      "{'email': 'callis@openmined.org', 'balance': 20.0, 'currency': 'USD'}\n"
     ]
    }
   ],
   "source": [
    "print(await client.get_account_info())"
   ]
  },
  {
   "cell_type": "code",
   "execution_count": 18,
   "metadata": {},
   "outputs": [
    {
     "name": "stderr",
     "output_type": "stream",
     "text": [
      "\u001b[34m2025-08-19 19:58:44 - syft_nsai_sdk.main - INFO - Discovered 1 models (health_check=False)\u001b[0m\n"
     ]
    }
   ],
   "source": [
    "# STEP 3: Pick and use a specific model \n",
    "# Pick and use a specific model  \n",
    "# chosen_model = model_details[0]\n",
    "# models = client.list_models(format=\"json\")\n",
    "response = await client.chat(\n",
    "    model_name=\"syft-sdk\",\n",
    "    owner=\"callis@openmined.org\", \n",
    "    prompt=\"Hello! Testing the API\",\n",
    "    temperature=0.7,\n",
    "    max_tokens=200\n",
    ")"
   ]
  },
  {
   "cell_type": "code",
   "execution_count": 19,
   "metadata": {},
   "outputs": [
    {
     "name": "stdout",
     "output_type": "stream",
     "text": [
      "Response:\n",
      "ChatResponse(id='67ce5e33-0bce-4013-a7c3-5b5bbe504a9e', model='syft-sdk', message=ChatMessage(role='assistant', content=\"{'request_id': 'b2e2c3c6-da70-47d5-8a76-84ff0c1fb8f6', 'data': {'message': {'body': {'detail': 'Chat completion failed'}, 'created': '2025-08-19T18:58:44.979053Z', 'expires': '2025-08-20T18:58:44.895734Z', 'headers': {'content-length': '35', 'content-type': 'application/json'}, 'id': 'b2e2c3c6-da70-47d5-8a76-84ff0c1fb8f6', 'method': '', 'sender': 'callis@openmined.org', 'status_code': 500, 'url': 'syft://callis@openmined.org/app_data/syft-sdk/rpc/chat'}}}\", name=None), usage=ChatUsage(prompt_tokens=0, completion_tokens=0, total_tokens=0), cost=None, provider_info=None)\n"
     ]
    }
   ],
   "source": [
    "print(f\"Response:\\n{response}\")"
   ]
  },
  {
   "cell_type": "code",
   "execution_count": 20,
   "metadata": {},
   "outputs": [
    {
     "name": "stderr",
     "output_type": "stream",
     "text": [
      "\u001b[34m2025-08-19 19:58:53 - syft_nsai_sdk.main - INFO - Discovered 1 models (health_check=False)\u001b[0m\n"
     ]
    },
    {
     "ename": "PollingTimeoutError",
     "evalue": "RPC_ERROR: Polling timed out after 20/20 attempts",
     "output_type": "error",
     "traceback": [
      "\u001b[31m---------------------------------------------------------------------------\u001b[39m",
      "\u001b[31mPollingTimeoutError\u001b[39m                       Traceback (most recent call last)",
      "\u001b[36mCell\u001b[39m\u001b[36m \u001b[39m\u001b[32mIn[20]\u001b[39m\u001b[32m, line 5\u001b[39m\n\u001b[32m      1\u001b[39m \u001b[38;5;66;03m# STEP 3: Pick and use a specific model \u001b[39;00m\n\u001b[32m      2\u001b[39m \u001b[38;5;66;03m# Pick and use a specific model  \u001b[39;00m\n\u001b[32m      3\u001b[39m \u001b[38;5;66;03m# chosen_model = model_details[0]\u001b[39;00m\n\u001b[32m      4\u001b[39m \u001b[38;5;66;03m# models = client.list_models(format=\"json\")\u001b[39;00m\n\u001b[32m----> \u001b[39m\u001b[32m5\u001b[39m response = \u001b[38;5;28;01mawait\u001b[39;00m client.chat(\n\u001b[32m      6\u001b[39m     model_name=\u001b[33m\"\u001b[39m\u001b[33mpublic-tinnyllama\u001b[39m\u001b[33m\"\u001b[39m,\n\u001b[32m      7\u001b[39m     owner=\u001b[33m\"\u001b[39m\u001b[33mirina@openmined.org\u001b[39m\u001b[33m\"\u001b[39m, \n\u001b[32m      8\u001b[39m     prompt=\u001b[33m\"\u001b[39m\u001b[33mHello! Testing the API\u001b[39m\u001b[33m\"\u001b[39m,\n\u001b[32m      9\u001b[39m     temperature=\u001b[32m0.7\u001b[39m,\n\u001b[32m     10\u001b[39m     max_tokens=\u001b[32m200\u001b[39m\n\u001b[32m     11\u001b[39m )\n",
      "\u001b[36mFile \u001b[39m\u001b[32m~/Documents/projects/openmined/syft-nsai-sdk/syft_nsai_sdk/main.py:360\u001b[39m, in \u001b[36mSyftBoxClient.chat\u001b[39m\u001b[34m(self, model_name, prompt, owner, temperature, max_tokens, auto_pay, **kwargs)\u001b[39m\n\u001b[32m    357\u001b[39m \u001b[38;5;28;01mfrom\u001b[39;00m\u001b[38;5;250m \u001b[39m\u001b[34;01m.\u001b[39;00m\u001b[34;01mservices\u001b[39;00m\u001b[34;01m.\u001b[39;00m\u001b[34;01mchat\u001b[39;00m\u001b[38;5;250m \u001b[39m\u001b[38;5;28;01mimport\u001b[39;00m ChatService\n\u001b[32m    358\u001b[39m chat_service = ChatService(model, \u001b[38;5;28mself\u001b[39m.rpc_client)\n\u001b[32m--> \u001b[39m\u001b[32m360\u001b[39m \u001b[38;5;28;01mreturn\u001b[39;00m \u001b[38;5;28;01mawait\u001b[39;00m chat_service.send_message_with_params(chat_params)\n",
      "\u001b[36mFile \u001b[39m\u001b[32m~/Documents/projects/openmined/syft-nsai-sdk/syft_nsai_sdk/services/chat.py:85\u001b[39m, in \u001b[36mChatService.send_message_with_params\u001b[39m\u001b[34m(self, params)\u001b[39m\n\u001b[32m     82\u001b[39m     payload[\u001b[33m\"\u001b[39m\u001b[33moptions\u001b[39m\u001b[33m\"\u001b[39m] = options\n\u001b[32m     84\u001b[39m \u001b[38;5;66;03m# Make RPC call\u001b[39;00m\n\u001b[32m---> \u001b[39m\u001b[32m85\u001b[39m response_data = \u001b[38;5;28;01mawait\u001b[39;00m \u001b[38;5;28mself\u001b[39m.rpc_client.call_chat(\u001b[38;5;28mself\u001b[39m.model_info, payload)\n\u001b[32m     86\u001b[39m \u001b[38;5;28;01mreturn\u001b[39;00m \u001b[38;5;28mself\u001b[39m._parse_rpc_response(response_data)\n",
      "\u001b[36mFile \u001b[39m\u001b[32m~/Documents/projects/openmined/syft-nsai-sdk/syft_nsai_sdk/networking/rpc_client.py:427\u001b[39m, in \u001b[36mSyftBoxRPCClient.call_chat\u001b[39m\u001b[34m(self, model_info, request_data)\u001b[39m\n\u001b[32m    417\u001b[39m \u001b[38;5;250m\u001b[39m\u001b[33;03m\"\"\"Call the chat endpoint of a model.\u001b[39;00m\n\u001b[32m    418\u001b[39m \u001b[33;03m\u001b[39;00m\n\u001b[32m    419\u001b[39m \u001b[33;03mArgs:\u001b[39;00m\n\u001b[32m   (...)\u001b[39m\u001b[32m    424\u001b[39m \u001b[33;03m    Chat response data\u001b[39;00m\n\u001b[32m    425\u001b[39m \u001b[33;03m\"\"\"\u001b[39;00m\n\u001b[32m    426\u001b[39m syft_url = \u001b[38;5;28mself\u001b[39m.build_syft_url(model_info.owner, model_info.name, \u001b[33m\"\u001b[39m\u001b[33mchat\u001b[39m\u001b[33m\"\u001b[39m)\n\u001b[32m--> \u001b[39m\u001b[32m427\u001b[39m \u001b[38;5;28;01mreturn\u001b[39;00m \u001b[38;5;28;01mawait\u001b[39;00m \u001b[38;5;28mself\u001b[39m.call_rpc(syft_url, request_data)\n",
      "\u001b[36mFile \u001b[39m\u001b[32m~/Documents/projects/openmined/syft-nsai-sdk/syft_nsai_sdk/networking/rpc_client.py:171\u001b[39m, in \u001b[36mSyftBoxRPCClient.call_rpc\u001b[39m\u001b[34m(self, syft_url, payload, headers)\u001b[39m\n\u001b[32m    168\u001b[39m         \u001b[38;5;28;01mraise\u001b[39;00m RPCError(\u001b[33m\"\u001b[39m\u001b[33mAsync response but no poll URL found\u001b[39m\u001b[33m\"\u001b[39m, syft_url)\n\u001b[32m    170\u001b[39m     \u001b[38;5;66;03m# Poll for the actual response\u001b[39;00m\n\u001b[32m--> \u001b[39m\u001b[32m171\u001b[39m     \u001b[38;5;28;01mreturn\u001b[39;00m \u001b[38;5;28;01mawait\u001b[39;00m \u001b[38;5;28mself\u001b[39m._poll_for_response(poll_url_path, syft_url, request_id)\n\u001b[32m    173\u001b[39m \u001b[38;5;28;01melse\u001b[39;00m:\n\u001b[32m    174\u001b[39m     \u001b[38;5;66;03m# Error response\u001b[39;00m\n\u001b[32m    175\u001b[39m     \u001b[38;5;28;01mtry\u001b[39;00m:\n",
      "\u001b[36mFile \u001b[39m\u001b[32m~/Documents/projects/openmined/syft-nsai-sdk/syft_nsai_sdk/networking/rpc_client.py:402\u001b[39m, in \u001b[36mSyftBoxRPCClient._poll_for_response\u001b[39m\u001b[34m(self, poll_url_path, syft_url, request_id)\u001b[39m\n\u001b[32m    399\u001b[39m             \u001b[38;5;28;01mraise\u001b[39;00m PollingError(\u001b[33mf\u001b[39m\u001b[33m\"\u001b[39m\u001b[33mNetwork error during polling: \u001b[39m\u001b[38;5;132;01m{\u001b[39;00me\u001b[38;5;132;01m}\u001b[39;00m\u001b[33m\"\u001b[39m, syft_url, poll_url)\n\u001b[32m    401\u001b[39m \u001b[38;5;66;03m# Max attempts reached\u001b[39;00m\n\u001b[32m--> \u001b[39m\u001b[32m402\u001b[39m \u001b[38;5;28;01mraise\u001b[39;00m PollingTimeoutError(syft_url, \u001b[38;5;28mself\u001b[39m.max_poll_attempts, \u001b[38;5;28mself\u001b[39m.max_poll_attempts)\n",
      "\u001b[31mPollingTimeoutError\u001b[39m: RPC_ERROR: Polling timed out after 20/20 attempts"
     ]
    }
   ],
   "source": [
    "# STEP 3: Pick and use a specific model \n",
    "# Pick and use a specific model  \n",
    "# chosen_model = model_details[0]\n",
    "# models = client.list_models(format=\"json\")\n",
    "response = await client.chat(\n",
    "    model_name=\"public-tinnyllama\",\n",
    "    owner=\"irina@openmined.org\", \n",
    "    prompt=\"Hello! Testing the API\",\n",
    "    temperature=0.7,\n",
    "    max_tokens=200\n",
    ")"
   ]
  },
  {
   "cell_type": "code",
   "execution_count": 21,
   "metadata": {},
   "outputs": [
    {
     "name": "stdout",
     "output_type": "stream",
     "text": [
      "Response:\n",
      "ChatResponse(id='67ce5e33-0bce-4013-a7c3-5b5bbe504a9e', model='syft-sdk', message=ChatMessage(role='assistant', content=\"{'request_id': 'b2e2c3c6-da70-47d5-8a76-84ff0c1fb8f6', 'data': {'message': {'body': {'detail': 'Chat completion failed'}, 'created': '2025-08-19T18:58:44.979053Z', 'expires': '2025-08-20T18:58:44.895734Z', 'headers': {'content-length': '35', 'content-type': 'application/json'}, 'id': 'b2e2c3c6-da70-47d5-8a76-84ff0c1fb8f6', 'method': '', 'sender': 'callis@openmined.org', 'status_code': 500, 'url': 'syft://callis@openmined.org/app_data/syft-sdk/rpc/chat'}}}\", name=None), usage=ChatUsage(prompt_tokens=0, completion_tokens=0, total_tokens=0), cost=None, provider_info=None)\n"
     ]
    }
   ],
   "source": [
    "print(f\"Response:\\n{response}\")"
   ]
  },
  {
   "cell_type": "code",
   "execution_count": null,
   "metadata": {},
   "outputs": [],
   "source": [
    "response = await client.chat(\n",
    "    model_name=\"public-tinnyllama\",\n",
    "    owner=\"irina@openmined.org\", \n",
    "    prompt=\"Hello! Testing the API\",\n",
    "    temperature=0.7,\n",
    "    max_tokens=200\n",
    ")\n",
    "\n",
    "print(f\"Response:\\n{response}\")\n",
    "# syft://irina@openmined.org/app_data/public-tinnyllama/rpc/chat\n",
    "# syft://irina@openmined.org/app_data/public-tinnyllama/rpc/chat"
   ]
  },
  {
   "cell_type": "markdown",
   "metadata": {},
   "source": [
    "## 1. Check SDK Status"
   ]
  },
  {
   "cell_type": "code",
   "execution_count": 3,
   "metadata": {},
   "outputs": [
    {
     "name": "stderr",
     "output_type": "stream",
     "text": [
      "\u001b[34m2025-08-15 15:09:05 - syft_nsai_sdk.sdk - INFO - SyftBox SDK Status:\u001b[0m\n",
      "\u001b[34m2025-08-15 15:09:05 - syft_nsai_sdk.sdk - INFO - SyftBox SDK Status:\u001b[0m\n",
      "\u001b[34m2025-08-15 15:09:05 - syft_nsai_sdk.sdk - INFO -    Config Exists: Yes\u001b[0m\n",
      "\u001b[34m2025-08-15 15:09:05 - syft_nsai_sdk.sdk - INFO -    Config Exists: Yes\u001b[0m\n",
      "\u001b[34m2025-08-15 15:09:05 - syft_nsai_sdk.sdk - INFO -    Authenticated: Yes\u001b[0m\n",
      "\u001b[34m2025-08-15 15:09:05 - syft_nsai_sdk.sdk - INFO -    Authenticated: Yes\u001b[0m\n",
      "\u001b[34m2025-08-15 15:09:05 - syft_nsai_sdk.sdk - INFO -    Auth Manager: Yes\u001b[0m\n",
      "\u001b[34m2025-08-15 15:09:05 - syft_nsai_sdk.sdk - INFO -    Auth Manager: Yes\u001b[0m\n",
      "\u001b[34m2025-08-15 15:09:05 - syft_nsai_sdk.sdk - INFO -    User: callis@openmined.org\u001b[0m\n",
      "\u001b[34m2025-08-15 15:09:05 - syft_nsai_sdk.sdk - INFO -    User: callis@openmined.org\u001b[0m\n",
      "\u001b[34m2025-08-15 15:09:05 - syft_nsai_sdk.sdk - INFO -    Server: https://syftbox.net\u001b[0m\n",
      "\u001b[34m2025-08-15 15:09:05 - syft_nsai_sdk.sdk - INFO -    Server: https://syftbox.net\u001b[0m\n",
      "\u001b[34m2025-08-15 15:09:05 - syft_nsai_sdk.sdk - INFO -    Data Dir: /Users/callisezenwaka/SyftBox\u001b[0m\n",
      "\u001b[34m2025-08-15 15:09:05 - syft_nsai_sdk.sdk - INFO -    Data Dir: /Users/callisezenwaka/SyftBox\u001b[0m\n",
      "\u001b[32m2025-08-15 15:09:05 - syft_nsai_sdk - SUCCESS - 🔐 Authenticated: <function is_authenticated at 0x113fc1bc0>\u001b[0m\n",
      "\u001b[34m2025-08-15 15:09:05 - syft_nsai_sdk - INFO - 👤 Current user: <function current_user at 0x113fc1b20>\u001b[0m\n"
     ]
    },
    {
     "name": "stdout",
     "output_type": "stream",
     "text": [
      "📊 Checking SDK status...\n"
     ]
    }
   ],
   "source": [
    "# Check if SDK is properly configured\n",
    "print(\"📊 Checking SDK status...\")\n",
    "status_info = sb.status()\n",
    "\n",
    "logger.success(f\"🔐 Authenticated: {sb.is_authenticated}\")\n",
    "if sb.current_user:\n",
    "    logger.info(f\"👤 Current user: {sb.current_user}\")"
   ]
  },
  {
   "cell_type": "markdown",
   "metadata": {},
   "source": [
    "## 2. Discover Models"
   ]
  },
  {
   "cell_type": "markdown",
   "metadata": {},
   "source": [
    "## 3. Filter Models by Tags"
   ]
  },
  {
   "cell_type": "code",
   "execution_count": 5,
   "metadata": {},
   "outputs": [
    {
     "name": "stdout",
     "output_type": "stream",
     "text": [
      "\n",
      "Looking for 'news' models...\n",
      "Found 2 models with 'news' tag\n",
      "  - the-city by speters@thecity.nyc | Services: ['search']\n",
      "  - ionesio-router by ionesio@openmined.org | Services: ['search']\n",
      "\n",
      "Looking for 'AI' models...\n",
      "Found 1 models with 'AI' tag\n",
      "  - shubham-router by shubham@openmined.org | Services: ['search']\n",
      "\n",
      "Looking for 'test' models...\n",
      "Found 1 models with 'test' tag\n",
      "  - callis by callis@openmined.org | Services: ['chat']\n",
      "\n",
      "Looking for 'chat' models...\n",
      "Found 1 models with 'chat' tag\n",
      "  - claude-sonnet-3.5 by aggregator@openmined.org | Services: ['chat', 'search']\n",
      "\n",
      "Looking for 'ollama' models...\n",
      "Found 2 models with 'ollama' tag\n",
      "  - public-tinnyllama by irina@openmined.org | Services: ['chat']\n",
      "  - ollama-model by irina@openmined.org | Services: ['chat']\n",
      "\n",
      "Looking for 'nlp' models...\n",
      "Found 0 models with 'nlp' tag\n",
      "\n",
      "Looking for 'search' models...\n",
      "Found 0 models with 'search' tag\n",
      "\n",
      "Looking for 'chat' models...\n",
      "Found 1 models with 'chat' tag\n",
      "  - claude-sonnet-3.5 by aggregator@openmined.org | Services: ['chat', 'search']\n"
     ]
    }
   ],
   "source": [
    "# Search for models with specific tags\n",
    "test_tags = [\"news\", \"AI\", \"test\", \"chat\", \"ollama\", \"nlp\", \"search\", \"chat\"]\n",
    "\n",
    "for tag in test_tags:\n",
    "    print(f\"\\nLooking for '{tag}' models...\")\n",
    "    tagged_models = sb.find_models(tags=[tag])\n",
    "    print(f\"Found {len(tagged_models)} models with '{tag}' tag\")\n",
    "    \n",
    "    if tagged_models:\n",
    "        for model in tagged_models:\n",
    "            print(f\"  - {model.name} by {model.owner} | Services: {model.services}\")"
   ]
  },
  {
   "cell_type": "markdown",
   "metadata": {},
   "source": [
    "## 4. Test Model Interaction"
   ]
  },
  {
   "cell_type": "code",
   "execution_count": 10,
   "metadata": {},
   "outputs": [
    {
     "name": "stdout",
     "output_type": "stream",
     "text": [
      "🤖 Testing interaction with: shubham-router\n",
      "   Owner: shubham@openmined.org\n",
      "   Services: ['search']\n",
      "   Tags: ['AI']\n",
      "   Status: available\n",
      "\n",
      "🔍 Testing search service...\n"
     ]
    },
    {
     "name": "stderr",
     "output_type": "stream",
     "text": [
      "\u001b[31m2025-08-14 18:30:37 - syft_nsai_sdk - ERROR - ❌ Search failed: Failed to call service 'search': RPC request failed with status 401: {\"code\":\"E_AUTH_INVALID_CREDENTIALS\",\"error\":\"invalid access token: token signature is invalid: signature is invalid\"}\n",
      "\u001b[0m\n"
     ]
    }
   ],
   "source": [
    "# Test model interaction if models are available\n",
    "if all_models:\n",
    "    test_model = all_models[0]\n",
    "    print(f\"🤖 Testing interaction with: {test_model.name}\")\n",
    "    print(f\"   Owner: {test_model.owner}\")\n",
    "    print(f\"   Services: {test_model.services}\")\n",
    "    print(f\"   Tags: {test_model.tags}\")\n",
    "    print(f\"   Status: {test_model.status}\")\n",
    "    \n",
    "    # Test chat if available\n",
    "    if \"chat\" in test_model.services:\n",
    "        print(\"\\n💬 Testing chat service...\")\n",
    "        try:\n",
    "            response = test_model.chat(\n",
    "                \"Hello! This is a test message from the development notebook.\",\n",
    "                temperature=0.7,\n",
    "                max_tokens=50\n",
    "            )\n",
    "            print(f\"✅ Chat Response: {response}\")\n",
    "        except Exception as e:\n",
    "            logger.error(f\"❌ Chat failed: {e}\")\n",
    "    \n",
    "    # Test search if available\n",
    "    if \"search\" in test_model.services:\n",
    "        print(\"\\n🔍 Testing search service...\")\n",
    "        try:\n",
    "            results = test_model.search(\"test query\")\n",
    "            logger.success(f\"✅ Search Results: {results[:200]}...\")\n",
    "        except Exception as e:\n",
    "            logger.error(f\"❌ Search failed: {e}\")\n",
    "else:\n",
    "    print(\"⚠️ No models available for testing\")"
   ]
  },
  {
   "cell_type": "markdown",
   "metadata": {},
   "source": [
    "## 5. Test Different Owner Filters"
   ]
  },
  {
   "cell_type": "code",
   "execution_count": 7,
   "metadata": {},
   "outputs": [
    {
     "name": "stdout",
     "output_type": "stream",
     "text": [
      "📊 Found 7 unique model owners:\n",
      "\n",
      "👤 Models by callis@openmined.org:\n",
      "  - callis | ['chat']\n",
      "\n",
      "👤 Models by irina@openmined.org:\n",
      "  - public-tinnyllama | ['chat']\n",
      "  - openmined-about | ['search']\n",
      "  - ollama-model | ['chat']\n",
      "\n",
      "👤 Models by shubham@openmined.org:\n",
      "  - shubham-router | ['search']\n"
     ]
    }
   ],
   "source": [
    "# Test filtering by specific owners\n",
    "if all_models:\n",
    "    unique_owners = list(set(model.owner for model in all_models))\n",
    "    print(f\"📊 Found {len(unique_owners)} unique model owners:\")\n",
    "    \n",
    "    for owner in unique_owners[:3]:  # Test first 3 owners\n",
    "        print(f\"\\n👤 Models by {owner}:\")\n",
    "        owner_models = sb.find_models(owners=[owner])\n",
    "        for model in owner_models:\n",
    "            print(f\"  - {model.name} | {model.services}\")"
   ]
  },
  {
   "cell_type": "markdown",
   "metadata": {},
   "source": [
    "## 6. Performance Testing"
   ]
  },
  {
   "cell_type": "code",
   "execution_count": 8,
   "metadata": {},
   "outputs": [
    {
     "name": "stdout",
     "output_type": "stream",
     "text": [
      "⏱️ Performance Testing...\n",
      "📈 Model Discovery: 0.01s for 10 models\n",
      "🔍 Model Lookup: 0.00s\n",
      "✅ Found: shubham-router\n"
     ]
    }
   ],
   "source": [
    "import time\n",
    "\n",
    "# Test discovery performance\n",
    "print(\"⏱️ Performance Testing...\")\n",
    "\n",
    "start_time = time.time()\n",
    "models = sb.get_models()\n",
    "discovery_time = time.time() - start_time\n",
    "\n",
    "print(f\"📈 Model Discovery: {discovery_time:.2f}s for {len(models)} models\")\n",
    "\n",
    "if models:\n",
    "    # Test individual model lookup performance\n",
    "    test_model = models[0]\n",
    "    \n",
    "    start_time = time.time()\n",
    "    found_model = sb.get_model(test_model.name, owner=test_model.owner)\n",
    "    lookup_time = time.time() - start_time\n",
    "    \n",
    "    print(f\"🔍 Model Lookup: {lookup_time:.2f}s\")\n",
    "    print(f\"✅ Found: {found_model.name if found_model else 'Not found'}\")"
   ]
  },
  {
   "cell_type": "markdown",
   "metadata": {},
   "source": [
    "## 7. Error Handling Tests"
   ]
  },
  {
   "cell_type": "code",
   "execution_count": 11,
   "metadata": {},
   "outputs": [
    {
     "name": "stdout",
     "output_type": "stream",
     "text": [
      "Testing error handling...\n",
      "Non-existent model result: None\n",
      "✅ Invalid tag search returned 0 results (expected 0)\n",
      "✅ Error handling tests completed\n"
     ]
    }
   ],
   "source": [
    "# Test error handling\n",
    "print(\"Testing error handling...\")\n",
    "\n",
    "# Test non-existent model\n",
    "try:\n",
    "    fake_model = sb.get_model(\"non-existent-model-12345\")\n",
    "    print(f\"Non-existent model result: {fake_model}\")\n",
    "except Exception as e:\n",
    "    logger.error(f\"❌ Expected error for non-existent model: {e}\")\n",
    "\n",
    "# Test invalid filters\n",
    "try:\n",
    "    empty_results = sb.find_models(tags=[\"non-existent-tag-12345\"])\n",
    "    print(f\"✅ Invalid tag search returned {len(empty_results)} results (expected 0)\")\n",
    "except Exception as e:\n",
    "    logger.error(f\"❌ Unexpected error with invalid tags: {e}\")\n",
    "\n",
    "print(\"✅ Error handling tests completed\")"
   ]
  },
  {
   "cell_type": "markdown",
   "metadata": {},
   "source": [
    "## 8. Development Notes\n",
    "\n",
    "Use this section to test new features or debug issues:"
   ]
  },
  {
   "cell_type": "code",
   "execution_count": null,
   "metadata": {},
   "outputs": [],
   "source": [
    "# Scratch space for development testing\n",
    "print(\"🔧 Development testing area\")\n",
    "\n",
    "# Add your test code here\n",
    "# Example:\n",
    "# models = sb.find_models(name=\"specific-model\")\n",
    "# print(f\"Specific search: {len(models)} results\")"
   ]
  }
 ],
 "metadata": {
  "kernelspec": {
   "display_name": "Python 3 (ipykernel)",
   "language": "python",
   "name": "python3"
  },
  "language_info": {
   "codemirror_mode": {
    "name": "ipython",
    "version": 3
   },
   "file_extension": ".py",
   "mimetype": "text/x-python",
   "name": "python",
   "nbconvert_exporter": "python",
   "pygments_lexer": "ipython3",
   "version": "3.12.9"
  }
 },
 "nbformat": 4,
 "nbformat_minor": 4
}

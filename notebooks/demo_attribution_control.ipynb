{
 "cells": [
  {
   "cell_type": "markdown",
   "metadata": {},
   "source": [
    "# SyftHub SDK Demo: Attribution-Based Control Pipeline\n",
    "\n",
    "This notebook demonstrates:\n",
    "1. Connecting to the SyftHub\n",
    "2. Exploring available services\n",
    "3. Choose your data sources\n",
    "4. Your First Query using FedRAG Pipeline\n"
   ]
  },
  {
   "cell_type": "code",
   "execution_count": null,
   "metadata": {},
   "outputs": [],
   "source": [
    "!uv pip install -e ../"
   ]
  },
  {
   "cell_type": "code",
   "execution_count": null,
   "metadata": {},
   "outputs": [],
   "source": [
    "# Initialize the client and connect to your account\n",
    "from syft_hub import Client\n",
    "\n",
    "client = Client()\n",
    "client"
   ]
  },
  {
   "cell_type": "code",
   "execution_count": null,
   "metadata": {},
   "outputs": [],
   "source": [
    "client.accounting_client"
   ]
  },
  {
   "cell_type": "markdown",
   "metadata": {},
   "source": [
    "## 2. Explore Available Services"
   ]
  },
  {
   "cell_type": "code",
   "execution_count": null,
   "metadata": {},
   "outputs": [],
   "source": [
    "# Get and display all available services\n",
    "services = client.show_services()"
   ]
  },
  {
   "cell_type": "markdown",
   "metadata": {},
   "source": [
    "## 3. Choose your data source and model"
   ]
  },
  {
   "cell_type": "code",
   "execution_count": null,
   "metadata": {},
   "outputs": [],
   "source": [
    "openmined_data = client.load_service(\"irina@openmined.org/openmined-about\") \n",
    "openmined_data"
   ]
  },
  {
   "cell_type": "code",
   "execution_count": null,
   "metadata": {},
   "outputs": [],
   "source": [
    "claude_llm = client.load_service(\"aggregator@openmined.org/claude-sonnet-3.5\")\n",
    "claude_llm"
   ]
  },
  {
   "cell_type": "code",
   "execution_count": null,
   "metadata": {},
   "outputs": [],
   "source": [
    "# Explore\n",
    "response = client.chat_sync(\n",
    "    service_name=\"aggregator@openmined.org/claude-sonnet-3.5\",\n",
    "    messages=[\n",
    "        {\"role\": \"user\", \"content\": \"What's up bro?\"}\n",
    "    ]\n",
    ")\n",
    "response"
   ]
  },
  {
   "cell_type": "code",
   "execution_count": null,
   "metadata": {},
   "outputs": [],
   "source": [
    "# Explore\n",
    "await openmined_data.search(message=\"attribution-based control\", topK=10)"
   ]
  },
  {
   "cell_type": "markdown",
   "metadata": {},
   "source": [
    "## 4. Your First Query over Network using FedRAG Pipeline"
   ]
  },
  {
   "cell_type": "code",
   "execution_count": null,
   "metadata": {},
   "outputs": [],
   "source": [
    "# Initialize the pipeline with Claude Sonnet 3.5\n",
    "pipeline = client.pipeline(\n",
    "    data_sources=[openmined_data],\n",
    "    synthesizer=claude_llm,\n",
    ")\n",
    "pipeline"
   ]
  },
  {
   "cell_type": "code",
   "execution_count": null,
   "metadata": {},
   "outputs": [],
   "source": [
    "# Define our attribution-based control query\n",
    "query = \"\"\"\n",
    "Explain the concept of attribution-based control in AI systems. \n",
    "Please cover:\n",
    "1. What is attribution-based control and why is it important?\n",
    "2. How can attribution mechanisms help with AI governance?\n",
    "\"\"\"\n",
    "# Execute the query\n",
    "response = pipeline.run(messages=[\n",
    "    {\"role\": \"user\", \"content\": query}\n",
    "])\n",
    "response"
   ]
  },
  {
   "cell_type": "markdown",
   "metadata": {},
   "source": [
    "## 5. Interactive Chat Widget\n",
    "\n",
    "Try the interactive chat widget that lets you have a conversation using the pipeline:"
   ]
  },
  {
   "cell_type": "code",
   "execution_count": null,
   "metadata": {},
   "outputs": [],
   "source": [
    "# Test the interactive widget\n",
    "pipeline.interactive_run()"
   ]
  },
  {
   "cell_type": "code",
   "execution_count": null,
   "metadata": {},
   "outputs": [],
   "source": []
  }
 ],
 "metadata": {
  "kernelspec": {
   "display_name": ".venv",
   "language": "python",
   "name": "python3"
  },
  "language_info": {
   "codemirror_mode": {
    "name": "ipython",
    "version": 3
   },
   "file_extension": ".py",
   "mimetype": "text/x-python",
   "name": "python",
   "nbconvert_exporter": "python",
   "pygments_lexer": "ipython3",
   "version": "3.13.2"
  }
 },
 "nbformat": 4,
 "nbformat_minor": 4
}

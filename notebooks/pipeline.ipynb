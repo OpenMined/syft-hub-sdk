{
 "cells": [
  {
   "cell_type": "markdown",
   "metadata": {},
   "source": [
    "# SyftBox SDK Development Testing\n",
    "\n",
    "This notebook is for testing and validating the SyftBox SDK during development."
   ]
  },
  {
   "cell_type": "code",
   "execution_count": 1,
   "metadata": {},
   "outputs": [],
   "source": [
    "%%capture output --no-stderr\n",
    "\n",
    "# Install async module\n",
    "!uv pip install nest_asyncio"
   ]
  },
  {
   "cell_type": "code",
   "execution_count": 2,
   "metadata": {},
   "outputs": [],
   "source": [
    "# Import the SDK\n",
    "import syft_nsai_sdk as sdk\n",
    "import nest_asyncio\n",
    "import httpx\n",
    "import logging\n",
    "import os"
   ]
  },
  {
   "cell_type": "code",
   "execution_count": 3,
   "metadata": {},
   "outputs": [],
   "source": [
    "# Import client\n",
    "from syft_nsai_sdk import Client\n",
    "from syft_nsai_sdk.utils.logger import get_logger"
   ]
  },
  {
   "cell_type": "code",
   "execution_count": 4,
   "metadata": {},
   "outputs": [
    {
     "name": "stderr",
     "output_type": "stream",
     "text": [
      "\u001b[32m2025-09-05 01:50:26 - syft_nsai_sdk - SUCCESS - Logger initialized successfully!\u001b[0m\n"
     ]
    }
   ],
   "source": [
    "# define utilities\n",
    "nest_asyncio.apply()\n",
    "logger = get_logger()\n",
    "logging.getLogger('syft_nsai_sdk').setLevel(logging.INFO)\n",
    "logger.success(\"Logger initialized successfully!\")"
   ]
  },
  {
   "cell_type": "code",
   "execution_count": 5,
   "metadata": {},
   "outputs": [
    {
     "name": "stderr",
     "output_type": "stream",
     "text": [
      "\u001b[34m2025-09-05 01:50:27 - syft_nsai_sdk.core.config - INFO - Using config credentials at path: /Users/callisezenwaka/.syftbox/config.json\u001b[0m\n",
      "\u001b[34m2025-09-05 01:50:27 - syft_nsai_sdk.main - INFO - Found existing accounting credentials for callis@openmined.org\u001b[0m\n",
      "\u001b[34m2025-09-05 01:50:27 - syft_nsai_sdk.main - INFO - Client initialized for callis@openmined.org\u001b[0m\n"
     ]
    }
   ],
   "source": [
    "# Initialize client\n",
    "client = Client()"
   ]
  },
  {
   "cell_type": "markdown",
   "metadata": {},
   "source": [
    "## Basic usage"
   ]
  },
  {
   "cell_type": "code",
   "execution_count": 6,
   "metadata": {},
   "outputs": [
    {
     "name": "stdout",
     "output_type": "stream",
     "text": [
      "✓ Response received                                                             \n",
      "\n"
     ]
    }
   ],
   "source": [
    "# inline service usage - , \"bob@example.com/wiki\"\n",
    "inline_result = client.pipeline(\n",
    "    data_sources=[\"callis@openmined.org/carl-model\", \"callis@openmined.org/carl-free\"], \n",
    "    synthesizer=\"callis@openmined.org/carl-model\"\n",
    ").run(messages=[{\"role\": \"user\", \"content\": \"What is Python?\"}])"
   ]
  },
  {
   "cell_type": "code",
   "execution_count": 7,
   "metadata": {},
   "outputs": [
    {
     "name": "stderr",
     "output_type": "stream",
     "text": [
      "\u001b[34m2025-09-05 01:50:40 - syft_nsai_sdk - INFO - Pipeline result:\n",
      "\n",
      " PyTorch is a deep learning library for Python developed by PyTorch Foundation, an open-source organization. It provides a platform for researchers and data scientists to develop machine learning algorithms and models in a fast, flexible, and easy-to-use way. PyTorch offers features such as automatic differentiation (AD), distributed training, high-performance computing (HPC) support, and various optimizers, including Adam and SGD.\n",
      "\n",
      "Key features of PyTorch include:\n",
      "\n",
      "1. Automatic Differentiation: This feature enables PyTorch to automatically differentiate the users' code during training, reducing the need for manual grading or programming.\n",
      "\n",
      "2. Distributed Training: PyTorch supports distributed training on various HPC platforms such as NVIDIA Tesla and AMD Vulcan. It can also be used in a non-distributed mode for single node training.\n",
      "\n",
      "3. High-Performance Computing (HPC) Support: PyTorch is highly optimized for high-performance computing, offering features like GPU acceleration, threading, and data parallelism to improve the efficiency of its users' code.\n",
      "\n",
      "4. Various Optimizers: PyTorch offers various optimizers such as Adam, SGD, RMSprop, and Momentum, providing users with more control over their learning process.\n",
      "\n",
      "5. In-built Datasets: PyTorch provides built-in datasets for common machine learning problems like ImageNet, CIFAR, UCI, Titanic, and many others. It also offers pretrained models and preprocessing functions for various data sets.\n",
      "\n",
      "6. Flexibility: PyTorch is easy to learn but has a wide range of features that allow users to customize their code for their specific use case.\n",
      "\n",
      "In summary, PyTorch is a powerful and flexible machine learning library designed for both researchers and data scientists. It offers automatic differentiation, distributed training, high-performance computing support, and various optimizers, making it an excellent choice for users seeking to tackle complex problems in machine learning.\u001b[0m\n"
     ]
    }
   ],
   "source": [
    "# show response\n",
    "logger.info(f\"Pipeline result:\\n\\n {inline_result}\")"
   ]
  },
  {
   "cell_type": "code",
   "execution_count": 8,
   "metadata": {},
   "outputs": [
    {
     "name": "stdout",
     "output_type": "stream",
     "text": [
      "✓ Response received                                                             \n",
      "\n"
     ]
    }
   ],
   "source": [
    "# Object-Oriented service usage\n",
    "pipeline = client.create_pipeline()\n",
    "pipeline.add_source(\"callis@openmined.org/sota-free\", topK=8)\n",
    "pipeline.add_source(\"callis@openmined.org/carl-model\", topK=8)\n",
    "pipeline.set_synthesizer(\"callis@openmined.org/sota-free\", temperature=0.7)  \n",
    "oop_result = pipeline.run(messages=[{\"role\": \"user\", \"content\": \"What is Python?\"}])"
   ]
  },
  {
   "cell_type": "code",
   "execution_count": 9,
   "metadata": {},
   "outputs": [
    {
     "name": "stderr",
     "output_type": "stream",
     "text": [
      "\u001b[34m2025-09-05 01:50:52 - syft_nsai_sdk - INFO - Pipeline result:\n",
      "\n",
      " Python (pronounced \"py-then\") is a general-purpose programming language developed by Python Software Foundation. It was originally designed for server computing, but has since gained popularity in the world of web development and data analysis. Its syntax and features are similar to those of other high-level programming languages like C++, Java, and C#, making it a versatile choice for a variety of applications. Here are some key features of Python:\n",
      "\n",
      "1. Easy learning curve: Python is relatively easy to learn due to its intuitive syntax and clear structure. It's designed to be beginner-friendly and accessible to anyone with familiarity with Python, while still allowing advanced users to take advantage of the language's powerful features.\n",
      "\n",
      "2. Large community: Python has a large and active community, with multiple libraries, communities, and forums available for users to explore and connect with other developers. This helps to ensure that the language remains innovative and up-to-date with new technologies and trends in web development.\n",
      "\n",
      "3. Support for multiple platforms: Python is available for Linux, Mac OS X, Microsoft Windows, and various mobile operating systems such as iOS and Android. This versatility makes it an attractive choice for developers who need to write code that works across a wide range of platforms and devices.\n",
      "\n",
      "4. Vibrant community: The Pyton community is known for its active involvement in the development and support of the language, through projects like PyCharm (an integrated development environment) and Pyro (a web framework). This makes it a great choice for developers who want to stay up-to-date with the latest trends and developments in web development.\n",
      "\n",
      "5. Powerful features: Python has a wide range of powerful features, including built-in data structures like lists, dictionaries, and sets, as well as powerful libraries for handling text, graphics, video, and audio files. This makes it a versatile choice for developers who need to work with a variety of different types of data or media formats in their web applications.\n",
      "\n",
      "Overall, Python is a popular choice among web developers due to its ease-of-use, large community, and robust set of features. Whether you're new to Python or an experienced user looking to take your web development skills to the next level, it's worth considering this versatile and popular language for your projects!\u001b[0m\n"
     ]
    }
   ],
   "source": [
    "# show response\n",
    "logger.info(f\"Pipeline result:\\n\\n {oop_result}\")"
   ]
  },
  {
   "cell_type": "markdown",
   "metadata": {},
   "source": [
    "## Advanced usage"
   ]
  },
  {
   "cell_type": "code",
   "execution_count": 10,
   "metadata": {},
   "outputs": [],
   "source": [
    "# Load some services as objects first\n",
    "carl_model = client.load(\"callis@openmined.org/carl-model\") # paid\n",
    "sota_free = client.load(\"callis@openmined.org/sota-free\") # free\n",
    "carl_free = client.load(\"callis@openmined.org/carl-free\") # free\n",
    "carl_claude = client.load(\"callis@openmined.org/carl-claude\") # free"
   ]
  },
  {
   "cell_type": "code",
   "execution_count": 11,
   "metadata": {},
   "outputs": [
    {
     "name": "stdout",
     "output_type": "stream",
     "text": [
      "                                                                                "
     ]
    },
    {
     "name": "stderr",
     "output_type": "stream",
     "text": [
      "\u001b[31m2025-09-05 01:53:02 - syft_nsai_sdk.core.pipeline - ERROR - Search failed for callis@openmined.org/carl-free: RPC_ERROR: Polling timed out after 30/30 attempts\u001b[0m\n"
     ]
    },
    {
     "name": "stdout",
     "output_type": "stream",
     "text": [
      "✓ Response received\n",
      "\n",
      "                                                                                "
     ]
    },
    {
     "name": "stderr",
     "output_type": "stream",
     "text": [
      "\u001b[31m2025-09-05 01:53:03 - syft_nsai_sdk.core.pipeline - ERROR - Search failed for callis@openmined.org/sota-free: RPC_ERROR: Polling timed out after 30/30 attempts\u001b[0m\n",
      "\u001b[33m2025-09-05 01:53:03 - syft_nsai_sdk.core.pipeline - WARNING - Search failed for source callis@openmined.org/sota-free: RPC_ERROR: Polling timed out after 30/30 attempts\u001b[0m\n",
      "\u001b[33m2025-09-05 01:53:03 - syft_nsai_sdk.core.pipeline - WARNING - Search failed for source callis@openmined.org/carl-free: RPC_ERROR: Polling timed out after 30/30 attempts\u001b[0m\n"
     ]
    },
    {
     "name": "stdout",
     "output_type": "stream",
     "text": [
      "✓ Response received\n",
      "\n"
     ]
    },
    {
     "ename": "ValidationError",
     "evalue": "VALIDATION_ERROR: All data source searches failed",
     "output_type": "error",
     "traceback": [
      "\u001b[31m---------------------------------------------------------------------------\u001b[39m",
      "\u001b[31mValidationError\u001b[39m                           Traceback (most recent call last)",
      "\u001b[36mCell\u001b[39m\u001b[36m \u001b[39m\u001b[32mIn[11]\u001b[39m\u001b[32m, line 10\u001b[39m\n\u001b[32m      1\u001b[39m \u001b[38;5;66;03m# Demo mixed input types\u001b[39;00m\n\u001b[32m      2\u001b[39m mixed_result = \u001b[43mclient\u001b[49m\u001b[43m.\u001b[49m\u001b[43mpipeline_mixed\u001b[49m\u001b[43m(\u001b[49m\n\u001b[32m      3\u001b[39m \u001b[43m    \u001b[49m\u001b[43mdata_sources\u001b[49m\u001b[43m=\u001b[49m\u001b[43m[\u001b[49m\n\u001b[32m      4\u001b[39m \u001b[43m        \u001b[49m\u001b[33;43m\"\u001b[39;49m\u001b[33;43mcallis@openmined.org/sota-free\u001b[39;49m\u001b[33;43m\"\u001b[39;49m\u001b[43m,\u001b[49m\u001b[43m           \u001b[49m\u001b[38;5;66;43;03m# String\u001b[39;49;00m\n\u001b[32m      5\u001b[39m \u001b[43m        \u001b[49m\u001b[43mcarl_free\u001b[49m\u001b[43m,\u001b[49m\u001b[43m                                       \u001b[49m\u001b[38;5;66;43;03m# Service object\u001b[39;49;00m\n\u001b[32m      6\u001b[39m \u001b[43m        \u001b[49m\u001b[43m{\u001b[49m\u001b[33;43m\"\u001b[39;49m\u001b[33;43mname\u001b[39;49m\u001b[33;43m\"\u001b[39;49m\u001b[43m:\u001b[49m\u001b[43m \u001b[49m\u001b[33;43m\"\u001b[39;49m\u001b[33;43mcallis@openmined.org/carl-claude\u001b[39;49m\u001b[33;43m\"\u001b[39;49m\u001b[43m,\u001b[49m\u001b[43m \u001b[49m\u001b[33;43m\"\u001b[39;49m\u001b[33;43mtopK\u001b[39;49m\u001b[33;43m\"\u001b[39;49m\u001b[43m:\u001b[49m\u001b[43m \u001b[49m\u001b[32;43m5\u001b[39;49m\u001b[43m}\u001b[49m\u001b[43m,\u001b[49m\u001b[43m  \u001b[49m\u001b[38;5;66;43;03m# Dict with string\u001b[39;49;00m\n\u001b[32m      7\u001b[39m \u001b[43m        \u001b[49m\u001b[43m{\u001b[49m\u001b[33;43m\"\u001b[39;49m\u001b[33;43mname\u001b[39;49m\u001b[33;43m\"\u001b[39;49m\u001b[43m:\u001b[49m\u001b[43m \u001b[49m\u001b[43msota_free\u001b[49m\u001b[43m,\u001b[49m\u001b[43m \u001b[49m\u001b[33;43m\"\u001b[39;49m\u001b[33;43mtopK\u001b[39;49m\u001b[33;43m\"\u001b[39;49m\u001b[43m:\u001b[49m\u001b[43m \u001b[49m\u001b[32;43m8\u001b[39;49m\u001b[43m}\u001b[49m\u001b[43m                   \u001b[49m\u001b[38;5;66;43;03m# Dict with Service object\u001b[39;49;00m\n\u001b[32m      8\u001b[39m \u001b[43m    \u001b[49m\u001b[43m]\u001b[49m\u001b[43m,\u001b[49m\n\u001b[32m      9\u001b[39m \u001b[43m    \u001b[49m\u001b[43msynthesizer\u001b[49m\u001b[43m=\u001b[49m\u001b[43mcarl_model\u001b[49m\u001b[43m  \u001b[49m\u001b[38;5;66;43;03m# Service object as synthesizer\u001b[39;49;00m\n\u001b[32m---> \u001b[39m\u001b[32m10\u001b[39m \u001b[43m)\u001b[49m\u001b[43m.\u001b[49m\u001b[43mrun\u001b[49m\u001b[43m(\u001b[49m\u001b[43mmessages\u001b[49m\u001b[43m=\u001b[49m\u001b[43m[\u001b[49m\u001b[43m{\u001b[49m\u001b[33;43m\"\u001b[39;49m\u001b[33;43mrole\u001b[39;49m\u001b[33;43m\"\u001b[39;49m\u001b[43m:\u001b[49m\u001b[43m \u001b[49m\u001b[33;43m\"\u001b[39;49m\u001b[33;43muser\u001b[39;49m\u001b[33;43m\"\u001b[39;49m\u001b[43m,\u001b[49m\u001b[43m \u001b[49m\u001b[33;43m\"\u001b[39;49m\u001b[33;43mcontent\u001b[39;49m\u001b[33;43m\"\u001b[39;49m\u001b[43m:\u001b[49m\u001b[43m \u001b[49m\u001b[33;43m\"\u001b[39;49m\u001b[33;43mWhat is Python?\u001b[39;49m\u001b[33;43m\"\u001b[39;49m\u001b[43m}\u001b[49m\u001b[43m]\u001b[49m\u001b[43m)\u001b[49m\n",
      "\u001b[36mFile \u001b[39m\u001b[32m~/Documents/projects/openmined/syft-nsai-sdk/syft_nsai_sdk/core/pipeline.py:136\u001b[39m, in \u001b[36mPipeline.run\u001b[39m\u001b[34m(self, messages)\u001b[39m\n\u001b[32m    134\u001b[39m \u001b[38;5;28;01mdef\u001b[39;00m\u001b[38;5;250m \u001b[39m\u001b[34mrun\u001b[39m(\u001b[38;5;28mself\u001b[39m, messages: List[Dict[\u001b[38;5;28mstr\u001b[39m, \u001b[38;5;28mstr\u001b[39m]]) -> PipelineResult:\n\u001b[32m    135\u001b[39m \u001b[38;5;250m    \u001b[39m\u001b[33;03m\"\"\"Execute the pipeline synchronously\"\"\"\u001b[39;00m\n\u001b[32m--> \u001b[39m\u001b[32m136\u001b[39m     \u001b[38;5;28;01mreturn\u001b[39;00m \u001b[43masyncio\u001b[49m\u001b[43m.\u001b[49m\u001b[43mrun\u001b[49m\u001b[43m(\u001b[49m\u001b[38;5;28;43mself\u001b[39;49m\u001b[43m.\u001b[49m\u001b[43mrun_async\u001b[49m\u001b[43m(\u001b[49m\u001b[43mmessages\u001b[49m\u001b[43m)\u001b[49m\u001b[43m)\u001b[49m\n",
      "\u001b[36mFile \u001b[39m\u001b[32m~/Documents/projects/openmined/syft-nsai-sdk/.venv/lib/python3.12/site-packages/nest_asyncio.py:30\u001b[39m, in \u001b[36m_patch_asyncio.<locals>.run\u001b[39m\u001b[34m(main, debug)\u001b[39m\n\u001b[32m     28\u001b[39m task = asyncio.ensure_future(main)\n\u001b[32m     29\u001b[39m \u001b[38;5;28;01mtry\u001b[39;00m:\n\u001b[32m---> \u001b[39m\u001b[32m30\u001b[39m     \u001b[38;5;28;01mreturn\u001b[39;00m \u001b[43mloop\u001b[49m\u001b[43m.\u001b[49m\u001b[43mrun_until_complete\u001b[49m\u001b[43m(\u001b[49m\u001b[43mtask\u001b[49m\u001b[43m)\u001b[49m\n\u001b[32m     31\u001b[39m \u001b[38;5;28;01mfinally\u001b[39;00m:\n\u001b[32m     32\u001b[39m     \u001b[38;5;28;01mif\u001b[39;00m \u001b[38;5;129;01mnot\u001b[39;00m task.done():\n",
      "\u001b[36mFile \u001b[39m\u001b[32m~/Documents/projects/openmined/syft-nsai-sdk/.venv/lib/python3.12/site-packages/nest_asyncio.py:98\u001b[39m, in \u001b[36m_patch_loop.<locals>.run_until_complete\u001b[39m\u001b[34m(self, future)\u001b[39m\n\u001b[32m     95\u001b[39m \u001b[38;5;28;01mif\u001b[39;00m \u001b[38;5;129;01mnot\u001b[39;00m f.done():\n\u001b[32m     96\u001b[39m     \u001b[38;5;28;01mraise\u001b[39;00m \u001b[38;5;167;01mRuntimeError\u001b[39;00m(\n\u001b[32m     97\u001b[39m         \u001b[33m'\u001b[39m\u001b[33mEvent loop stopped before Future completed.\u001b[39m\u001b[33m'\u001b[39m)\n\u001b[32m---> \u001b[39m\u001b[32m98\u001b[39m \u001b[38;5;28;01mreturn\u001b[39;00m \u001b[43mf\u001b[49m\u001b[43m.\u001b[49m\u001b[43mresult\u001b[49m\u001b[43m(\u001b[49m\u001b[43m)\u001b[49m\n",
      "\u001b[36mFile \u001b[39m\u001b[32m/opt/homebrew/Cellar/python@3.12/3.12.9/Frameworks/Python.framework/Versions/3.12/lib/python3.12/asyncio/futures.py:202\u001b[39m, in \u001b[36mFuture.result\u001b[39m\u001b[34m(self)\u001b[39m\n\u001b[32m    200\u001b[39m \u001b[38;5;28mself\u001b[39m.__log_traceback = \u001b[38;5;28;01mFalse\u001b[39;00m\n\u001b[32m    201\u001b[39m \u001b[38;5;28;01mif\u001b[39;00m \u001b[38;5;28mself\u001b[39m._exception \u001b[38;5;129;01mis\u001b[39;00m \u001b[38;5;129;01mnot\u001b[39;00m \u001b[38;5;28;01mNone\u001b[39;00m:\n\u001b[32m--> \u001b[39m\u001b[32m202\u001b[39m     \u001b[38;5;28;01mraise\u001b[39;00m \u001b[38;5;28mself\u001b[39m._exception.with_traceback(\u001b[38;5;28mself\u001b[39m._exception_tb)\n\u001b[32m    203\u001b[39m \u001b[38;5;28;01mreturn\u001b[39;00m \u001b[38;5;28mself\u001b[39m._result\n",
      "\u001b[36mFile \u001b[39m\u001b[32m/opt/homebrew/Cellar/python@3.12/3.12.9/Frameworks/Python.framework/Versions/3.12/lib/python3.12/asyncio/tasks.py:314\u001b[39m, in \u001b[36mTask.__step_run_and_handle_result\u001b[39m\u001b[34m(***failed resolving arguments***)\u001b[39m\n\u001b[32m    310\u001b[39m \u001b[38;5;28;01mtry\u001b[39;00m:\n\u001b[32m    311\u001b[39m     \u001b[38;5;28;01mif\u001b[39;00m exc \u001b[38;5;129;01mis\u001b[39;00m \u001b[38;5;28;01mNone\u001b[39;00m:\n\u001b[32m    312\u001b[39m         \u001b[38;5;66;03m# We use the `send` method directly, because coroutines\u001b[39;00m\n\u001b[32m    313\u001b[39m         \u001b[38;5;66;03m# don't have `__iter__` and `__next__` methods.\u001b[39;00m\n\u001b[32m--> \u001b[39m\u001b[32m314\u001b[39m         result = \u001b[43mcoro\u001b[49m\u001b[43m.\u001b[49m\u001b[43msend\u001b[49m\u001b[43m(\u001b[49m\u001b[38;5;28;43;01mNone\u001b[39;49;00m\u001b[43m)\u001b[49m\n\u001b[32m    315\u001b[39m     \u001b[38;5;28;01melse\u001b[39;00m:\n\u001b[32m    316\u001b[39m         result = coro.throw(exc)\n",
      "\u001b[36mFile \u001b[39m\u001b[32m~/Documents/projects/openmined/syft-nsai-sdk/syft_nsai_sdk/core/pipeline.py:180\u001b[39m, in \u001b[36mPipeline.run_async\u001b[39m\u001b[34m(self, messages)\u001b[39m\n\u001b[32m    177\u001b[39m     total_cost += cost\n\u001b[32m    179\u001b[39m \u001b[38;5;28;01mif\u001b[39;00m \u001b[38;5;129;01mnot\u001b[39;00m all_search_results:\n\u001b[32m--> \u001b[39m\u001b[32m180\u001b[39m     \u001b[38;5;28;01mraise\u001b[39;00m ValidationError(\u001b[33m\"\u001b[39m\u001b[33mAll data source searches failed\u001b[39m\u001b[33m\"\u001b[39m)\n\u001b[32m    182\u001b[39m \u001b[38;5;66;03m# Remove duplicate results\u001b[39;00m\n\u001b[32m    183\u001b[39m unique_results = \u001b[38;5;28mself\u001b[39m.client._remove_duplicate_results(all_search_results)\n",
      "\u001b[31mValidationError\u001b[39m: VALIDATION_ERROR: All data source searches failed"
     ]
    }
   ],
   "source": [
    "# Demo mixed input types\n",
    "mixed_result = client.pipeline_mixed(\n",
    "    data_sources=[\n",
    "        \"callis@openmined.org/carl_model\",           # String\n",
    "        carl_free,                                       # Service object\n",
    "        {\"name\": \"callis@openmined.org/carl-claude\", \"topK\": 5},  # Dict with string\n",
    "        {\"name\": carl_model, \"topK\": 8}                   # Dict with Service object\n",
    "    ],\n",
    "    synthesizer=carl_model  # Service object as synthesizer\n",
    ").run(messages=[{\"role\": \"user\", \"content\": \"What is Python?\"}])"
   ]
  },
  {
   "cell_type": "code",
   "execution_count": null,
   "metadata": {},
   "outputs": [],
   "source": [
    "logger.info(f\"Mixed pipeline result:\\n\\n {mixed_result}\")"
   ]
  },
  {
   "cell_type": "code",
   "execution_count": 12,
   "metadata": {},
   "outputs": [
    {
     "name": "stdout",
     "output_type": "stream",
     "text": [
      "✓ Response received                                                             \n",
      "\n"
     ]
    }
   ],
   "source": [
    "# Demo with pure Service objects\n",
    "service_result = client.pipeline_mixed(\n",
    "    data_sources=[sota_free, carl_free],\n",
    "    synthesizer=sota_free\n",
    ").run(messages=[{\"role\": \"user\", \"content\": \"What is machine learning?\"}])"
   ]
  },
  {
   "cell_type": "code",
   "execution_count": 13,
   "metadata": {},
   "outputs": [
    {
     "name": "stderr",
     "output_type": "stream",
     "text": [
      "\u001b[34m2025-09-05 01:53:57 - syft_nsai_sdk - INFO - Service objects pipeline result:\n",
      "\n",
      " Machine learning is a subfield of artificial intelligence that involves the development and application of algorithms to learn from data in order to make predictions or decisions. It combines aspects of statistics, computer science, and economics, and has applications across various fields such as finance, healthcare, transportation, and retail. Machine learning algorithms rely on large datasets to learn patterns and make predictions, often using machine learning techniques like decision trees, neural networks, and random forests. By leveraging this knowledge, machine learning algorithms can help solve complex problems, making it a powerful tool in many industries.\u001b[0m\n"
     ]
    }
   ],
   "source": [
    "logger.info(f\"Service objects pipeline result:\\n\\n {service_result}\")"
   ]
  },
  {
   "cell_type": "code",
   "execution_count": null,
   "metadata": {},
   "outputs": [
    {
     "name": "stdout",
     "output_type": "stream",
     "text": [
      "⠇ Waiting for service response..."
     ]
    }
   ],
   "source": [
    "# Demo Service objects with different parameters\n",
    "param_result = client.pipeline_mixed(\n",
    "    data_sources=[\n",
    "        {\"name\": carl_free, \"topK\": 10},\n",
    "        {\"name\": \"callis@openmined.org/carl-claude\", \"topK\": 3}\n",
    "    ],\n",
    "    synthesizer={\"name\": carl_model, \"temperature\": 0.9}\n",
    ").run(messages=[{\"role\": \"user\", \"content\": \"Explain neural networks\"}])"
   ]
  },
  {
   "cell_type": "code",
   "execution_count": null,
   "metadata": {},
   "outputs": [],
   "source": [
    "logger.info(f\"Parameters pipeline result:\\n\\n {param_result}\")"
   ]
  },
  {
   "cell_type": "code",
   "execution_count": null,
   "metadata": {},
   "outputs": [],
   "source": []
  },
  {
   "cell_type": "code",
   "execution_count": null,
   "metadata": {},
   "outputs": [],
   "source": []
  }
 ],
 "metadata": {
  "kernelspec": {
   "display_name": "Python 3 (ipykernel)",
   "language": "python",
   "name": "python3"
  },
  "language_info": {
   "codemirror_mode": {
    "name": "ipython",
    "version": 3
   },
   "file_extension": ".py",
   "mimetype": "text/x-python",
   "name": "python",
   "nbconvert_exporter": "python",
   "pygments_lexer": "ipython3",
   "version": "3.12.9"
  }
 },
 "nbformat": 4,
 "nbformat_minor": 4
}

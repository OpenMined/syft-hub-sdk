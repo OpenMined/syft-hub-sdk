{
 "cells": [
  {
   "cell_type": "markdown",
   "metadata": {},
   "source": [
    "# SyftBox Pipeline Testing Notebook\n",
    "Test all pipeline approaches with your services"
   ]
  },
  {
   "cell_type": "code",
   "execution_count": 1,
   "metadata": {},
   "outputs": [],
   "source": [
    "%%capture output --no-stderr\n",
    "\n",
    "# Install async module\n",
    "!uv pip install nest_asyncio"
   ]
  },
  {
   "cell_type": "code",
   "execution_count": 2,
   "metadata": {},
   "outputs": [],
   "source": [
    "# Import the SDK\n",
    "import syft_hub as sh\n",
    "import nest_asyncio\n",
    "import logging\n",
    "import os"
   ]
  },
  {
   "cell_type": "code",
   "execution_count": 3,
   "metadata": {},
   "outputs": [],
   "source": [
    "# Import client\n",
    "from syft_hub import Client\n",
    "from syft_hub.utils.logger import get_logger"
   ]
  },
  {
   "cell_type": "code",
   "execution_count": 4,
   "metadata": {},
   "outputs": [
    {
     "name": "stderr",
     "output_type": "stream",
     "text": [
      "\u001b[32m2025-09-05 17:04:24 - syft_hub - SUCCESS - Logger initialized successfully!\u001b[0m\n"
     ]
    }
   ],
   "source": [
    "# define utilities\n",
    "nest_asyncio.apply()\n",
    "logger = get_logger()\n",
    "logging.getLogger('syft_hub').setLevel(logging.INFO)\n",
    "logger.success(\"Logger initialized successfully!\")"
   ]
  },
  {
   "cell_type": "code",
   "execution_count": 5,
   "metadata": {},
   "outputs": [
    {
     "name": "stderr",
     "output_type": "stream",
     "text": [
      "\u001b[34m2025-09-05 17:04:24 - syft_hub.core.config - INFO - Using config credentials at path: /Users/callisezenwaka/.syftbox/config.json\u001b[0m\n",
      "\u001b[34m2025-09-05 17:04:24 - syft_hub.main - INFO - Found existing accounting credentials for callis@openmined.org\u001b[0m\n",
      "\u001b[34m2025-09-05 17:04:24 - syft_hub.main - INFO - Client initialized for callis@openmined.org\u001b[0m\n"
     ]
    }
   ],
   "source": [
    "# Initialize client\n",
    "client = Client()"
   ]
  },
  {
   "cell_type": "code",
   "execution_count": 6,
   "metadata": {},
   "outputs": [
    {
     "name": "stdout",
     "output_type": "stream",
     "text": [
      "============================================================\n",
      "PIPELINE TESTING - ALL FLAVORS\n",
      "============================================================\n"
     ]
    }
   ],
   "source": [
    "# Define test message for consistency\n",
    "test_messages = [{\"role\": \"user\", \"content\": \"What is Python programming?\"}]\n",
    "\n",
    "print(\"=\" * 60)\n",
    "print(\"PIPELINE TESTING - ALL FLAVORS\")\n",
    "print(\"=\" * 60)"
   ]
  },
  {
   "cell_type": "markdown",
   "metadata": {},
   "source": [
    "## 1. Inline Approach - Strings Only (Simple)"
   ]
  },
  {
   "cell_type": "code",
   "execution_count": 7,
   "metadata": {},
   "outputs": [
    {
     "name": "stdout",
     "output_type": "stream",
     "text": [
      "\n",
      "1. INLINE APPROACH - Strings Only\n",
      "----------------------------------------\n",
      "✓ Response received                                                             \n",
      "\n",
      "✅ Success: PyTorch is a high-level programming language and machine learning library for deep learning in Pytho...\n",
      "💰 Cost: $0.0\n",
      "📄 Search results: 3\n"
     ]
    }
   ],
   "source": [
    "print(\"\\n1. INLINE APPROACH - Strings Only\")\n",
    "print(\"-\" * 40)\n",
    "\n",
    "try:\n",
    "    inline_result = client.pipeline(\n",
    "        data_sources=[\"callis@openmined.org/carl-free\", \"callis@openmined.org/carl-claude\"], \n",
    "        synthesizer=\"callis@openmined.org/carl-free\"\n",
    "    ).run(messages=test_messages)\n",
    "    \n",
    "    print(f\"✅ Success: {inline_result.response.message.content[:100]}...\")\n",
    "    print(f\"💰 Cost: ${inline_result.cost}\")\n",
    "    print(f\"📄 Search results: {len(inline_result.search_results)}\")\n",
    "    \n",
    "except Exception as e:\n",
    "    print(f\"❌ Error: {e}\")"
   ]
  },
  {
   "cell_type": "markdown",
   "metadata": {},
   "source": [
    "## 2. Inline Approach - With Parameters (Dicts)"
   ]
  },
  {
   "cell_type": "code",
   "execution_count": 8,
   "metadata": {},
   "outputs": [
    {
     "name": "stdout",
     "output_type": "stream",
     "text": [
      "\n",
      "2. INLINE APPROACH - With Parameters\n",
      "----------------------------------------\n",
      "✓ Response received                                                             \n",
      "\n",
      "✅ Success: Python is a popular high-level dynamic language that can be used to write computer programs. It is a...\n",
      "💰 Cost: $0.0\n",
      "📄 Search results: 8\n"
     ]
    }
   ],
   "source": [
    "print(\"\\n2. INLINE APPROACH - With Parameters\")\n",
    "print(\"-\" * 40)\n",
    "\n",
    "try:\n",
    "    params_result = client.pipeline(\n",
    "        data_sources=[\n",
    "            {\"name\": \"callis@openmined.org/carl-free\", \"topK\": 5},\n",
    "            {\"name\": \"callis@openmined.org/carl-claude\", \"topK\": 8}\n",
    "        ],\n",
    "        synthesizer={\n",
    "            \"name\": \"callis@openmined.org/carl-free\", \n",
    "            \"temperature\": 0.8\n",
    "        }\n",
    "    ).run(messages=test_messages)\n",
    "    \n",
    "    print(f\"✅ Success: {params_result.response.message.content[:100]}...\")\n",
    "    print(f\"💰 Cost: ${params_result.cost}\")\n",
    "    print(f\"📄 Search results: {len(params_result.search_results)}\")\n",
    "    \n",
    "except Exception as e:\n",
    "    print(f\"❌ Error: {e}\")"
   ]
  },
  {
   "cell_type": "markdown",
   "metadata": {},
   "source": [
    "## 3. Object-Oriented Approach - Method-based (Reusable)"
   ]
  },
  {
   "cell_type": "code",
   "execution_count": 9,
   "metadata": {},
   "outputs": [
    {
     "name": "stdout",
     "output_type": "stream",
     "text": [
      "\n",
      "3. OBJECT-ORIENTED APPROACH - Method-based\n",
      "----------------------------------------\n",
      "                                                                                "
     ]
    },
    {
     "name": "stderr",
     "output_type": "stream",
     "text": [
      "\u001b[31m2025-09-05 17:08:06 - syft_hub.core.pipeline - ERROR - Search failed for callis@openmined.org/carl-free: RPC_ERROR: Polling timed out after 30/30 attempts\u001b[0m\n",
      "\u001b[33m2025-09-05 17:08:06 - syft_hub.core.pipeline - WARNING - Search failed for source callis@openmined.org/carl-free: RPC_ERROR: Polling timed out after 30/30 attempts\u001b[0m\n"
     ]
    },
    {
     "name": "stdout",
     "output_type": "stream",
     "text": [
      "✓ Response received\n",
      "\n",
      "✓ Response received                                                             \n",
      "\n",
      "✅ First run: PyThon (pronounced \"Pythia\") is a popular general-purpose scripting language and a software developm...\n",
      "💰 Cost: $0.0\n",
      "✓ Response received                                                             \n",
      "\n",
      "✅ Second run: Machine learning (ML) is a field that employs mathematical algorithms to analyze large amounts of da...\n",
      "💰 Cost: $0.0\n"
     ]
    }
   ],
   "source": [
    "print(\"\\n3. OBJECT-ORIENTED APPROACH - Method-based\")\n",
    "print(\"-\" * 40)\n",
    "\n",
    "try:\n",
    "    # Create reusable pipeline\n",
    "    oop_pipeline = client.create_pipeline()\n",
    "    oop_pipeline.add_source(\"callis@openmined.org/carl-free\", topK=6)\n",
    "    oop_pipeline.add_source(\"callis@openmined.org/carl-claude\", topK=10)\n",
    "    oop_pipeline.set_synthesizer(\"callis@openmined.org/carl-free\", temperature=0.7)\n",
    "    \n",
    "    # Run multiple times to show reusability\n",
    "    oop_result1 = oop_pipeline.run(messages=test_messages)\n",
    "    print(f\"✅ First run: {oop_result1.response.message.content[:100]}...\")\n",
    "    print(f\"💰 Cost: ${oop_result1.cost}\")\n",
    "    \n",
    "    oop_result2 = oop_pipeline.run(messages=[{\"role\": \"user\", \"content\": \"What is machine learning?\"}])\n",
    "    print(f\"✅ Second run: {oop_result2.response.message.content[:100]}...\")\n",
    "    print(f\"💰 Cost: ${oop_result2.cost}\")\n",
    "    \n",
    "except Exception as e:\n",
    "    print(f\"❌ Error: {e}\")"
   ]
  },
  {
   "cell_type": "markdown",
   "metadata": {},
   "source": [
    "## 4. Mixed Approach - Service Objects + Strings (NEW)"
   ]
  },
  {
   "cell_type": "code",
   "execution_count": 10,
   "metadata": {},
   "outputs": [
    {
     "name": "stdout",
     "output_type": "stream",
     "text": [
      "\n",
      "4. MIXED APPROACH - Service Objects + Strings\n",
      "----------------------------------------\n",
      "📄 Loaded service: carl-free (supports chat: True, search: True)\n",
      "📄 Loaded service: carl-claude (supports chat: True, search: True)\n",
      "                                                                                "
     ]
    },
    {
     "name": "stderr",
     "output_type": "stream",
     "text": [
      "\u001b[31m2025-09-05 17:11:43 - syft_hub.core.pipeline - ERROR - Search failed for callis@openmined.org/carl-claude: RPC_ERROR: Polling timed out after 30/30 attempts\u001b[0m\n",
      "\u001b[33m2025-09-05 17:11:43 - syft_hub.core.pipeline - WARNING - Search failed for source callis@openmined.org/carl-claude: RPC_ERROR: Polling timed out after 30/30 attempts\u001b[0m\n"
     ]
    },
    {
     "name": "stdout",
     "output_type": "stream",
     "text": [
      "✓ Response received\n",
      "\n",
      "✓ Response received                                                             \n",
      "\n",
      "✅ Success: Python programming is a programming language that is known for being user-friendly, efficient, and p...\n",
      "💰 Cost: $0.0\n",
      "📄 Search results: 3\n"
     ]
    }
   ],
   "source": [
    "print(\"\\n4. MIXED APPROACH - Service Objects + Strings\")\n",
    "print(\"-\" * 40)\n",
    "\n",
    "try:\n",
    "    # Load services as objects\n",
    "    docs = client.load_service(\"callis@openmined.org/carl-free\")\n",
    "    carl = client.load_service(\"callis@openmined.org/carl-claude\")\n",
    "    \n",
    "    print(f\"📄 Loaded service: {docs.name} (supports chat: {docs.supports_chat}, search: {docs.supports_search})\")\n",
    "    print(f\"📄 Loaded service: {carl.name} (supports chat: {carl.supports_chat}, search: {carl.supports_search})\")\n",
    "    \n",
    "    # Mixed pattern - Service objects with strings/dicts\n",
    "    mixed_result = client.pipeline(\n",
    "        data_sources=[\n",
    "            docs,  # Service object\n",
    "            {\"name\": \"callis@openmined.org/carl-claude\", \"topK\": 5}  # Dict with string\n",
    "        ],\n",
    "        synthesizer=docs  # Service object\n",
    "    ).run(messages=test_messages)\n",
    "    \n",
    "    print(f\"✅ Success: {mixed_result.response.message.content[:100]}...\")\n",
    "    print(f\"💰 Cost: ${mixed_result.cost}\")\n",
    "    print(f\"📄 Search results: {len(mixed_result.search_results)}\")\n",
    "    \n",
    "except Exception as e:\n",
    "    print(f\"❌ Error: {e}\")"
   ]
  },
  {
   "cell_type": "markdown",
   "metadata": {},
   "source": [
    "## 5. Service Object Methods - Direct Usage"
   ]
  },
  {
   "cell_type": "code",
   "execution_count": 11,
   "metadata": {},
   "outputs": [
    {
     "name": "stderr",
     "output_type": "stream",
     "text": [
      "\u001b[34m2025-09-05 17:11:49 - syft_hub.main - INFO - Using service: carl-free from datasite: callis@openmined.org\u001b[0m\n"
     ]
    },
    {
     "name": "stdout",
     "output_type": "stream",
     "text": [
      "\n",
      "5. SERVICE OBJECT METHODS - Direct Usage\n",
      "----------------------------------------\n",
      "                                                                                "
     ]
    },
    {
     "name": "stderr",
     "output_type": "stream",
     "text": [
      "\u001b[34m2025-09-05 17:11:52 - syft_hub.main - INFO - Using service: carl-free from datasite: callis@openmined.org\u001b[0m\n"
     ]
    },
    {
     "name": "stdout",
     "output_type": "stream",
     "text": [
      "✓ Response received\n",
      "\n",
      "✅ Direct chat: Python programming is a widely used and powerful programming language that is known for its simplici...\n",
      "💰 Cost: $0\n",
      "✅ Direct search: Found 3 results\n",
      "💰 Cost: $0\n"
     ]
    }
   ],
   "source": [
    "print(\"\\n5. SERVICE OBJECT METHODS - Direct Usage\")\n",
    "print(\"-\" * 40)\n",
    "\n",
    "try:\n",
    "    # Test individual service methods\n",
    "    docs = client.load_service(\"callis@openmined.org/carl-free\")\n",
    "    \n",
    "    # Direct chat\n",
    "    if docs.supports_chat:\n",
    "        chat_result = docs.chat(messages=test_messages)\n",
    "        print(f\"✅ Direct chat: {chat_result.message.content[:100]}...\")\n",
    "        print(f\"💰 Cost: ${chat_result.cost}\")\n",
    "    \n",
    "    # Direct search  \n",
    "    if docs.supports_search:\n",
    "        search_result = docs.search(message=\"Python programming\", topK=3)\n",
    "        print(f\"✅ Direct search: Found {len(search_result.results)} results\")\n",
    "        print(f\"💰 Cost: ${search_result.cost}\")\n",
    "    \n",
    "except Exception as e:\n",
    "    print(f\"❌ Error: {e}\")"
   ]
  },
  {
   "cell_type": "markdown",
   "metadata": {},
   "source": [
    "## 6. Object-Oriented with Service Objects - Method-based"
   ]
  },
  {
   "cell_type": "code",
   "execution_count": null,
   "metadata": {},
   "outputs": [],
   "source": [
    "# ⚠️ Validate that the full_name currently exist\n",
    "# print(\"\\n6. OBJECT-ORIENTED WITH SERVICE OBJECTS - Method-based\")\n",
    "# print(\"-\" * 40)\n",
    "\n",
    "# try:\n",
    "#     # Load services\n",
    "#     docs = client.load_service(\"callis@openmined.org/carl-free\")\n",
    "#     carl = client.load_service(\"callis@openmined.org/carl-claude\")\n",
    "    \n",
    "#     # Create pipeline using Service objects in method calls\n",
    "#     # service_pipeline = client.create_pipeline()\n",
    "#     # service_pipeline.add_source(docs.full_name, topK=7)  # Use full_name\n",
    "#     # service_pipeline.add_source(carl.full_name, topK=9)  # Use full_name\n",
    "#     # service_pipeline.set_synthesizer(docs.full_name, temperature=0.6)  # Use full_name\n",
    "    \n",
    "#     service_result = service_pipeline.run(messages=test_messages)\n",
    "#     print(f\"✅ Success: {service_result.response.message.content[:100]}...\")\n",
    "#     print(f\"💰 Cost: ${service_result.cost}\")\n",
    "#     print(f\"📄 Search results: {len(service_result.search_results)}\")\n",
    "    \n",
    "# except Exception as e:\n",
    "#     print(f\"❌ Error: {e}\")"
   ]
  },
  {
   "cell_type": "markdown",
   "metadata": {},
   "source": [
    "## Comparison Summary"
   ]
  },
  {
   "cell_type": "code",
   "execution_count": 12,
   "metadata": {},
   "outputs": [
    {
     "name": "stdout",
     "output_type": "stream",
     "text": [
      "\n",
      "============================================================\n",
      "COMPARISON SUMMARY\n",
      "============================================================\n",
      "\n",
      "Approach Comparison:\n",
      "\n",
      "1. Inline (strings): Simple, one-liners for quick tasks\n",
      "2. Inline (dicts): Parameters in constructor, still one-liner  \n",
      "3. Method-based: Full control, reusable pipelines\n",
      "4. Mixed: Service objects + strings, flexibility\n",
      "5. Direct service: Individual service operations\n",
      "6. Service objects + methods: Object-oriented with methods\n",
      "\n",
      "Recommendation: Use #1 or #2 for simple cases, #3 for complex reusable workflows.\n",
      "The mixed approach (#4) provides flexibility but adds complexity.\n",
      "\n",
      "\n",
      "✅ All tests completed!\n"
     ]
    }
   ],
   "source": [
    "print(\"\\n\" + \"=\" * 60)\n",
    "print(\"COMPARISON SUMMARY\")\n",
    "print(\"=\" * 60)\n",
    "\n",
    "print(\"\"\"\n",
    "Approach Comparison:\n",
    "\n",
    "1. Inline (strings): Simple, one-liners for quick tasks\n",
    "2. Inline (dicts): Parameters in constructor, still one-liner  \n",
    "3. Method-based: Full control, reusable pipelines\n",
    "4. Mixed: Service objects + strings, flexibility\n",
    "5. Direct service: Individual service operations\n",
    "6. Service objects + methods: Object-oriented with methods\n",
    "\n",
    "Recommendation: Use #1 or #2 for simple cases, #3 for complex reusable workflows.\n",
    "The mixed approach (#4) provides flexibility but adds complexity.\n",
    "\"\"\")\n",
    "\n",
    "print(\"\\n✅ All tests completed!\")"
   ]
  },
  {
   "cell_type": "code",
   "execution_count": null,
   "metadata": {},
   "outputs": [],
   "source": []
  }
 ],
 "metadata": {
  "kernelspec": {
   "display_name": "Python 3 (ipykernel)",
   "language": "python",
   "name": "python3"
  },
  "language_info": {
   "codemirror_mode": {
    "name": "ipython",
    "version": 3
   },
   "file_extension": ".py",
   "mimetype": "text/x-python",
   "name": "python",
   "nbconvert_exporter": "python",
   "pygments_lexer": "ipython3",
   "version": "3.12.9"
  }
 },
 "nbformat": 4,
 "nbformat_minor": 4
}

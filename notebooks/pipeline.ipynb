{
 "cells": [
  {
   "cell_type": "markdown",
   "metadata": {},
   "source": [
    "# SyftBox SDK Development Testing\n",
    "\n",
    "This notebook is for testing and validating the SyftBox SDK during development."
   ]
  },
  {
   "cell_type": "code",
   "execution_count": 1,
   "metadata": {},
   "outputs": [],
   "source": [
    "%%capture output --no-stderr\n",
    "\n",
    "# Install async module\n",
    "!uv pip install nest_asyncio"
   ]
  },
  {
   "cell_type": "code",
   "execution_count": 2,
   "metadata": {},
   "outputs": [],
   "source": [
    "# Import the SDK\n",
    "import syft_hub as sh\n",
    "import nest_asyncio\n",
    "import httpx\n",
    "import logging\n",
    "import os"
   ]
  },
  {
   "cell_type": "code",
   "execution_count": 3,
   "metadata": {},
   "outputs": [],
   "source": [
    "# Import client\n",
    "from syft_hub import Client\n",
    "from syft_hub.utils.logger import get_logger"
   ]
  },
  {
   "cell_type": "code",
   "execution_count": 4,
   "metadata": {},
   "outputs": [
    {
     "name": "stderr",
     "output_type": "stream",
     "text": [
      "\u001b[32m2025-09-05 08:23:15 - syft_hub - SUCCESS - Logger initialized successfully!\u001b[0m\n"
     ]
    }
   ],
   "source": [
    "# define utilities\n",
    "nest_asyncio.apply()\n",
    "logger = get_logger()\n",
    "logging.getLogger('syft_hub').setLevel(logging.INFO)\n",
    "logger.success(\"Logger initialized successfully!\")"
   ]
  },
  {
   "cell_type": "code",
   "execution_count": 5,
   "metadata": {},
   "outputs": [
    {
     "name": "stderr",
     "output_type": "stream",
     "text": [
      "\u001b[34m2025-09-05 08:23:16 - syft_hub.core.config - INFO - Using config credentials at path: /Users/callisezenwaka/.syftbox/config.json\u001b[0m\n",
      "\u001b[34m2025-09-05 08:23:16 - syft_hub.main - INFO - Found existing accounting credentials for callis@openmined.org\u001b[0m\n",
      "\u001b[34m2025-09-05 08:23:16 - syft_hub.main - INFO - Client initialized for callis@openmined.org\u001b[0m\n"
     ]
    }
   ],
   "source": [
    "# Initialize client\n",
    "client = Client()"
   ]
  },
  {
   "cell_type": "markdown",
   "metadata": {},
   "source": [
    "## Basic usage"
   ]
  },
  {
   "cell_type": "code",
   "execution_count": 6,
   "metadata": {},
   "outputs": [
    {
     "name": "stdout",
     "output_type": "stream",
     "text": [
      "✓ Response received                                                             \n",
      "\n"
     ]
    }
   ],
   "source": [
    "# inline service usage - , \"bob@example.com/wiki\"\n",
    "inline_result = client.pipeline(\n",
    "    data_sources=[\"callis@openmined.org/carl-model\", \"callis@openmined.org/carl-free\"], \n",
    "    synthesizer=\"callis@openmined.org/carl-model\"\n",
    ").run(messages=[{\"role\": \"user\", \"content\": \"What is Python?\"}])"
   ]
  },
  {
   "cell_type": "code",
   "execution_count": 7,
   "metadata": {},
   "outputs": [
    {
     "name": "stderr",
     "output_type": "stream",
     "text": [
      "\u001b[34m2025-09-05 01:50:40 - syft_nsai_sdk - INFO - Pipeline result:\n",
      "\n",
      " PyTorch is a deep learning library for Python developed by PyTorch Foundation, an open-source organization. It provides a platform for researchers and data scientists to develop machine learning algorithms and models in a fast, flexible, and easy-to-use way. PyTorch offers features such as automatic differentiation (AD), distributed training, high-performance computing (HPC) support, and various optimizers, including Adam and SGD.\n",
      "\n",
      "Key features of PyTorch include:\n",
      "\n",
      "1. Automatic Differentiation: This feature enables PyTorch to automatically differentiate the users' code during training, reducing the need for manual grading or programming.\n",
      "\n",
      "2. Distributed Training: PyTorch supports distributed training on various HPC platforms such as NVIDIA Tesla and AMD Vulcan. It can also be used in a non-distributed mode for single node training.\n",
      "\n",
      "3. High-Performance Computing (HPC) Support: PyTorch is highly optimized for high-performance computing, offering features like GPU acceleration, threading, and data parallelism to improve the efficiency of its users' code.\n",
      "\n",
      "4. Various Optimizers: PyTorch offers various optimizers such as Adam, SGD, RMSprop, and Momentum, providing users with more control over their learning process.\n",
      "\n",
      "5. In-built Datasets: PyTorch provides built-in datasets for common machine learning problems like ImageNet, CIFAR, UCI, Titanic, and many others. It also offers pretrained models and preprocessing functions for various data sets.\n",
      "\n",
      "6. Flexibility: PyTorch is easy to learn but has a wide range of features that allow users to customize their code for their specific use case.\n",
      "\n",
      "In summary, PyTorch is a powerful and flexible machine learning library designed for both researchers and data scientists. It offers automatic differentiation, distributed training, high-performance computing support, and various optimizers, making it an excellent choice for users seeking to tackle complex problems in machine learning.\u001b[0m\n"
     ]
    }
   ],
   "source": [
    "# show response\n",
    "logger.info(f\"Pipeline result:\\n\\n {inline_result}\")"
   ]
  },
  {
   "cell_type": "code",
   "execution_count": 8,
   "metadata": {},
   "outputs": [
    {
     "name": "stdout",
     "output_type": "stream",
     "text": [
      "✓ Response received                                                             \n",
      "\n"
     ]
    }
   ],
   "source": [
    "# Object-Oriented service usage\n",
    "pipeline = client.create_pipeline()\n",
    "pipeline.add_source(\"callis@openmined.org/sota-free\", topK=8)\n",
    "pipeline.add_source(\"callis@openmined.org/carl-model\", topK=8)\n",
    "pipeline.set_synthesizer(\"callis@openmined.org/sota-free\", temperature=0.7)  \n",
    "oop_result = pipeline.run(messages=[{\"role\": \"user\", \"content\": \"What is Python?\"}])"
   ]
  },
  {
   "cell_type": "code",
   "execution_count": 9,
   "metadata": {},
   "outputs": [
    {
     "name": "stderr",
     "output_type": "stream",
     "text": [
      "\u001b[34m2025-09-05 01:50:52 - syft_nsai_sdk - INFO - Pipeline result:\n",
      "\n",
      " Python (pronounced \"py-then\") is a general-purpose programming language developed by Python Software Foundation. It was originally designed for server computing, but has since gained popularity in the world of web development and data analysis. Its syntax and features are similar to those of other high-level programming languages like C++, Java, and C#, making it a versatile choice for a variety of applications. Here are some key features of Python:\n",
      "\n",
      "1. Easy learning curve: Python is relatively easy to learn due to its intuitive syntax and clear structure. It's designed to be beginner-friendly and accessible to anyone with familiarity with Python, while still allowing advanced users to take advantage of the language's powerful features.\n",
      "\n",
      "2. Large community: Python has a large and active community, with multiple libraries, communities, and forums available for users to explore and connect with other developers. This helps to ensure that the language remains innovative and up-to-date with new technologies and trends in web development.\n",
      "\n",
      "3. Support for multiple platforms: Python is available for Linux, Mac OS X, Microsoft Windows, and various mobile operating systems such as iOS and Android. This versatility makes it an attractive choice for developers who need to write code that works across a wide range of platforms and devices.\n",
      "\n",
      "4. Vibrant community: The Pyton community is known for its active involvement in the development and support of the language, through projects like PyCharm (an integrated development environment) and Pyro (a web framework). This makes it a great choice for developers who want to stay up-to-date with the latest trends and developments in web development.\n",
      "\n",
      "5. Powerful features: Python has a wide range of powerful features, including built-in data structures like lists, dictionaries, and sets, as well as powerful libraries for handling text, graphics, video, and audio files. This makes it a versatile choice for developers who need to work with a variety of different types of data or media formats in their web applications.\n",
      "\n",
      "Overall, Python is a popular choice among web developers due to its ease-of-use, large community, and robust set of features. Whether you're new to Python or an experienced user looking to take your web development skills to the next level, it's worth considering this versatile and popular language for your projects!\u001b[0m\n"
     ]
    }
   ],
   "source": [
    "# show response\n",
    "logger.info(f\"Pipeline result:\\n\\n {oop_result}\")"
   ]
  },
  {
   "cell_type": "markdown",
   "metadata": {},
   "source": [
    "## Advanced usage"
   ]
  },
  {
   "cell_type": "code",
   "execution_count": 6,
   "metadata": {},
   "outputs": [],
   "source": [
    "# Load some services as objects first\n",
    "gpt = client.load(\"callis@openmined.org/carl-model\") # paid\n",
    "gist = client.load(\"callis@openmined.org/sota-free\") # free\n",
    "wiki = client.load(\"callis@openmined.org/carl-free\") # free\n",
    "docs = client.load(\"callis@openmined.org/carl-claude\") # free"
   ]
  },
  {
   "cell_type": "code",
   "execution_count": 7,
   "metadata": {},
   "outputs": [
    {
     "name": "stdout",
     "output_type": "stream",
     "text": [
      "✓ Response received                                                             \n",
      "\n",
      "                                                                                "
     ]
    },
    {
     "name": "stderr",
     "output_type": "stream",
     "text": [
      "\u001b[31m2025-09-05 08:25:35 - syft_hub.core.pipeline - ERROR - Search failed for callis@openmined.org/sota-free: RPC_ERROR: Polling timed out after 30/30 attempts\u001b[0m\n",
      "\u001b[33m2025-09-05 08:25:35 - syft_hub.core.pipeline - WARNING - Search failed for source callis@openmined.org/sota-free: RPC_ERROR: Polling timed out after 30/30 attempts\u001b[0m\n"
     ]
    },
    {
     "name": "stdout",
     "output_type": "stream",
     "text": [
      "✓ Response received\n",
      "\n",
      "✓ Response received                                                             \n",
      "\n"
     ]
    }
   ],
   "source": [
    "# Demo mixed input types\n",
    "mixed_result = client.pipeline_mixed(\n",
    "    data_sources=[\n",
    "        \"callis@openmined.org/sota-free\",           # String\n",
    "        wiki,                                       # Service object\n",
    "        {\"name\": \"callis@openmined.org/carl-claude\", \"topK\": 5},  # Dict with string\n",
    "        {\"name\": gpt, \"topK\": 8}                   # Dict with Service object\n",
    "    ],\n",
    "    synthesizer=gpt  # Service object as synthesizer\n",
    ").run(messages=[{\"role\": \"user\", \"content\": \"What is Python?\"}])"
   ]
  },
  {
   "cell_type": "code",
   "execution_count": 8,
   "metadata": {},
   "outputs": [
    {
     "name": "stderr",
     "output_type": "stream",
     "text": [
      "\u001b[34m2025-09-05 08:25:46 - syft_hub - INFO - Mixed pipeline result:\n",
      "\n",
      " Pyhton is a programming language that is widely used for data analysis, scientific computing, and machine learning. It was developed by Guido Van Helsdingen in the early 1990s and first released in 1991 as Python Implementation in C for the Apple IIe. Python has since become one of the most popular programming languages with over 37 million downloads, making it among the top ten most-downloaded software programs worldwide, according to StatCounter (as of December 2021).\n",
      "\n",
      "Python is known for its ease of use and flexibility, which allows users to quickly build complex applications without requiring extensive programming knowledge. It has a vast community of developers who create libraries, extensions, and packages that support various areas of Python development, including data analysis, machine learning, artificial intelligence (AI), scientific computing, and more.\n",
      "\n",
      "Python is widely used in fields such as finance, healthcare, energy, agriculture, education, entertainment, and more. Its versatility allows for the development of complex applications that perform real-world tasks in a variety of industries. Python has also become popular among web developers due to its ability to build scalable web applications with robust data handling capabilities.\n",
      "\n",
      "Some of Python's notable features include:\n",
      "\n",
      "1. Interoperability: Python supports numerous programming paradigms, including object-oriented and functional programming. This makes it easy to combine different programming languages into a single application.\n",
      "\n",
      "2. Automatic memory management: Python automatically manages the memory usage of running programs, making it suitable for applications that require dynamic memory allocation or real-time data processing.\n",
      "\n",
      "3. Scalable architecture: Python supports a wide range of web frameworks and databases to provide scalability across different platforms. This makes it an ideal choice for web development.\n",
      "\n",
      "4. High performance: Python has been optimized for high performance, making it suitable for applications requiring computationally-intensive tasks or large data sets.\n",
      "\n",
      "5. Robust libraries: Python's extensive library of scientific and AI libraries offers developers a wide range of tools and algorithms to build complex applications.\n",
      "\n",
      "In summary, Python is a versatile and popular programming language that has become an essential tool in various fields of digital development. With its ease of use, scalability, and versatility, it provides developers with an array of tools for building complex applications.\u001b[0m\n"
     ]
    }
   ],
   "source": [
    "logger.info(f\"Mixed pipeline result:\\n\\n {mixed_result}\")"
   ]
  },
  {
   "cell_type": "code",
   "execution_count": null,
   "metadata": {},
   "outputs": [],
   "source": [
    "# Load some services as objects first\n",
    "carl_model = client.load(\"callis@openmined.org/carl-model\") # paid\n",
    "sota_free = client.load(\"callis@openmined.org/sota-free\") # free\n",
    "carl_free = client.load(\"callis@openmined.org/carl-free\") # free\n",
    "carl_claude = client.load(\"callis@openmined.org/carl-claude\") # free"
   ]
  },
  {
   "cell_type": "code",
   "execution_count": 12,
   "metadata": {},
   "outputs": [
    {
     "name": "stdout",
     "output_type": "stream",
     "text": [
      "✓ Response received                                                             \n",
      "\n"
     ]
    }
   ],
   "source": [
    "# Demo with pure Service objects\n",
    "service_result = client.pipeline_mixed(\n",
    "    data_sources=[sota_free, carl_free],\n",
    "    synthesizer=sota_free\n",
    ").run(messages=[{\"role\": \"user\", \"content\": \"What is machine learning?\"}])"
   ]
  },
  {
   "cell_type": "code",
   "execution_count": 13,
   "metadata": {},
   "outputs": [
    {
     "name": "stderr",
     "output_type": "stream",
     "text": [
      "\u001b[34m2025-09-05 01:53:57 - syft_nsai_sdk - INFO - Service objects pipeline result:\n",
      "\n",
      " Machine learning is a subfield of artificial intelligence that involves the development and application of algorithms to learn from data in order to make predictions or decisions. It combines aspects of statistics, computer science, and economics, and has applications across various fields such as finance, healthcare, transportation, and retail. Machine learning algorithms rely on large datasets to learn patterns and make predictions, often using machine learning techniques like decision trees, neural networks, and random forests. By leveraging this knowledge, machine learning algorithms can help solve complex problems, making it a powerful tool in many industries.\u001b[0m\n"
     ]
    }
   ],
   "source": [
    "logger.info(f\"Service objects pipeline result:\\n\\n {service_result}\")"
   ]
  },
  {
   "cell_type": "code",
   "execution_count": 16,
   "metadata": {},
   "outputs": [
    {
     "name": "stdout",
     "output_type": "stream",
     "text": [
      "                                                                                "
     ]
    },
    {
     "name": "stderr",
     "output_type": "stream",
     "text": [
      "\u001b[31m2025-09-05 01:56:56 - syft_nsai_sdk.core.pipeline - ERROR - Search failed for callis@openmined.org/carl-claude: RPC_ERROR: Polling timed out after 30/30 attempts\u001b[0m\n",
      "\u001b[33m2025-09-05 01:56:56 - syft_nsai_sdk.core.pipeline - WARNING - Search failed for source callis@openmined.org/carl-claude: RPC_ERROR: Polling timed out after 30/30 attempts\u001b[0m\n"
     ]
    },
    {
     "name": "stdout",
     "output_type": "stream",
     "text": [
      "✓ Response received\n",
      "\n",
      "✓ Response received                                                             \n",
      "\n"
     ]
    }
   ],
   "source": [
    "# Demo Service objects with different parameters\n",
    "param_result = client.pipeline_mixed(\n",
    "    data_sources=[\n",
    "        {\"name\": carl_free, \"topK\": 10},\n",
    "        {\"name\": \"callis@openmined.org/carl-claude\", \"topK\": 3}\n",
    "    ],\n",
    "    synthesizer={\"name\": carl_model, \"temperature\": 0.9}\n",
    ").run(messages=[{\"role\": \"user\", \"content\": \"Explain neural networks\"}])"
   ]
  },
  {
   "cell_type": "code",
   "execution_count": 17,
   "metadata": {},
   "outputs": [
    {
     "name": "stderr",
     "output_type": "stream",
     "text": [
      "\u001b[34m2025-09-05 01:57:03 - syft_nsai_sdk - INFO - Parameters pipeline result:\n",
      "\n",
      " Neural networks are a type of artificial intelligence (AI) agent that can be trained to simulate and analyze complex patterns. These patterns may come from real-world data or from previous experiences in the form of patterns learned through trial and error. Neural networks consist of several layers of neurons, or nodes, connected together by weighted connections. Each layer of neurons has different weights, which determine how much input is passed to that neuron and how it affects the next layer of neurons.\n",
      "\n",
      "Neural networks have been applied in a wide variety of applications, including natural language processing (NLP), image recognition, and speech recognition. However, the development of these neural networks requires the use of data and a well-defined mathematical framework that supports the training process. One such framework is backpropagation, which involves updating each node's weight to minimize an error function called the cost function.\n",
      "\n",
      "To address the limitations of traditional training techniques for large-scale datasets, Deep Learning (DL) has emerged as a new approach to neural network training. DL uses deep networks with many layers and a hierarchy of connections between each layer that allows for efficient computation. This enables deep learning algorithms to learn complex relationships from data in a more robust and less time-consuming way than traditional training techniques.\n",
      "\n",
      "Deep Learning has been widely applied in various fields such as image processing, speech recognition, and natural language processing (NLP). For example, Google's Alphabet subsidiary DeepMind has developed Neurala, a platform for analyzing and processing large-scale datasets using deep learning algorithms. This has led to the development of new applications for medical imaging and other areas where large amounts of data are required.\n",
      "\n",
      "In summary, neural networks have been applied in various fields such as natural language processing (NLP), image recognition, and speech recognition. DL has emerged as a new approach to neural network training that enables efficient computation from data, enabling deeper learning and more robust applications.\u001b[0m\n"
     ]
    }
   ],
   "source": [
    "logger.info(f\"Parameters pipeline result:\\n\\n {param_result}\")"
   ]
  },
  {
   "cell_type": "code",
   "execution_count": null,
   "metadata": {},
   "outputs": [],
   "source": []
  },
  {
   "cell_type": "code",
   "execution_count": null,
   "metadata": {},
   "outputs": [],
   "source": []
  }
 ],
 "metadata": {
  "kernelspec": {
   "display_name": "Python 3 (ipykernel)",
   "language": "python",
   "name": "python3"
  },
  "language_info": {
   "codemirror_mode": {
    "name": "ipython",
    "version": 3
   },
   "file_extension": ".py",
   "mimetype": "text/x-python",
   "name": "python",
   "nbconvert_exporter": "python",
   "pygments_lexer": "ipython3",
   "version": "3.12.9"
  }
 },
 "nbformat": 4,
 "nbformat_minor": 4
}

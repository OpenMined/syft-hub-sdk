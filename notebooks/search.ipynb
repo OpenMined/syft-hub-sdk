{
 "cells": [
  {
   "cell_type": "markdown",
   "metadata": {},
   "source": [
    "# SyftBox SDK Development Testing\n",
    "\n",
    "This notebook is for testing and validating the SyftBox SDK during development."
   ]
  },
  {
   "cell_type": "code",
   "execution_count": 1,
   "metadata": {},
   "outputs": [],
   "source": [
    "%%capture output --no-stderr\n",
    "\n",
    "# Install the SDK in development mode (run this once)\n",
    "!pip install nest_asyncio\n",
    "!pip install -e ."
   ]
  },
  {
   "cell_type": "code",
   "execution_count": 2,
   "metadata": {},
   "outputs": [],
   "source": [
    "# Import the SDK\n",
    "import syft_nsai_sdk as sdk\n",
    "import nest_asyncio\n",
    "import httpx\n",
    "import logging\n",
    "import os"
   ]
  },
  {
   "cell_type": "code",
   "execution_count": 3,
   "metadata": {},
   "outputs": [],
   "source": [
    "# import client\n",
    "from syft_nsai_sdk import SyftBoxClient\n",
    "from syft_nsai_sdk.utils.logger import get_logger\n",
    "from IPython.display import display, HTML, Markdown"
   ]
  },
  {
   "cell_type": "code",
   "execution_count": 4,
   "metadata": {},
   "outputs": [
    {
     "name": "stderr",
     "output_type": "stream",
     "text": [
      "\u001b[32m2025-08-29 23:53:02 - syft_nsai_sdk - SUCCESS - Logger initialized successfully!\u001b[0m\n"
     ]
    }
   ],
   "source": [
    "# define async\n",
    "nest_asyncio.apply()\n",
    "\n",
    "# initialize logger\n",
    "logger = get_logger()\n",
    "logger.success(\"Logger initialized successfully!\")\n",
    "\n",
    "# Turn off debug logging for your SDK\n",
    "logging.getLogger('syft_nsai_sdk').setLevel(logging.INFO)"
   ]
  },
  {
   "cell_type": "code",
   "execution_count": 5,
   "metadata": {},
   "outputs": [
    {
     "name": "stderr",
     "output_type": "stream",
     "text": [
      "\u001b[34m2025-08-29 23:53:03 - syft_nsai_sdk.main - INFO - Found existing accounting credentials in environment\u001b[0m\n",
      "\u001b[34m2025-08-29 23:53:03 - syft_nsai_sdk.main - INFO - SyftBoxClient initialized for guest@syft.org\u001b[0m\n",
      "\u001b[34m2025-08-29 23:53:03 - syft_nsai_sdk - INFO - Syftbox client created: <syft_nsai_sdk.main.SyftBoxClient object at 0x1100e35c0>\u001b[0m\n"
     ]
    }
   ],
   "source": [
    "# initialize client\n",
    "client = SyftBoxClient()\n",
    "logger.info(f\"Syftbox client created: {client}\")"
   ]
  },
  {
   "cell_type": "code",
   "execution_count": 6,
   "metadata": {},
   "outputs": [],
   "source": [
    "# # get env vars\n",
    "# email = os.getenv('SYFTBOX_ACCOUNTING_EMAIL')\n",
    "# password = os.getenv('SYFTBOX_ACCOUNTING_PASSWORD')\n",
    "# logger.info(f\"SYFTBOX_ACCOUNTING_EMAIL: {email}\")\n",
    "# logger.info(f\"SYFTBOX_ACCOUNTING_PASSWORD: {bool(password)}\")\n",
    "\n",
    "# # Setup accounting for paid models\n",
    "# await client.setup_accounting(email, password)"
   ]
  },
  {
   "cell_type": "code",
   "execution_count": 7,
   "metadata": {},
   "outputs": [
    {
     "name": "stdout",
     "output_type": "stream",
     "text": [
      "{'email': 'callis@openmined.org', 'balance': 112.9, 'currency': 'USD', 'account_id': 'cme1ec567000aqn3z9vu7q3st', 'created_at': None}\n"
     ]
    }
   ],
   "source": [
    "print(await client.get_account_info())"
   ]
  },
  {
   "cell_type": "code",
   "execution_count": 8,
   "metadata": {},
   "outputs": [
    {
     "name": "stderr",
     "output_type": "stream",
     "text": [
      "\u001b[34m2025-08-29 23:53:12 - syft_nsai_sdk.services.health - INFO - Batch health check completed in 5.93s for 7 models\u001b[0m\n",
      "\u001b[34m2025-08-29 23:53:12 - syft_nsai_sdk.main - INFO - Discovered 7 models (health_check=True)\u001b[0m\n"
     ]
    },
    {
     "name": "stdout",
     "output_type": "stream",
     "text": [
      "Found 7 models\n"
     ]
    }
   ],
   "source": [
    "# Discover models explicitly \n",
    "models = client.discover_models(service_type=\"chat\")\n",
    "print(f\"Found {len(models)} models\")"
   ]
  },
  {
   "cell_type": "code",
   "execution_count": 9,
   "metadata": {},
   "outputs": [
    {
     "name": "stdout",
     "output_type": "stream",
     "text": [
      "Name                 Owner                     Tags                      Services                 \n",
      "----------------------------------------------------------------------------------------------------\n",
      "keelan-test-3        kj@kj.dev                 test                      chat, search             \n",
      "pal-8                afdolriski@gmail.com                                chat, search             \n",
      "carl-model           callis@openmined.org      Chat, Search              chat, search             \n",
      "claude-sonnet-3.5    aggregator@openmined.org  claude, anthropic         chat                     \n",
      "deepseek-v3          aggregator@openmined.org  deepseek, opensource      chat                     \n",
      "test                 irina@openmined.org       test                      chat, search             \n",
      "sota-model           callisezenwaka@barestripe.com chat, search              chat, search             \n"
     ]
    }
   ],
   "source": [
    "print(f\"{'Name':<20} {'Owner':<25} {'Tags':<25} {'Services':<25}\")\n",
    "print(\"-\" * 100)\n",
    "for model in models:\n",
    "    enabled_services = [s.type.value for s in model.services if s.enabled]\n",
    "    tags_str = \", \".join(model.tags[:2])\n",
    "    services_str = \", \".join(enabled_services)\n",
    "    print(f\"{model.name:<20} {model.owner:<25} {tags_str:<25} {services_str:<25}\")"
   ]
  },
  {
   "cell_type": "code",
   "execution_count": 11,
   "metadata": {},
   "outputs": [
    {
     "name": "stderr",
     "output_type": "stream",
     "text": [
      "\u001b[34m2025-08-29 23:55:24 - syft_nsai_sdk.main - INFO - Discovered 1 models (health_check=False)\u001b[0m\n"
     ]
    }
   ],
   "source": [
    "result = await client.search(\n",
    "    model_name=\"carl-model\",\n",
    "    owner=\"callis@openmined.org\", \n",
    "    query=\"Federated learning\",\n",
    "    limit=10,\n",
    "    similarity_threshold=0.8\n",
    ")"
   ]
  },
  {
   "cell_type": "code",
   "execution_count": 12,
   "metadata": {},
   "outputs": [
    {
     "name": "stderr",
     "output_type": "stream",
     "text": [
      "\u001b[34m2025-08-29 23:55:34 - syft_nsai_sdk - INFO - Search result:\n",
      "\n",
      " Search results for: 'Federated learning'\n",
      "\n",
      "1. Score: 0.302\n",
      "   | Private computations                                                                              ...\n",
      "\n",
      "2. Score: 0.295\n",
      "   ay to create a digital cash system without requiring a trusted central authority. The idea is to dig...\n",
      "\n",
      "3. Score: 0.284\n",
      "   | Alice sends Q A to Bob - -- -- -- -- -- -- -- ---→ Q A                                            ...\n",
      "\n",
      "4. Score: 0.280\n",
      "   |\n",
      "| Further private computations                                                                    ...\n",
      "\n",
      "5. Score: 0.261\n",
      "   nd then anyone who knows how to send her email automatically knows her public key. Of course, this i...\n",
      "\n",
      "6. Score: 0.260\n",
      "   unctions of Several Variables . Undergraduate Texts in Mathematics, 2nd edn. (Springer, New York, 19...\n",
      "\n",
      "7. Score: 0.251\n",
      "   m is to provide security, then their adversary Eve must not know k , must not be able to guess k , a...\n",
      "\n",
      "8. Score: 0.244\n",
      "   t use her driver's license or passport for this purpose. But the problem becomes more difficult when...\n",
      "\n",
      "9. Score: 0.243\n",
      "   Alice and Bob make the values of p and g public\n",
      "\n",
      "knowledge; for example, they might post the values ...\n",
      "\n",
      "10. Score: 0.241\n",
      "   N can be verified in polynomial time on a nondeterministic Turing machine. When both the yes and no ...\u001b[0m\n"
     ]
    }
   ],
   "source": [
    "# show response\n",
    "logger.info(f\"Search result:\\n\\n {result}\")"
   ]
  },
  {
   "cell_type": "code",
   "execution_count": 13,
   "metadata": {},
   "outputs": [
    {
     "name": "stderr",
     "output_type": "stream",
     "text": [
      "\u001b[34m2025-08-29 23:55:56 - syft_nsai_sdk.main - INFO - Multi-model search across 2 models\u001b[0m\n",
      "\u001b[34m2025-08-29 23:55:56 - syft_nsai_sdk.main - INFO - Discovered 1 models (health_check=False)\u001b[0m\n",
      "\u001b[34m2025-08-29 23:55:57 - syft_nsai_sdk.main - INFO - Discovered 1 models (health_check=False)\u001b[0m\n"
     ]
    },
    {
     "name": "stdout",
     "output_type": "stream",
     "text": [
      "                                                                                "
     ]
    },
    {
     "name": "stderr",
     "output_type": "stream",
     "text": [
      "\u001b[34m2025-08-29 23:56:03 - syft_nsai_sdk.main - INFO - Multi-search completed: 3 results from 2/2 models\u001b[0m\n"
     ]
    },
    {
     "name": "stdout",
     "output_type": "stream",
     "text": [
      "✓ Response received\n",
      "\n"
     ]
    }
   ],
   "source": [
    "# Search multiple models\n",
    "results = await client.search_multiple_models(\n",
    "    model_names=[\"carl-model\", \"sota-model\"],\n",
    "    query=\"vacation policy\",\n",
    "    limit_per_model=3,\n",
    "    total_limit=10,\n",
    "    remove_duplicates=True\n",
    ")"
   ]
  },
  {
   "cell_type": "code",
   "execution_count": 14,
   "metadata": {},
   "outputs": [
    {
     "name": "stderr",
     "output_type": "stream",
     "text": [
      "\u001b[34m2025-08-29 23:56:05 - syft_nsai_sdk - INFO - Search results:\n",
      "\n",
      " Search results for: 'vacation policy'\n",
      "\n",
      "1. Score: 0.195\n",
      "   are discussed in Sect. 5.3.3.\n",
      "\n",
      "as illustrated in Fig. 7.6. So our samples are points ( x, y ) in the...\n",
      "\n",
      "2. Score: 0.189\n",
      "   the previous i -1 people. Among the 365 possible birthdays, note that the previous i -1 people have ...\n",
      "\n",
      "3. Score: 0.169\n",
      "   rations?\n",
      "- (b) How many hours does it take to perform L (2 250 ) operations?\n",
      "- (c) How many days doe...\u001b[0m\n"
     ]
    }
   ],
   "source": [
    "# show response\n",
    "logger.info(f\"Search results:\\n\\n {results}\")"
   ]
  },
  {
   "cell_type": "code",
   "execution_count": null,
   "metadata": {},
   "outputs": [],
   "source": []
  }
 ],
 "metadata": {
  "kernelspec": {
   "display_name": "Python 3 (ipykernel)",
   "language": "python",
   "name": "python3"
  },
  "language_info": {
   "codemirror_mode": {
    "name": "ipython",
    "version": 3
   },
   "file_extension": ".py",
   "mimetype": "text/x-python",
   "name": "python",
   "nbconvert_exporter": "python",
   "pygments_lexer": "ipython3",
   "version": "3.12.9"
  }
 },
 "nbformat": 4,
 "nbformat_minor": 4
}

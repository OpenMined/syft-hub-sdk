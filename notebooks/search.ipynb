{
 "cells": [
  {
   "cell_type": "markdown",
   "metadata": {},
   "source": [
    "# SyftBox SDK Development Testing\n",
    "\n",
    "This notebook is for testing and validating the SyftBox SDK during development."
   ]
  },
  {
   "cell_type": "code",
   "execution_count": 1,
   "metadata": {},
   "outputs": [],
   "source": [
    "%%capture output --no-stderr\n",
    "\n",
    "# Install the SDK in development mode (run this once)\n",
    "!uv pip install nest_asyncio"
   ]
  },
  {
   "cell_type": "code",
   "execution_count": 2,
   "metadata": {},
   "outputs": [],
   "source": [
    "# Import the SDK\n",
    "import syft_nsai_sdk as sdk\n",
    "import nest_asyncio\n",
    "import httpx\n",
    "import logging\n",
    "import os"
   ]
  },
  {
   "cell_type": "code",
   "execution_count": 3,
   "metadata": {},
   "outputs": [],
   "source": [
    "# Import client\n",
    "from syft_nsai_sdk import Client\n",
    "from syft_nsai_sdk.utils.logger import get_logger"
   ]
  },
  {
   "cell_type": "code",
   "execution_count": 4,
   "metadata": {},
   "outputs": [
    {
     "name": "stderr",
     "output_type": "stream",
     "text": [
      "\u001b[32m2025-09-03 23:20:20 - syft_nsai_sdk - SUCCESS - Logger initialized successfully!\u001b[0m\n"
     ]
    }
   ],
   "source": [
    "# define utilities\n",
    "nest_asyncio.apply()\n",
    "logger = get_logger()\n",
    "logging.getLogger('syft_nsai_sdk').setLevel(logging.INFO)\n",
    "logger.success(\"Logger initialized successfully!\")"
   ]
  },
  {
   "cell_type": "code",
   "execution_count": 5,
   "metadata": {},
   "outputs": [
    {
     "name": "stderr",
     "output_type": "stream",
     "text": [
      "\u001b[34m2025-09-03 23:20:20 - syft_nsai_sdk.main - INFO - Found existing accounting credentials for callis@openmined.org\u001b[0m\n",
      "\u001b[34m2025-09-03 23:20:20 - syft_nsai_sdk.main - INFO - Client initialized for callis@openmined.org\u001b[0m\n"
     ]
    }
   ],
   "source": [
    "# Initialize client\n",
    "client = Client()"
   ]
  },
  {
   "cell_type": "code",
   "execution_count": 8,
   "metadata": {},
   "outputs": [
    {
     "name": "stderr",
     "output_type": "stream",
     "text": [
      "\u001b[34m2025-09-03 23:20:34 - syft_nsai_sdk.main - INFO - Using service: sota-free from datasite: callis@openmined.org\u001b[0m\n"
     ]
    }
   ],
   "source": [
    "# search service\n",
    "result = client.search(\n",
    "    service_name=\"callis@openmined.org/sota-free\",\n",
    "    message=\"How do agents operate?\",\n",
    "    topK=5,\n",
    "    similarity_threshold=0.8\n",
    ")"
   ]
  },
  {
   "cell_type": "code",
   "execution_count": 9,
   "metadata": {},
   "outputs": [
    {
     "name": "stderr",
     "output_type": "stream",
     "text": [
      "\u001b[34m2025-09-03 23:20:37 - syft_nsai_sdk - INFO - Search result:\n",
      "\n",
      " Search results for: 'How do agents operate?'\n",
      "\n",
      "1. Score: 0.677\n",
      "   of explicit instruction sets from a human, an agent can reason about what it should do next to achie...\n",
      "\n",
      "2. Score: 0.677\n",
      "   and examples - to easily construct the desired system behavior. In addition, the platform comes with...\n",
      "\n",
      "3. Score: 0.649\n",
      "   ion                                       |   4 |\n",
      "|-------------------------------------------------...\n",
      "\n",
      "4. Score: 0.643\n",
      "   d plan and execute complex tasks autonomously. agents can leverage one or more language models to de...\n",
      "\n",
      "5. Score: 0.621\n",
      "   le of delivering exceptional results across various industries and problem areas.\n",
      "\n",
      "It's important to...\u001b[0m\n"
     ]
    }
   ],
   "source": [
    "# show response\n",
    "logger.info(f\"Search result:\\n\\n {result}\")\n",
    "# logger.info(f\"Search result:\\n\\n {client.format_search_context(result, \"simple\")}\")"
   ]
  },
  {
   "cell_type": "code",
   "execution_count": null,
   "metadata": {},
   "outputs": [],
   "source": []
  }
 ],
 "metadata": {
  "kernelspec": {
   "display_name": "Python 3 (ipykernel)",
   "language": "python",
   "name": "python3"
  },
  "language_info": {
   "codemirror_mode": {
    "name": "ipython",
    "version": 3
   },
   "file_extension": ".py",
   "mimetype": "text/x-python",
   "name": "python",
   "nbconvert_exporter": "python",
   "pygments_lexer": "ipython3",
   "version": "3.12.9"
  }
 },
 "nbformat": 4,
 "nbformat_minor": 4
}

{
 "cells": [
  {
   "cell_type": "markdown",
   "metadata": {},
   "source": [
    "# SyftBox SDK Development Testing\n",
    "\n",
    "This notebook is for testing and validating the SyftBox SDK during development."
   ]
  },
  {
   "cell_type": "code",
   "execution_count": 1,
   "metadata": {},
   "outputs": [],
   "source": [
    "%%capture output --no-stderr\n",
    "\n",
    "# Install the SDK in development mode (run this once)\n",
    "!pip install nest_asyncio\n",
    "!pip install -e ."
   ]
  },
  {
   "cell_type": "code",
   "execution_count": 2,
   "metadata": {},
   "outputs": [],
   "source": [
    "# Import the SDK\n",
    "import syft_nsai_sdk as sdk\n",
    "import nest_asyncio\n",
    "import httpx\n",
    "import logging\n",
    "import os"
   ]
  },
  {
   "cell_type": "code",
   "execution_count": 3,
   "metadata": {},
   "outputs": [],
   "source": [
    "# import client\n",
    "from syft_nsai_sdk import SyftBoxClient\n",
    "from syft_nsai_sdk.utils.logger import get_logger\n",
    "from IPython.display import display, HTML, Markdown"
   ]
  },
  {
   "cell_type": "code",
   "execution_count": 4,
   "metadata": {},
   "outputs": [
    {
     "name": "stderr",
     "output_type": "stream",
     "text": [
      "\u001b[32m2025-08-29 18:34:39 - syft_nsai_sdk - SUCCESS - Logger initialized successfully!\u001b[0m\n"
     ]
    }
   ],
   "source": [
    "# define async\n",
    "nest_asyncio.apply()\n",
    "\n",
    "# initialize logger\n",
    "logger = get_logger()\n",
    "logger.success(\"Logger initialized successfully!\")\n",
    "\n",
    "# Turn off debug logging for your SDK\n",
    "logging.getLogger('syft_nsai_sdk').setLevel(logging.INFO)"
   ]
  },
  {
   "cell_type": "code",
   "execution_count": 5,
   "metadata": {},
   "outputs": [
    {
     "name": "stderr",
     "output_type": "stream",
     "text": [
      "\u001b[34m2025-08-29 18:34:40 - syft_nsai_sdk.main - INFO - Found existing accounting credentials in environment\u001b[0m\n",
      "\u001b[34m2025-08-29 18:34:40 - syft_nsai_sdk.main - INFO - SyftBoxClient initialized for guest@syft.org\u001b[0m\n",
      "\u001b[34m2025-08-29 18:34:40 - syft_nsai_sdk - INFO - Syftbox client created: <syft_nsai_sdk.main.SyftBoxClient object at 0x1094e54c0>\u001b[0m\n"
     ]
    }
   ],
   "source": [
    "# initialize client\n",
    "client = SyftBoxClient()\n",
    "logger.info(f\"Syftbox client created: {client}\")"
   ]
  },
  {
   "cell_type": "code",
   "execution_count": null,
   "metadata": {},
   "outputs": [],
   "source": [
    "# # get env vars\n",
    "# email = os.getenv('SYFTBOX_ACCOUNTING_EMAIL')\n",
    "# password = os.getenv('SYFTBOX_ACCOUNTING_PASSWORD')\n",
    "# logger.info(f\"SYFTBOX_ACCOUNTING_EMAIL: {email}\")\n",
    "# logger.info(f\"SYFTBOX_ACCOUNTING_PASSWORD: {bool(password)}\")\n",
    "\n",
    "# # Setup accounting for paid models\n",
    "# await client.setup_accounting(email, password)"
   ]
  },
  {
   "cell_type": "code",
   "execution_count": 6,
   "metadata": {},
   "outputs": [
    {
     "name": "stdout",
     "output_type": "stream",
     "text": [
      "{'email': 'callis@openmined.org', 'balance': 113.2, 'currency': 'USD', 'account_id': 'cme1ec567000aqn3z9vu7q3st', 'created_at': None}\n"
     ]
    }
   ],
   "source": [
    "print(await client.get_account_info())"
   ]
  },
  {
   "cell_type": "code",
   "execution_count": 7,
   "metadata": {},
   "outputs": [
    {
     "name": "stderr",
     "output_type": "stream",
     "text": [
      "\u001b[34m2025-08-29 18:34:46 - syft_nsai_sdk.discovery.scanner - INFO - Found 12 models across 256 datasites\u001b[0m\n",
      "\u001b[34m2025-08-29 18:34:46 - syft_nsai_sdk.discovery.scanner - INFO - Cached 12 models from 10 owners\u001b[0m\n",
      "\u001b[34m2025-08-29 18:34:52 - syft_nsai_sdk.services.health - INFO - Batch health check completed in 6.03s for 8 models\u001b[0m\n",
      "\u001b[34m2025-08-29 18:34:52 - syft_nsai_sdk.main - INFO - Discovered 8 models (health_check=True)\u001b[0m\n"
     ]
    },
    {
     "name": "stdout",
     "output_type": "stream",
     "text": [
      "Found 8 models\n"
     ]
    }
   ],
   "source": [
    "# Discover models explicitly \n",
    "models = client.discover_models(service_type=\"chat\")\n",
    "print(f\"Found {len(models)} models\")"
   ]
  },
  {
   "cell_type": "code",
   "execution_count": 8,
   "metadata": {},
   "outputs": [
    {
     "name": "stdout",
     "output_type": "stream",
     "text": [
      "Name                 Owner                     Tags                      Services                 \n",
      "----------------------------------------------------------------------------------------------------\n",
      "keelan-test-3        kj@kj.dev                 test                      chat, search             \n",
      "pal-8                afdolriski@gmail.com                                chat, search             \n",
      "carl-model           callis@openmined.org      Chat, Search              chat, search             \n",
      "carl-free            callis@openmined.org      chat, search              chat, search             \n",
      "claude-sonnet-3.5    aggregator@openmined.org  claude, anthropic         chat                     \n",
      "deepseek-v3          aggregator@openmined.org  deepseek, opensource      chat                     \n",
      "test                 irina@openmined.org       test                      chat, search             \n",
      "sota-model           callisezenwaka@barestripe.com chat, search              chat, search             \n"
     ]
    }
   ],
   "source": [
    "print(f\"{'Name':<20} {'Owner':<25} {'Tags':<25} {'Services':<25}\")\n",
    "print(\"-\" * 100)\n",
    "for model in models:\n",
    "    enabled_services = [s.type.value for s in model.services if s.enabled]\n",
    "    tags_str = \", \".join(model.tags[:2])\n",
    "    services_str = \", \".join(enabled_services)\n",
    "    print(f\"{model.name:<20} {model.owner:<25} {tags_str:<25} {services_str:<25}\")"
   ]
  },
  {
   "cell_type": "code",
   "execution_count": 11,
   "metadata": {},
   "outputs": [
    {
     "name": "stderr",
     "output_type": "stream",
     "text": [
      "\u001b[34m2025-08-29 19:37:56 - syft_nsai_sdk.main - INFO - Discovered 1 models (health_check=False)\u001b[0m\n"
     ]
    },
    {
     "name": "stdout",
     "output_type": "stream",
     "text": [
      "✓ Response received                                                             \n",
      "\n"
     ]
    },
    {
     "ename": "PollingTimeoutError",
     "evalue": "RPC_ERROR: Polling timed out after 30/30 attempts",
     "output_type": "error",
     "traceback": [
      "\u001b[31m---------------------------------------------------------------------------\u001b[39m",
      "\u001b[31mPollingTimeoutError\u001b[39m                       Traceback (most recent call last)",
      "\u001b[36mCell\u001b[39m\u001b[36m \u001b[39m\u001b[32mIn[11]\u001b[39m\u001b[32m, line 1\u001b[39m\n\u001b[32m----> \u001b[39m\u001b[32m1\u001b[39m result = \u001b[38;5;28;01mawait\u001b[39;00m client.search(\n\u001b[32m      2\u001b[39m     model_name=\u001b[33m\"\u001b[39m\u001b[33mtest\u001b[39m\u001b[33m\"\u001b[39m,\n\u001b[32m      3\u001b[39m     owner=\u001b[33m\"\u001b[39m\u001b[33mirina@openmined.org\u001b[39m\u001b[33m\"\u001b[39m, \n\u001b[32m      4\u001b[39m     query=\u001b[33m\"\u001b[39m\u001b[33mFederated learning\u001b[39m\u001b[33m\"\u001b[39m,\n\u001b[32m      5\u001b[39m     limit=\u001b[32m10\u001b[39m,\n\u001b[32m      6\u001b[39m     similarity_threshold=\u001b[32m0.8\u001b[39m\n\u001b[32m      7\u001b[39m )\n",
      "\u001b[36mFile \u001b[39m\u001b[32m~/Documents/projects/openmined/syft-nsai-sdk/syft_nsai_sdk/core/decorators.py:25\u001b[39m, in \u001b[36mrequire_account.<locals>.async_wrapper\u001b[39m\u001b[34m(self, *args, **kwargs)\u001b[39m\n\u001b[32m     20\u001b[39m \u001b[38;5;28;01mif\u001b[39;00m \u001b[38;5;129;01mnot\u001b[39;00m \u001b[38;5;28mgetattr\u001b[39m(\u001b[38;5;28mself\u001b[39m, \u001b[33m'\u001b[39m\u001b[33m_account_configured\u001b[39m\u001b[33m'\u001b[39m, \u001b[38;5;28;01mFalse\u001b[39;00m):\n\u001b[32m     21\u001b[39m     \u001b[38;5;28;01mraise\u001b[39;00m AuthenticationError(\n\u001b[32m     22\u001b[39m         \u001b[33m\"\u001b[39m\u001b[33mAccount setup required before using models. \u001b[39m\u001b[33m\"\u001b[39m\n\u001b[32m     23\u001b[39m         \u001b[33m\"\u001b[39m\u001b[33mPlease run: await client.setup_accounting(email, password)\u001b[39m\u001b[33m\"\u001b[39m\n\u001b[32m     24\u001b[39m     )\n\u001b[32m---> \u001b[39m\u001b[32m25\u001b[39m \u001b[38;5;28;01mreturn\u001b[39;00m \u001b[38;5;28;01mawait\u001b[39;00m func(\u001b[38;5;28mself\u001b[39m, *args, **kwargs)\n",
      "\u001b[36mFile \u001b[39m\u001b[32m~/Documents/projects/openmined/syft-nsai-sdk/syft_nsai_sdk/main.py:513\u001b[39m, in \u001b[36mSyftBoxClient.search\u001b[39m\u001b[34m(self, model_name, query, owner, limit, similarity_threshold, **kwargs)\u001b[39m\n\u001b[32m    510\u001b[39m \u001b[38;5;66;03m# Create service and make request\u001b[39;00m\n\u001b[32m    511\u001b[39m search_service = SearchService(model, \u001b[38;5;28mself\u001b[39m.rpc_client)\n\u001b[32m--> \u001b[39m\u001b[32m513\u001b[39m \u001b[38;5;28;01mreturn\u001b[39;00m \u001b[38;5;28;01mawait\u001b[39;00m search_service.search_with_params(search_params)\n",
      "\u001b[36mFile \u001b[39m\u001b[32m~/Documents/projects/openmined/syft-nsai-sdk/syft_nsai_sdk/services/search.py:221\u001b[39m, in \u001b[36mSearchService.search_with_params\u001b[39m\u001b[34m(self, params)\u001b[39m\n\u001b[32m    218\u001b[39m     payload[\u001b[33m\"\u001b[39m\u001b[33moptions\u001b[39m\u001b[33m\"\u001b[39m][key] = value\n\u001b[32m    220\u001b[39m \u001b[38;5;66;03m# Make RPC call\u001b[39;00m\n\u001b[32m--> \u001b[39m\u001b[32m221\u001b[39m response_data = \u001b[38;5;28;01mawait\u001b[39;00m \u001b[38;5;28mself\u001b[39m.rpc_client.call_search(\u001b[38;5;28mself\u001b[39m.model_info, payload)\n\u001b[32m    222\u001b[39m \u001b[38;5;28;01mreturn\u001b[39;00m \u001b[38;5;28mself\u001b[39m._parse_rpc_response(response_data, query)\n",
      "\u001b[36mFile \u001b[39m\u001b[32m~/Documents/projects/openmined/syft-nsai-sdk/syft_nsai_sdk/clients/rpc_client.py:374\u001b[39m, in \u001b[36mSyftBoxRPCClient.call_search\u001b[39m\u001b[34m(self, model_info, request_data)\u001b[39m\n\u001b[32m    364\u001b[39m \u001b[38;5;250m\u001b[39m\u001b[33;03m\"\"\"Call the search endpoint of a model.\u001b[39;00m\n\u001b[32m    365\u001b[39m \u001b[33;03m\u001b[39;00m\n\u001b[32m    366\u001b[39m \u001b[33;03mArgs:\u001b[39;00m\n\u001b[32m   (...)\u001b[39m\u001b[32m    371\u001b[39m \u001b[33;03m    Search response data\u001b[39;00m\n\u001b[32m    372\u001b[39m \u001b[33;03m\"\"\"\u001b[39;00m\n\u001b[32m    373\u001b[39m syft_url = \u001b[38;5;28mself\u001b[39m.build_syft_url(model_info.owner, model_info.name, \u001b[33m\"\u001b[39m\u001b[33msearch\u001b[39m\u001b[33m\"\u001b[39m)\n\u001b[32m--> \u001b[39m\u001b[32m374\u001b[39m \u001b[38;5;28;01mreturn\u001b[39;00m \u001b[38;5;28;01mawait\u001b[39;00m \u001b[38;5;28mself\u001b[39m.call_rpc(syft_url, request_data)\n",
      "\u001b[36mFile \u001b[39m\u001b[32m~/Documents/projects/openmined/syft-nsai-sdk/syft_nsai_sdk/clients/rpc_client.py:191\u001b[39m, in \u001b[36mSyftBoxRPCClient.call_rpc\u001b[39m\u001b[34m(self, syft_url, payload, headers, show_spinner)\u001b[39m\n\u001b[32m    188\u001b[39m         \u001b[38;5;28;01mraise\u001b[39;00m RPCError(\u001b[33m\"\u001b[39m\u001b[33mAsync response but no poll URL found\u001b[39m\u001b[33m\"\u001b[39m, syft_url)\n\u001b[32m    190\u001b[39m     \u001b[38;5;66;03m# Poll for the actual response\u001b[39;00m\n\u001b[32m--> \u001b[39m\u001b[32m191\u001b[39m     \u001b[38;5;28;01mreturn\u001b[39;00m \u001b[38;5;28;01mawait\u001b[39;00m \u001b[38;5;28mself\u001b[39m._poll_for_response(poll_url_path, syft_url, request_id, show_spinner)\n\u001b[32m    193\u001b[39m \u001b[38;5;28;01melse\u001b[39;00m:\n\u001b[32m    194\u001b[39m     \u001b[38;5;66;03m# Error response\u001b[39;00m\n\u001b[32m    195\u001b[39m     \u001b[38;5;28;01mtry\u001b[39;00m:\n",
      "\u001b[36mFile \u001b[39m\u001b[32m~/Documents/projects/openmined/syft-nsai-sdk/syft_nsai_sdk/clients/rpc_client.py:332\u001b[39m, in \u001b[36mSyftBoxRPCClient._poll_for_response\u001b[39m\u001b[34m(self, poll_url_path, syft_url, request_id, show_spinner)\u001b[39m\n\u001b[32m    329\u001b[39m                 \u001b[38;5;28;01mraise\u001b[39;00m PollingError(\u001b[33mf\u001b[39m\u001b[33m\"\u001b[39m\u001b[33mNetwork error during polling: \u001b[39m\u001b[38;5;132;01m{\u001b[39;00me\u001b[38;5;132;01m}\u001b[39;00m\u001b[33m\"\u001b[39m, syft_url, poll_url)\n\u001b[32m    331\u001b[39m     \u001b[38;5;66;03m# Max attempts reached\u001b[39;00m\n\u001b[32m--> \u001b[39m\u001b[32m332\u001b[39m     \u001b[38;5;28;01mraise\u001b[39;00m PollingTimeoutError(syft_url, \u001b[38;5;28mself\u001b[39m.max_poll_attempts, \u001b[38;5;28mself\u001b[39m.max_poll_attempts)\n\u001b[32m    333\u001b[39m \u001b[38;5;28;01mfinally\u001b[39;00m:\n\u001b[32m    334\u001b[39m     \u001b[38;5;66;03m# Always stop spinner, even if an exception occurs\u001b[39;00m\n\u001b[32m    335\u001b[39m     \u001b[38;5;28;01mif\u001b[39;00m spinner:\n",
      "\u001b[31mPollingTimeoutError\u001b[39m: RPC_ERROR: Polling timed out after 30/30 attempts"
     ]
    }
   ],
   "source": [
    "result = await client.search(\n",
    "    model_name=\"test\",\n",
    "    owner=\"irina@openmined.org\", \n",
    "    query=\"Federated learning\",\n",
    "    limit=10,\n",
    "    similarity_threshold=0.8\n",
    ")"
   ]
  },
  {
   "cell_type": "code",
   "execution_count": 12,
   "metadata": {},
   "outputs": [
    {
     "ename": "NameError",
     "evalue": "name 'result' is not defined",
     "output_type": "error",
     "traceback": [
      "\u001b[31m---------------------------------------------------------------------------\u001b[39m",
      "\u001b[31mNameError\u001b[39m                                 Traceback (most recent call last)",
      "\u001b[36mCell\u001b[39m\u001b[36m \u001b[39m\u001b[32mIn[12]\u001b[39m\u001b[32m, line 2\u001b[39m\n\u001b[32m      1\u001b[39m \u001b[38;5;66;03m# show response\u001b[39;00m\n\u001b[32m----> \u001b[39m\u001b[32m2\u001b[39m logger.info(\u001b[33mf\u001b[39m\u001b[33m\"\u001b[39m\u001b[33mSearch result:\u001b[39m\u001b[38;5;130;01m\\n\u001b[39;00m\u001b[38;5;130;01m\\n\u001b[39;00m\u001b[33m \u001b[39m\u001b[38;5;132;01m{\u001b[39;00m\u001b[43mresult\u001b[49m\u001b[38;5;132;01m}\u001b[39;00m\u001b[33m\"\u001b[39m)\n",
      "\u001b[31mNameError\u001b[39m: name 'result' is not defined"
     ]
    }
   ],
   "source": [
    "# show response\n",
    "logger.info(f\"Search result:\\n\\n {result}\")"
   ]
  },
  {
   "cell_type": "code",
   "execution_count": null,
   "metadata": {},
   "outputs": [],
   "source": [
    "# Search multiple models\n",
    "results = await client.search_multiple_models(\n",
    "    model_names=[\"docs\", \"wiki\", \"policies\"],\n",
    "    query=\"vacation policy\",\n",
    "    limit_per_model=3,\n",
    "    total_limit=10,\n",
    "    remove_duplicates=True\n",
    ")"
   ]
  },
  {
   "cell_type": "code",
   "execution_count": null,
   "metadata": {},
   "outputs": [],
   "source": [
    "# show response\n",
    "logger.info(f\"Search results:\\n\\n {results}\")"
   ]
  }
 ],
 "metadata": {
  "kernelspec": {
   "display_name": "Python 3 (ipykernel)",
   "language": "python",
   "name": "python3"
  },
  "language_info": {
   "codemirror_mode": {
    "name": "ipython",
    "version": 3
   },
   "file_extension": ".py",
   "mimetype": "text/x-python",
   "name": "python",
   "nbconvert_exporter": "python",
   "pygments_lexer": "ipython3",
   "version": "3.12.9"
  }
 },
 "nbformat": 4,
 "nbformat_minor": 4
}

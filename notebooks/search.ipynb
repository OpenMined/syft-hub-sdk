{
 "cells": [
  {
   "cell_type": "markdown",
   "metadata": {},
   "source": [
    "# SyftBox SDK Development Testing\n",
    "\n",
    "This notebook is for testing and validating the SyftBox SDK during development."
   ]
  },
  {
   "cell_type": "code",
   "execution_count": 1,
   "metadata": {},
   "outputs": [],
   "source": [
    "%%capture output --no-stderr\n",
    "\n",
    "# Install the SDK in development mode (run this once)\n",
    "# !uv pip install nest_asyncio"
   ]
  },
  {
   "cell_type": "code",
   "execution_count": 2,
   "metadata": {},
   "outputs": [],
   "source": [
    "# Import the SDK\n",
    "import syft_hub as sh\n",
    "# import nest_asyncio\n",
    "# import httpx\n",
    "import logging\n",
    "import os"
   ]
  },
  {
   "cell_type": "code",
   "execution_count": 3,
   "metadata": {},
   "outputs": [],
   "source": [
    "# Import client\n",
    "from syft_hub import Client\n",
    "from syft_hub.utils.logger import get_logger"
   ]
  },
  {
   "cell_type": "code",
   "execution_count": 4,
   "metadata": {},
   "outputs": [
    {
     "name": "stderr",
     "output_type": "stream",
     "text": [
      "\u001b[32m2025-09-05 17:02:19 - syft_hub - SUCCESS - Logger initialized successfully!\u001b[0m\n"
     ]
    }
   ],
   "source": [
    "# define utilities\n",
    "# nest_asyncio.apply()\n",
    "logger = get_logger()\n",
    "logging.getLogger('syft_hub').setLevel(logging.INFO)\n",
    "logger.success(\"Logger initialized successfully!\")"
   ]
  },
  {
   "cell_type": "code",
   "execution_count": 5,
   "metadata": {},
   "outputs": [
    {
     "name": "stderr",
     "output_type": "stream",
     "text": [
      "\u001b[34m2025-09-05 17:02:19 - syft_hub.core.config - INFO - Using config credentials at path: /Users/callisezenwaka/.syftbox/config.json\u001b[0m\n",
      "\u001b[34m2025-09-05 17:02:19 - syft_hub.main - INFO - Found existing accounting credentials for callis@openmined.org\u001b[0m\n",
      "\u001b[34m2025-09-05 17:02:19 - syft_hub.main - INFO - Client initialized for callis@openmined.org\u001b[0m\n"
     ]
    }
   ],
   "source": [
    "# Initialize client\n",
    "client = Client()"
   ]
  },
  {
   "cell_type": "code",
   "execution_count": 6,
   "metadata": {},
   "outputs": [
    {
     "name": "stderr",
     "output_type": "stream",
     "text": [
      "\u001b[34m2025-09-05 17:02:21 - syft_hub.main - INFO - Using service: carl-free from datasite: callis@openmined.org\u001b[0m\n"
     ]
    }
   ],
   "source": [
    "# search service\n",
    "result = await client.search_async(\n",
    "    service_name=\"callis@openmined.org/carl-free\",\n",
    "    message=\"How are agentic AI systems authenticated?\",\n",
    "    topK=5,\n",
    "    similarity_threshold=0.8\n",
    ")"
   ]
  },
  {
   "cell_type": "code",
   "execution_count": 7,
   "metadata": {},
   "outputs": [
    {
     "name": "stderr",
     "output_type": "stream",
     "text": [
      "\u001b[34m2025-09-05 17:02:25 - syft_hub - INFO - Search result:\n",
      "\n",
      " Search results for: 'How are agentic AI systems authenticated?'\n",
      "\n",
      "1. Score: 0.683\n",
      "   n trust each other's intentions, capabilities, and authority, preventing impersonation, unauthorized...\n",
      "\n",
      "2. Score: 0.679\n",
      "   es [18], particularly as they become more integrated into critical infrastructure and decision-makin...\n",
      "\n",
      "3. Score: 0.676\n",
      "   consent, and observable authority are difficult to apply to current autonomous systems. In response ...\n",
      "\n",
      "4. Score: 0.675\n",
      "   agents while addressing key security and accountability concerns, working toward ensuring agentic AI...\n",
      "\n",
      "5. Score: 0.672\n",
      "   humans from AI agents [3]), protecting contextual confidence [42], mitigating AI-augmented influence...\u001b[0m\n"
     ]
    }
   ],
   "source": [
    "# show response\n",
    "logger.info(f\"Search result:\\n\\n {result}\")\n",
    "# logger.info(f\"Search result:\\n\\n {client.format_search_context(result, \"simple\")}\")"
   ]
  },
  {
   "cell_type": "code",
   "execution_count": null,
   "metadata": {},
   "outputs": [],
   "source": []
  }
 ],
 "metadata": {
  "kernelspec": {
   "display_name": "Python 3 (ipykernel)",
   "language": "python",
   "name": "python3"
  },
  "language_info": {
   "codemirror_mode": {
    "name": "ipython",
    "version": 3
   },
   "file_extension": ".py",
   "mimetype": "text/x-python",
   "name": "python",
   "nbconvert_exporter": "python",
   "pygments_lexer": "ipython3",
   "version": "3.12.9"
  }
 },
 "nbformat": 4,
 "nbformat_minor": 4
}

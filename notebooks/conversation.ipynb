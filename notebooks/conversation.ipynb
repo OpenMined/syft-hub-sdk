{
 "cells": [
  {
   "cell_type": "markdown",
   "metadata": {},
   "source": [
    "# SyftBox SDK Development Testing\n",
    "\n",
    "This notebook is for testing and validating the SyftBox SDK during development."
   ]
  },
  {
   "cell_type": "code",
   "execution_count": 1,
   "metadata": {},
   "outputs": [],
   "source": [
    "%%capture output --no-stderr\n",
    "\n",
    "# Install the SDK in development mode (run this once)\n",
    "!pip install nest_asyncio\n",
    "!pip install -e ."
   ]
  },
  {
   "cell_type": "code",
   "execution_count": 2,
   "metadata": {},
   "outputs": [],
   "source": [
    "# Import the SDK\n",
    "import syft_nsai_sdk as sdk\n",
    "import nest_asyncio\n",
    "import httpx\n",
    "import logging\n",
    "import os"
   ]
  },
  {
   "cell_type": "code",
   "execution_count": 3,
   "metadata": {},
   "outputs": [],
   "source": [
    "# import client\n",
    "from syft_nsai_sdk import SyftBoxClient\n",
    "from syft_nsai_sdk.utils.logger import get_logger\n",
    "from IPython.display import display, HTML, Markdown"
   ]
  },
  {
   "cell_type": "code",
   "execution_count": 4,
   "metadata": {},
   "outputs": [
    {
     "name": "stderr",
     "output_type": "stream",
     "text": [
      "\u001b[32m2025-08-28 14:44:14 - syft_nsai_sdk - SUCCESS - Logger initialized successfully!\u001b[0m\n"
     ]
    }
   ],
   "source": [
    "# define async\n",
    "nest_asyncio.apply()\n",
    "\n",
    "# initialize logger\n",
    "logger = get_logger()\n",
    "logger.success(\"Logger initialized successfully!\")\n",
    "\n",
    "# Turn off debug logging for your SDK\n",
    "logging.getLogger('syft_nsai_sdk').setLevel(logging.INFO)"
   ]
  },
  {
   "cell_type": "code",
   "execution_count": 5,
   "metadata": {},
   "outputs": [
    {
     "name": "stderr",
     "output_type": "stream",
     "text": [
      "\u001b[34m2025-08-28 14:44:16 - syft_nsai_sdk.main - INFO - Accounting configured for callis@openmined.org\u001b[0m\n",
      "\u001b[34m2025-08-28 14:44:16 - syft_nsai_sdk.main - INFO - SyftBoxClient initialized for guest@syft.org\u001b[0m\n",
      "\u001b[34m2025-08-28 14:44:16 - syft_nsai_sdk - INFO - Syftbox client created: <syft_nsai_sdk.main.SyftBoxClient object at 0x10dfd2d80>\u001b[0m\n",
      "\u001b[34m2025-08-28 14:44:16 - syft_nsai_sdk - INFO - SYFTBOX_ACCOUNTING_EMAIL: callis@openmined.org\u001b[0m\n",
      "\u001b[34m2025-08-28 14:44:16 - syft_nsai_sdk - INFO - SYFTBOX_ACCOUNTING_PASSWORD: True\u001b[0m\n",
      "\u001b[34m2025-08-28 14:44:16 - syft_nsai_sdk.main - INFO - Using syftbox accounting service URL: https://syftaccounting.centralus.cloudapp.azure.com/\u001b[0m\n",
      "\u001b[34m2025-08-28 14:44:16 - syft_nsai_sdk.main - INFO - Accounting configured for callis@openmined.org\u001b[0m\n",
      "\u001b[34m2025-08-28 14:44:16 - syft_nsai_sdk.main - INFO - Accounting setup successful\u001b[0m\n"
     ]
    }
   ],
   "source": [
    "# initialize client\n",
    "client = SyftBoxClient()\n",
    "logger.info(f\"Syftbox client created: {client}\")"
   ]
  },
  {
   "cell_type": "code",
   "execution_count": null,
   "metadata": {},
   "outputs": [],
   "source": [
    "# get env vars\n",
    "email = os.getenv('SYFTBOX_ACCOUNTING_EMAIL')\n",
    "password = os.getenv('SYFTBOX_ACCOUNTING_PASSWORD')\n",
    "logger.info(f\"SYFTBOX_ACCOUNTING_EMAIL: {email}\")\n",
    "logger.info(f\"SYFTBOX_ACCOUNTING_PASSWORD: {bool(password)}\")\n",
    "\n",
    "# Setup accounting for paid models\n",
    "await client.setup_accounting(email, password)"
   ]
  },
  {
   "cell_type": "code",
   "execution_count": 6,
   "metadata": {},
   "outputs": [
    {
     "name": "stderr",
     "output_type": "stream",
     "text": [
      "\u001b[34m2025-08-28 14:44:17 - syft_nsai_sdk.discovery.scanner - INFO - Found 10 models across 256 datasites\u001b[0m\n",
      "\u001b[34m2025-08-28 14:44:17 - syft_nsai_sdk.discovery.scanner - INFO - Cached 10 models from 8 owners\u001b[0m\n",
      "\u001b[33m2025-08-28 14:44:17 - syft_nsai_sdk.services.health - WARNING - Unexpected error in health check for keelan-test-3: AUTHENTICATION_ERROR: No accounting service URL configured\u001b[0m\n",
      "\u001b[33m2025-08-28 14:44:17 - syft_nsai_sdk.services.health - WARNING - Unexpected error in health check for carl-model: AUTHENTICATION_ERROR: No accounting service URL configured\u001b[0m\n",
      "\u001b[33m2025-08-28 14:44:17 - syft_nsai_sdk.services.health - WARNING - Unexpected error in health check for carl-free: AUTHENTICATION_ERROR: No accounting service URL configured\u001b[0m\n",
      "\u001b[33m2025-08-28 14:44:17 - syft_nsai_sdk.services.health - WARNING - Unexpected error in health check for claude-sonnet-3.5: AUTHENTICATION_ERROR: No accounting service URL configured\u001b[0m\n",
      "\u001b[33m2025-08-28 14:44:17 - syft_nsai_sdk.services.health - WARNING - Unexpected error in health check for deepseek-v3: AUTHENTICATION_ERROR: No accounting service URL configured\u001b[0m\n",
      "\u001b[33m2025-08-28 14:44:17 - syft_nsai_sdk.services.health - WARNING - Unexpected error in health check for test: AUTHENTICATION_ERROR: No accounting service URL configured\u001b[0m\n",
      "\u001b[34m2025-08-28 14:44:17 - syft_nsai_sdk.services.health - INFO - Batch health check completed in 0.05s for 6 models\u001b[0m\n",
      "\u001b[34m2025-08-28 14:44:17 - syft_nsai_sdk.main - INFO - Discovered 6 models (health_check=True)\u001b[0m\n"
     ]
    },
    {
     "name": "stdout",
     "output_type": "stream",
     "text": [
      "Found 6 models\n"
     ]
    }
   ],
   "source": [
    "# STEP 2: Discover models explicitly \n",
    "models = client.discover_models(service_type=\"chat\")\n",
    "print(f\"Found {len(models)} models\")"
   ]
  },
  {
   "cell_type": "code",
   "execution_count": 7,
   "metadata": {},
   "outputs": [
    {
     "name": "stdout",
     "output_type": "stream",
     "text": [
      "Name                 Owner                     Tags                      Services                 \n",
      "----------------------------------------------------------------------------------------------------\n",
      "keelan-test-3        kj@kj.dev                 test                      chat, search             \n",
      "carl-model           callis@openmined.org      Chat, Search              chat, search             \n",
      "carl-free            callis@openmined.org      chat, search              chat, search             \n",
      "claude-sonnet-3.5    aggregator@openmined.org  claude, anthropic         chat, search             \n",
      "deepseek-v3          aggregator@openmined.org  deepseek, opensource      chat                     \n",
      "test                 irina@openmined.org       test                      chat, search             \n"
     ]
    }
   ],
   "source": [
    "print(f\"{'Name':<20} {'Owner':<25} {'Tags':<25} {'Services':<25}\")\n",
    "print(\"-\" * 100)\n",
    "for model in models:\n",
    "    enabled_services = [s.type.value for s in model.services if s.enabled]\n",
    "    tags_str = \", \".join(model.tags[:2])\n",
    "    services_str = \", \".join(enabled_services)\n",
    "    print(f\"{model.name:<20} {model.owner:<25} {tags_str:<25} {services_str:<25}\")"
   ]
  },
  {
   "cell_type": "code",
   "execution_count": 8,
   "metadata": {},
   "outputs": [
    {
     "name": "stdout",
     "output_type": "stream",
     "text": [
      "{'email': 'callis@openmined.org', 'balance': 120.1, 'currency': 'USD'}\n"
     ]
    }
   ],
   "source": [
    "print(await client.get_account_info())"
   ]
  },
  {
   "cell_type": "code",
   "execution_count": 9,
   "metadata": {},
   "outputs": [
    {
     "name": "stderr",
     "output_type": "stream",
     "text": [
      "\u001b[34m2025-08-28 14:44:20 - syft_nsai_sdk.main - INFO - Discovered 1 models (health_check=False)\u001b[0m\n",
      "\u001b[34m2025-08-28 14:44:20 - syft_nsai_sdk.services.chat - INFO - Payload size: 189\u001b[0m\n",
      "\u001b[34m2025-08-28 14:44:20 - syft_nsai_sdk.services.chat - INFO - Prompt length: 23\u001b[0m\n"
     ]
    },
    {
     "name": "stdout",
     "output_type": "stream",
     "text": [
      "✓ Response received                                                             \n",
      "\n"
     ]
    }
   ],
   "source": [
    "# model = client.find_model(\"claude-sonnet-3.5\", \"aggregator@openmined.org\")\n",
    "# model\n",
    "# response = await client.chat(\n",
    "#     model_name=\"carl-model\",\n",
    "#     owner=\"callis@openmined.org\", \n",
    "#     prompt=\"Hello! What is API?\",\n",
    "#     temperature=0.7,\n",
    "#     max_tokens=200\n",
    "# )\n",
    "# Chat with a model\n",
    "response = await client.chat(\n",
    "    model_name=\"claude-sonnet-3.5\",\n",
    "    owner=\"aggregator@openmined.org\",\n",
    "    prompt=\"Hello! What is syftbox?\",\n",
    "    temperature=0.7,\n",
    "    max_tokens=200\n",
    ")"
   ]
  },
  {
   "cell_type": "code",
   "execution_count": 10,
   "metadata": {},
   "outputs": [
    {
     "name": "stderr",
     "output_type": "stream",
     "text": [
      "\u001b[34m2025-08-28 14:44:27 - syft_nsai_sdk - INFO - I don't have specific information about a product or service called \"syftbox.\" It could be a software tool, a hardware device, or a proprietary system, but I don't have definitive details about it in my knowledge base. \n",
      "\n",
      "If you're looking for information about syftbox, you might want to:\n",
      "- Check the official website of the company that makes it\n",
      "- Look for documentation or user guides related to it\n",
      "- Provide more context about where you encountered this term\n",
      "\n",
      "If you have more details about what context you encountered \"syftbox\" in, I'd be happy to try to provide more helpful information.\u001b[0m\n"
     ]
    }
   ],
   "source": [
    "logger.info(response)"
   ]
  },
  {
   "cell_type": "code",
   "execution_count": 9,
   "metadata": {},
   "outputs": [
    {
     "name": "stderr",
     "output_type": "stream",
     "text": [
      "\u001b[34m2025-08-28 14:42:05 - syft_nsai_sdk.main - INFO - Discovered 1 models (health_check=False)\u001b[0m\n"
     ]
    }
   ],
   "source": [
    "# Create conversation (enhanced with owner support)\n",
    "conversation = client.create_conversation(\n",
    "    model_name=\"claude-sonnet-3.5\",\n",
    "    owner=\"aggregator@openmined.org\",\n",
    ")"
   ]
  },
  {
   "cell_type": "code",
   "execution_count": 10,
   "metadata": {},
   "outputs": [],
   "source": [
    "# Clear history when needed\n",
    "conversation.clear_history()"
   ]
  },
  {
   "cell_type": "code",
   "execution_count": 11,
   "metadata": {},
   "outputs": [
    {
     "name": "stderr",
     "output_type": "stream",
     "text": [
      "\u001b[34m2025-08-28 14:42:09 - syft_nsai_sdk.services.chat - INFO - Payload size: 149\u001b[0m\n",
      "\u001b[34m2025-08-28 14:42:09 - syft_nsai_sdk.services.chat - INFO - Prompt length: 33\u001b[0m\n"
     ]
    },
    {
     "name": "stdout",
     "output_type": "stream",
     "text": [
      "Context length: 33 characters\n",
      "✓ Response received                                                             \n",
      "\n"
     ]
    }
   ],
   "source": [
    "# Each message remembers full context\n",
    "response1 = await conversation.send_message(\"What is SyftBox?\")"
   ]
  },
  {
   "cell_type": "code",
   "execution_count": 12,
   "metadata": {},
   "outputs": [
    {
     "name": "stderr",
     "output_type": "stream",
     "text": [
      "\u001b[34m2025-08-28 14:42:17 - syft_nsai_sdk - INFO - Messages count: 2\u001b[0m\n",
      "\u001b[34m2025-08-28 14:42:17 - syft_nsai_sdk - INFO - Context length: 717\u001b[0m\n"
     ]
    },
    {
     "name": "stdout",
     "output_type": "stream",
     "text": [
      "Context length: 717 characters\n"
     ]
    }
   ],
   "source": [
    "# After each response, check the conversation state\n",
    "logger.info(f\"Messages count: {len(conversation.messages)}\")\n",
    "logger.info(f\"Context length: {len(conversation._build_context_prompt('test'))}\")"
   ]
  },
  {
   "cell_type": "code",
   "execution_count": 13,
   "metadata": {},
   "outputs": [
    {
     "name": "stderr",
     "output_type": "stream",
     "text": [
      "\u001b[34m2025-08-28 14:42:18 - syft_nsai_sdk - INFO - Response:\n",
      "SyftBox is not a well-known or established technology or product that I'm aware of in my training data. There could be several possibilities:\n",
      "\n",
      "1. It might be a relatively new or specialized software tool, framework, or platform\n",
      "2. It could be a proprietary system used within a specific organization\n",
      "3. It might be related to Syft, which is an open-source platform for privacy-preserving machine learning\n",
      "4. It could be a typo or variation of another product name\n",
      "\n",
      "If you're referring to a specific technology or product called SyftBox, could you provide more context about where you encountered this term? That would help me give you more accurate information.\u001b[0m\n"
     ]
    }
   ],
   "source": [
    "logger.info(f\"Response:\\n{response1}\")"
   ]
  },
  {
   "cell_type": "code",
   "execution_count": 23,
   "metadata": {},
   "outputs": [
    {
     "name": "stderr",
     "output_type": "stream",
     "text": [
      "\u001b[34m2025-08-28 14:43:04 - syft_nsai_sdk.services.chat - INFO - Payload size: 1506\u001b[0m\n",
      "\u001b[34m2025-08-28 14:43:04 - syft_nsai_sdk.services.chat - INFO - Prompt length: 1378\u001b[0m\n"
     ]
    },
    {
     "name": "stdout",
     "output_type": "stream",
     "text": [
      "Context length: 1378 characters\n",
      "✓ Response received                                                             \n",
      "\n"
     ]
    }
   ],
   "source": [
    "# second conversation\n",
    "response2 = await conversation.send_message(\"How does it work?\")  # Remembers first question"
   ]
  },
  {
   "cell_type": "code",
   "execution_count": 24,
   "metadata": {},
   "outputs": [
    {
     "name": "stderr",
     "output_type": "stream",
     "text": [
      "\u001b[34m2025-08-28 14:43:11 - syft_nsai_sdk - INFO - Messages count: 4\u001b[0m\n",
      "\u001b[34m2025-08-28 14:43:11 - syft_nsai_sdk - INFO - Context length: 1545\u001b[0m\n"
     ]
    },
    {
     "name": "stdout",
     "output_type": "stream",
     "text": [
      "Context length: 1545 characters\n"
     ]
    }
   ],
   "source": [
    "# After each response, check the conversation state\n",
    "logger.info(f\"Messages count: {len(conversation.messages)}\")\n",
    "logger.info(f\"Context length: {len(conversation._build_context_prompt('test'))}\")"
   ]
  },
  {
   "cell_type": "code",
   "execution_count": 25,
   "metadata": {},
   "outputs": [
    {
     "name": "stderr",
     "output_type": "stream",
     "text": [
      "\u001b[34m2025-08-28 14:43:12 - syft_nsai_sdk - INFO - Response:\n",
      "I apologize, but it appears there's a technical issue with the connection to the Claude API. The system is returning error messages rather than providing responses.\n",
      "\n",
      "These errors indicate a problem with the JSON formatting of the requests being sent to the Claude API endpoint. Specifically, it's showing:\n",
      "\n",
      "```\n",
      "Error loading request: 1 validation error for SyftRequest\n",
      "Invalid JSON: EOF while parsing a value at line 1 column 0\n",
      "```\n",
      "\n",
      "This suggests the request is empty or improperly formatted when it reaches the API.\n",
      "\n",
      "To get assistance with your questions, you might want to:\n",
      "1. Try refreshing the page or restarting the application\n",
      "2. Contact technical support for the platform you're using\n",
      "3. Try again later, as this might be a temporary service issue\n",
      "\n",
      "Is there something else I can help you with in the meantime?\u001b[0m\n"
     ]
    }
   ],
   "source": [
    "logger.info(f\"Response:\\n{response2}\")"
   ]
  },
  {
   "cell_type": "code",
   "execution_count": 26,
   "metadata": {},
   "outputs": [
    {
     "name": "stderr",
     "output_type": "stream",
     "text": [
      "\u001b[34m2025-08-28 14:43:14 - syft_nsai_sdk.services.chat - INFO - Payload size: 1696\u001b[0m\n",
      "\u001b[34m2025-08-28 14:43:14 - syft_nsai_sdk.services.chat - INFO - Prompt length: 1556\u001b[0m\n"
     ]
    },
    {
     "name": "stdout",
     "output_type": "stream",
     "text": [
      "Context length: 1556 characters\n"
     ]
    },
    {
     "name": "stderr",
     "output_type": "stream",
     "text": [
      "\u001b[33m2025-08-28 14:43:15 - syft_nsai_sdk.services.chat - WARNING - Unexpected response format, using fallback parsing: {'request_id': 'dbfa3cb8-242e-4c4b-8df0-c920155db138', 'data': {'message': {'body': \"Error loading request: 1 validation error for SyftRequest\\n  Invalid JSON: EOF while parsing a value at line 1 column 0 [type=json_invalid, input_value='', input_type=str]\\n    For further information visit https://errors.pydantic.dev/2.11/v/json_invalid\", 'created': '2025-08-28T13:43:14.691143Z', 'expires': '2025-08-29T13:43:14.691146Z', 'headers': {}, 'id': 'dbfa3cb8-242e-4c4b-8df0-c920155db138', 'method': '', 'sender': 'aggregator@openmined.org', 'status_code': 400, 'url': 'syft://aggregator@openmined.org/app_data/claude-sonnet-3.5/rpc/chat'}}}\u001b[0m\n"
     ]
    }
   ],
   "source": [
    "# third conversation\n",
    "response3 = await conversation.send_message(\"Give an example\")    # Remembers both previous"
   ]
  },
  {
   "cell_type": "code",
   "execution_count": 19,
   "metadata": {},
   "outputs": [
    {
     "name": "stderr",
     "output_type": "stream",
     "text": [
      "\u001b[34m2025-08-28 14:42:44 - syft_nsai_sdk - INFO - Messages count: 4\u001b[0m\n",
      "\u001b[34m2025-08-28 14:42:44 - syft_nsai_sdk - INFO - Context length: 1365\u001b[0m\n"
     ]
    },
    {
     "name": "stdout",
     "output_type": "stream",
     "text": [
      "Context length: 1365 characters\n"
     ]
    }
   ],
   "source": [
    "# After each response, check the conversation state\n",
    "logger.info(f\"Messages count: {len(conversation.messages)}\")\n",
    "logger.info(f\"Context length: {len(conversation._build_context_prompt('test'))}\")"
   ]
  },
  {
   "cell_type": "code",
   "execution_count": 20,
   "metadata": {},
   "outputs": [
    {
     "name": "stderr",
     "output_type": "stream",
     "text": [
      "\u001b[34m2025-08-28 14:42:45 - syft_nsai_sdk - INFO - Response:\n",
      "{'request_id': 'b7a95a2a-a15b-4e54-8845-f8de8e449d14', 'data': {'message': {'body': \"Error loading request: 1 validation error for SyftRequest\\n  Invalid JSON: EOF while parsing a value at line 1 column 0 [type=json_invalid, input_value='', input_type=str]\\n    For further information visit https://errors.pydantic.dev/2.11/v/json_invalid\", 'created': '2025-08-28T13:42:39.455808Z', 'expires': '2025-08-29T13:42:39.455813Z', 'headers': {}, 'id': 'b7a95a2a-a15b-4e54-8845-f8de8e449d14', 'method': '', 'sender': 'aggregator@openmined.org', 'status_code': 400, 'url': 'syft://aggregator@openmined.org/app_data/claude-sonnet-3.5/rpc/chat'}}}\u001b[0m\n"
     ]
    }
   ],
   "source": [
    "logger.info(f\"Response:\\n{response3}\")"
   ]
  },
  {
   "cell_type": "code",
   "execution_count": 21,
   "metadata": {},
   "outputs": [
    {
     "name": "stderr",
     "output_type": "stream",
     "text": [
      "\u001b[34m2025-08-28 14:42:46 - syft_nsai_sdk - INFO - Total messages: 4\u001b[0m\n"
     ]
    }
   ],
   "source": [
    "# Get conversation summary\n",
    "summary = conversation.get_conversation_summary()\n",
    "logger.info(f\"Total messages: {summary['total_messages']}\")"
   ]
  },
  {
   "cell_type": "code",
   "execution_count": null,
   "metadata": {},
   "outputs": [],
   "source": []
  }
 ],
 "metadata": {
  "kernelspec": {
   "display_name": "Python 3 (ipykernel)",
   "language": "python",
   "name": "python3"
  },
  "language_info": {
   "codemirror_mode": {
    "name": "ipython",
    "version": 3
   },
   "file_extension": ".py",
   "mimetype": "text/x-python",
   "name": "python",
   "nbconvert_exporter": "python",
   "pygments_lexer": "ipython3",
   "version": "3.12.9"
  }
 },
 "nbformat": 4,
 "nbformat_minor": 4
}

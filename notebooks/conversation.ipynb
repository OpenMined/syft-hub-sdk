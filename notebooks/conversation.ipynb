{
 "cells": [
  {
   "cell_type": "markdown",
   "metadata": {},
   "source": [
    "# SyftBox SDK Development Testing\n",
    "\n",
    "This notebook is for testing and validating the SyftBox SDK during development."
   ]
  },
  {
   "cell_type": "code",
   "execution_count": 1,
   "metadata": {},
   "outputs": [],
   "source": [
    "%%capture output --no-stderr\n",
    "\n",
    "# Install the SDK in development mode (run this once)\n",
    "!uv pip install nest_asyncio"
   ]
  },
  {
   "cell_type": "code",
   "execution_count": 2,
   "metadata": {},
   "outputs": [],
   "source": [
    "# Import the SDK\n",
    "import syft_nsai_sdk as sdk\n",
    "import nest_asyncio\n",
    "import httpx\n",
    "import logging\n",
    "import os"
   ]
  },
  {
   "cell_type": "code",
   "execution_count": 3,
   "metadata": {},
   "outputs": [],
   "source": [
    "# import client\n",
    "from syft_nsai_sdk import SyftBoxClient\n",
    "from syft_nsai_sdk.utils.logger import get_logger\n",
    "from IPython.display import display, HTML, Markdown"
   ]
  },
  {
   "cell_type": "code",
   "execution_count": 4,
   "metadata": {},
   "outputs": [
    {
     "name": "stderr",
     "output_type": "stream",
     "text": [
      "\u001b[32m2025-08-29 16:12:52 - syft_nsai_sdk - SUCCESS - Logger initialized successfully!\u001b[0m\n"
     ]
    }
   ],
   "source": [
    "# define async\n",
    "nest_asyncio.apply()\n",
    "\n",
    "# initialize logger\n",
    "logger = get_logger()\n",
    "logger.success(\"Logger initialized successfully!\")\n",
    "\n",
    "# Turn off debug logging for your SDK\n",
    "logging.getLogger('syft_nsai_sdk').setLevel(logging.INFO)"
   ]
  },
  {
   "cell_type": "code",
   "execution_count": 5,
   "metadata": {},
   "outputs": [
    {
     "name": "stderr",
     "output_type": "stream",
     "text": [
      "\u001b[34m2025-08-29 16:12:53 - syft_nsai_sdk.main - INFO - Found existing accounting credentials in environment\u001b[0m\n",
      "\u001b[34m2025-08-29 16:12:53 - syft_nsai_sdk.main - INFO - SyftBoxClient initialized for guest@syft.org\u001b[0m\n",
      "\u001b[34m2025-08-29 16:12:53 - syft_nsai_sdk - INFO - Syftbox client created: <syft_nsai_sdk.main.SyftBoxClient object at 0x106561370>\u001b[0m\n"
     ]
    }
   ],
   "source": [
    "# initialize client\n",
    "client = SyftBoxClient()\n",
    "logger.info(f\"Syftbox client created: {client}\")"
   ]
  },
  {
   "cell_type": "code",
   "execution_count": 6,
   "metadata": {},
   "outputs": [],
   "source": [
    "# Get accounting env variables\n",
    "# email = os.getenv('SYFTBOX_ACCOUNTING_EMAIL')\n",
    "# password = os.getenv('SYFTBOX_ACCOUNTING_PASSWORD')\n",
    "# logger.info(f\"SYFTBOX_ACCOUNTING_EMAIL: {email}\")\n",
    "# logger.info(f\"SYFTBOX_ACCOUNTING_PASSWORD: {bool(password)}\")\n",
    "\n",
    "# # Setup accounting for paid models\n",
    "# await client.setup_accounting(email, password)"
   ]
  },
  {
   "cell_type": "code",
   "execution_count": 7,
   "metadata": {},
   "outputs": [
    {
     "name": "stderr",
     "output_type": "stream",
     "text": [
      "\u001b[34m2025-08-29 16:12:55 - syft_nsai_sdk.discovery.scanner - INFO - Found 12 models across 256 datasites\u001b[0m\n",
      "\u001b[34m2025-08-29 16:12:55 - syft_nsai_sdk.discovery.scanner - INFO - Cached 12 models from 10 owners\u001b[0m\n",
      "\u001b[34m2025-08-29 16:13:01 - syft_nsai_sdk.services.health - INFO - Batch health check completed in 5.85s for 8 models\u001b[0m\n",
      "\u001b[34m2025-08-29 16:13:01 - syft_nsai_sdk.main - INFO - Discovered 8 models (health_check=True)\u001b[0m\n"
     ]
    },
    {
     "name": "stdout",
     "output_type": "stream",
     "text": [
      "Found 8 models\n"
     ]
    }
   ],
   "source": [
    "# STEP 2: Discover models explicitly \n",
    "models = client.discover_models(service_type=\"chat\")\n",
    "print(f\"Found {len(models)} models\")"
   ]
  },
  {
   "cell_type": "code",
   "execution_count": 8,
   "metadata": {},
   "outputs": [
    {
     "name": "stdout",
     "output_type": "stream",
     "text": [
      "Name                 Owner                     Tags                      Services                 \n",
      "----------------------------------------------------------------------------------------------------\n",
      "keelan-test-3        kj@kj.dev                 test                      chat, search             \n",
      "pal-8                afdolriski@gmail.com                                chat, search             \n",
      "carl-model           callis@openmined.org      Chat, Search              chat, search             \n",
      "carl-free            callis@openmined.org      chat, search              chat, search             \n",
      "claude-sonnet-3.5    aggregator@openmined.org  claude, anthropic         chat                     \n",
      "deepseek-v3          aggregator@openmined.org  deepseek, opensource      chat                     \n",
      "test                 irina@openmined.org       test                      chat, search             \n",
      "sota-model           callisezenwaka@barestripe.com chat, search              chat, search             \n"
     ]
    }
   ],
   "source": [
    "print(f\"{'Name':<20} {'Owner':<25} {'Tags':<25} {'Services':<25}\")\n",
    "print(\"-\" * 100)\n",
    "for model in models:\n",
    "    enabled_services = [s.type.value for s in model.services if s.enabled]\n",
    "    tags_str = \", \".join(model.tags[:2])\n",
    "    services_str = \", \".join(enabled_services)\n",
    "    print(f\"{model.name:<20} {model.owner:<25} {tags_str:<25} {services_str:<25}\")"
   ]
  },
  {
   "cell_type": "code",
   "execution_count": 9,
   "metadata": {},
   "outputs": [
    {
     "name": "stdout",
     "output_type": "stream",
     "text": [
      "{'email': 'callis@openmined.org', 'balance': 115.3, 'currency': 'USD', 'account_id': 'cme1ec567000aqn3z9vu7q3st', 'created_at': None}\n"
     ]
    }
   ],
   "source": [
    "print(await client.get_account_info())"
   ]
  },
  {
   "cell_type": "code",
   "execution_count": 29,
   "metadata": {},
   "outputs": [
    {
     "name": "stderr",
     "output_type": "stream",
     "text": [
      "\u001b[34m2025-08-29 16:14:52 - syft_nsai_sdk.main - INFO - Discovered 1 models (health_check=False)\u001b[0m\n"
     ]
    }
   ],
   "source": [
    "# Create conversation (enhanced with owner support)\n",
    "conversation = client.create_conversation(\n",
    "    model_name=\"claude-sonnet-3.5\",\n",
    "    owner=\"aggregator@openmined.org\",\n",
    ")"
   ]
  },
  {
   "cell_type": "code",
   "execution_count": 30,
   "metadata": {},
   "outputs": [],
   "source": [
    "# Clear history when needed - defaults context messages = []\n",
    "conversation.clear_history()\n",
    "\n",
    "# Set context - default is 2 previous responses\n",
    "# conversation.set_max_exchanges(1)"
   ]
  },
  {
   "cell_type": "code",
   "execution_count": 31,
   "metadata": {},
   "outputs": [
    {
     "name": "stdout",
     "output_type": "stream",
     "text": [
      "✓ Response received                                                             \n",
      "\n"
     ]
    }
   ],
   "source": [
    "# Each message remembers full context\n",
    "response1 = await conversation.send_message(\"What is SyftBox?\")"
   ]
  },
  {
   "cell_type": "code",
   "execution_count": 24,
   "metadata": {},
   "outputs": [],
   "source": [
    "# After each response, you can check the conversation state\n",
    "# logger.info(f\"Messages count: {len(conversation.messages)}\")\n",
    "# logger.info(f\"Context length: {len(conversation._build_context_prompt('test'))}\")"
   ]
  },
  {
   "cell_type": "code",
   "execution_count": 32,
   "metadata": {},
   "outputs": [
    {
     "name": "stderr",
     "output_type": "stream",
     "text": [
      "\u001b[34m2025-08-29 16:15:02 - syft_nsai_sdk - INFO - Response:\n",
      "\n",
      "SyftBox is a project from OpenMined focused on creating a privacy-preserving platform for AI model deployment. It allows data scientists and AI researchers to train and deploy machine learning models on sensitive data without actually seeing or accessing the raw data. \n",
      "\n",
      "SyftBox implements privacy-enhancing technologies like federated learning, differential privacy, and secure multi-party computation, enabling organizations to collaborate on AI projects while maintaining data privacy and security compliance.\n",
      "\n",
      "The technology is designed to help organizations overcome data privacy challenges in AI development, particularly in regulated industries like healthcare and finance where data privacy is critical.\u001b[0m\n"
     ]
    }
   ],
   "source": [
    "logger.info(f\"Response:\\n\\n{response1}\")"
   ]
  },
  {
   "cell_type": "code",
   "execution_count": 33,
   "metadata": {},
   "outputs": [
    {
     "name": "stdout",
     "output_type": "stream",
     "text": [
      "✓ Response received                                                             \n",
      "\n"
     ]
    }
   ],
   "source": [
    "# second conversation\n",
    "response2 = await conversation.send_message(\"How does it work?\")  # Remembers first question"
   ]
  },
  {
   "cell_type": "code",
   "execution_count": 34,
   "metadata": {},
   "outputs": [
    {
     "name": "stderr",
     "output_type": "stream",
     "text": [
      "\u001b[34m2025-08-29 16:15:14 - syft_nsai_sdk - INFO - Response:\n",
      "\n",
      "SyftBox works by creating a secure framework for privacy-preserving AI operations through several key mechanisms:\n",
      "\n",
      "1. **Federated Architecture**: Instead of centralizing sensitive data, SyftBox allows models to be sent to where the data resides. The models are trained locally on each data node, and only model updates (not the raw data) are shared back.\n",
      "\n",
      "2. **Privacy-Preserving Computations**: SyftBox implements several techniques:\n",
      "   - **Secure Multi-Party Computation (SMPC)** for calculations across multiple parties without revealing individual inputs\n",
      "   - **Differential Privacy** to add calibrated noise to outputs, protecting individual data points\n",
      "   - **Homomorphic Encryption** allowing computations on encrypted data\n",
      "\n",
      "3. **Domain-Specific Language**: SyftBox provides a Python-based DSL that allows data scientists to write code that's automatically translated into privacy-preserving operations.\n",
      "\n",
      "4. **Node Network**: It establishes a network of computation nodes where:\n",
      "   - Data owners host \"data nodes\" that secure their information\n",
      "   - Researchers create \"compute requests\" that run on these nodes\n",
      "   - Only approved computations that meet privacy requirements are executed\n",
      "\n",
      "5. **Governance Layer**: Built-in tools to track data lineage, manage permissions, and ensure regulatory compliance.\n",
      "\n",
      "This architecture enables organizations to collaborate on AI projects while maintaining strict data privacy guarantees and regulatory compliance.\u001b[0m\n"
     ]
    }
   ],
   "source": [
    "logger.info(f\"Response:\\n\\n{response2}\")"
   ]
  },
  {
   "cell_type": "code",
   "execution_count": 35,
   "metadata": {},
   "outputs": [
    {
     "name": "stdout",
     "output_type": "stream",
     "text": [
      "✓ Response received                                                             \n",
      "\n"
     ]
    }
   ],
   "source": [
    "# third conversation\n",
    "response3 = await conversation.send_message(\"Give an example\")    # Remembers both previous"
   ]
  },
  {
   "cell_type": "code",
   "execution_count": 36,
   "metadata": {},
   "outputs": [
    {
     "name": "stderr",
     "output_type": "stream",
     "text": [
      "\u001b[34m2025-08-29 16:15:26 - syft_nsai_sdk - INFO - Response:\n",
      "\n",
      "Let me provide a concrete example of how SyftBox might be used in a real-world scenario:\n",
      "\n",
      "### Healthcare Collaboration Example\n",
      "\n",
      "**Scenario**: Three hospitals want to collaborate on developing a better diagnostic model for rare diseases, but cannot share patient data due to HIPAA regulations and privacy concerns.\n",
      "\n",
      "**Step 1: Setup**\n",
      "- Each hospital installs SyftBox and creates a data node containing their patient records\n",
      "- They define privacy policies (e.g., differential privacy parameters, what data fields can be accessed)\n",
      "\n",
      "**Step 2: Model Development**\n",
      "```python\n",
      "# Researcher code (simplified example)\n",
      "import syft as sy\n",
      "\n",
      "# Connect to hospital data nodes\n",
      "hospital_a = sy.login(url=\"hospital-a.org\")\n",
      "hospital_b = sy.login(url=\"hospital-b.org\")\n",
      "hospital_c = sy.login(url=\"hospital-c.org\")\n",
      "\n",
      "# Define model architecture\n",
      "model = sy.LogisticRegression()\n",
      "\n",
      "# Create federated dataset pointer (no actual data is transferred)\n",
      "federated_data = sy.federated([\n",
      "    hospital_a.datasets.patient_records,\n",
      "    hospital_b.datasets.patient_records,\n",
      "    hospital_c.datasets.patient_records\n",
      "])\n",
      "\n",
      "# Train the model (happens locally at each hospital)\n",
      "trained_model = model.fit(federated_data)\n",
      "\n",
      "# Get predictions (also happens privately)\n",
      "results = trained_model.evaluate()\n",
      "```\n",
      "\n",
      "**Step 3: Execution**\n",
      "- SyftBox sends the model to each hospital's data node\n",
      "- Each hospital trains the model locally on their patient data\n",
      "- Only model gradients (not patient data) are securely aggregated\n",
      "- Differential privacy adds noise to protect individual patients\n",
      "\n",
      "**Step 4: Results**\n",
      "- The researcher receives the final trained model that performs better than any single-hospital model\n",
      "- No patient data ever left its original location\n",
      "- All operations were logged for compliance and auditing\n",
      "\n",
      "This example demonstrates how SyftBox enables collaboration that would otherwise be impossible due to data privacy constraints, potentially accelerating medical research while maintaining strict patient confidentiality.\u001b[0m\n"
     ]
    }
   ],
   "source": [
    "logger.info(f\"Response:\\n\\n{response3}\")"
   ]
  },
  {
   "cell_type": "code",
   "execution_count": 20,
   "metadata": {},
   "outputs": [
    {
     "name": "stderr",
     "output_type": "stream",
     "text": [
      "\u001b[34m2025-08-29 16:06:42 - syft_nsai_sdk - INFO - Total messages: 4\u001b[0m\n"
     ]
    }
   ],
   "source": [
    "# Get conversation summary\n",
    "# summary = conversation.get_conversation_summary()\n",
    "# logger.info(f\"Total messages: {summary['total_messages']}\")"
   ]
  },
  {
   "cell_type": "code",
   "execution_count": null,
   "metadata": {},
   "outputs": [],
   "source": []
  }
 ],
 "metadata": {
  "kernelspec": {
   "display_name": "Python 3 (ipykernel)",
   "language": "python",
   "name": "python3"
  },
  "language_info": {
   "codemirror_mode": {
    "name": "ipython",
    "version": 3
   },
   "file_extension": ".py",
   "mimetype": "text/x-python",
   "name": "python",
   "nbconvert_exporter": "python",
   "pygments_lexer": "ipython3",
   "version": "3.12.9"
  }
 },
 "nbformat": 4,
 "nbformat_minor": 4
}

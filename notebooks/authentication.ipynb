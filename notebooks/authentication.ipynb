{
 "cells": [
  {
   "cell_type": "code",
   "execution_count": 1,
   "id": "2fe2a6f5-3bb1-4056-9f13-78cf264a6a02",
   "metadata": {},
   "outputs": [],
   "source": [
    "%%capture output --no-stderr\n",
    "\n",
    "# Install async module\n",
    "# !uv pip install nest_asyncio"
   ]
  },
  {
   "cell_type": "code",
   "execution_count": 2,
   "id": "8e9e11ee-3fcb-4bc6-8788-52238460fff5",
   "metadata": {},
   "outputs": [],
   "source": [
    "# Import the SDK\n",
    "import syft_hub as sh\n",
    "# import nest_asyncio\n",
    "import logging\n",
    "import os"
   ]
  },
  {
   "cell_type": "code",
   "execution_count": 3,
   "id": "52a8814c-7ad9-4fc6-aee3-2de342410355",
   "metadata": {},
   "outputs": [],
   "source": [
    "# Import client\n",
    "from syft_hub import Client\n",
    "from syft_hub.utils.logger import get_logger"
   ]
  },
  {
   "cell_type": "code",
   "execution_count": 4,
   "id": "92efa520-0edc-481a-bef6-a2b434c3334a",
   "metadata": {},
   "outputs": [
    {
     "name": "stderr",
     "output_type": "stream",
     "text": [
      "\u001b[32m2025-09-22 10:42:23 - syft_hub - SUCCESS - Logger initialized successfully!\u001b[0m\n"
     ]
    }
   ],
   "source": [
    "# define utilities\n",
    "# nest_asyncio.apply()\n",
    "logger = get_logger()\n",
    "logging.getLogger('syft_hub').setLevel(logging.INFO)\n",
    "logger.success(\"Logger initialized successfully!\")"
   ]
  },
  {
   "cell_type": "code",
   "execution_count": 5,
   "id": "6910dea2-7f0f-486f-8526-8c8d3c046854",
   "metadata": {},
   "outputs": [
    {
     "name": "stderr",
     "output_type": "stream",
     "text": [
      "\u001b[34m2025-09-22 10:42:23 - syft_hub.core.config - INFO - Using config credentials at path: /Users/callisezenwaka/.syftbox/config.json\u001b[0m\n",
      "\u001b[34m2025-09-22 10:42:23 - syft_hub.clients.auth_client - INFO - Found SyftBox authentication for callis@openmined.org\u001b[0m\n",
      "\u001b[34m2025-09-22 10:42:23 - syft_hub.main - INFO - SyftBox authentication configured for callis@openmined.org\u001b[0m\n",
      "\u001b[34m2025-09-22 10:42:23 - syft_hub.main - INFO - Found existing accounting credentials for callis@openmined.org\u001b[0m\n",
      "\u001b[34m2025-09-22 10:42:23 - syft_hub.main - INFO - Client initialized for callis@openmined.org\u001b[0m\n"
     ]
    }
   ],
   "source": [
    "# Initialize client\n",
    "client = Client()"
   ]
  },
  {
   "cell_type": "code",
   "execution_count": 6,
   "id": "f87ca823-9222-414f-a37e-55cb8032978c",
   "metadata": {},
   "outputs": [
    {
     "name": "stderr",
     "output_type": "stream",
     "text": [
      "\u001b[34m2025-09-22 10:42:24 - syft_hub - INFO - SYFTBOX_ACCOUNTING_EMAIL: callis@openmined.org\u001b[0m\n",
      "\u001b[34m2025-09-22 10:42:24 - syft_hub - INFO - SYFTBOX_ACCOUNTING_PASSWORD: True\u001b[0m\n"
     ]
    }
   ],
   "source": [
    "# get env vars\n",
    "email = os.getenv('SYFTBOX_ACCOUNTING_EMAIL')\n",
    "password = os.getenv('SYFTBOX_ACCOUNTING_PASSWORD')\n",
    "logger.info(f\"SYFTBOX_ACCOUNTING_EMAIL: {email}\")\n",
    "logger.info(f\"SYFTBOX_ACCOUNTING_PASSWORD: {bool(password)}\")"
   ]
  },
  {
   "cell_type": "code",
   "execution_count": 7,
   "id": "6777e309-7b3f-495c-bffb-5feea51e1d24",
   "metadata": {},
   "outputs": [],
   "source": [
    "# Connect accounting credentials\n",
    "# await client.connect_accounting(email, \"\")"
   ]
  },
  {
   "cell_type": "code",
   "execution_count": 8,
   "id": "8d907a1b-8994-499d-bfeb-f3749ddfae2e",
   "metadata": {},
   "outputs": [
    {
     "name": "stderr",
     "output_type": "stream",
     "text": [
      "\u001b[34m2025-09-22 10:42:28 - syft_hub - INFO - {'email': 'callis@openmined.org', 'balance': 112.32, 'currency': 'USD', 'account_id': 'cme1ec567000aqn3z9vu7q3st', 'created_at': None}\u001b[0m\n"
     ]
    }
   ],
   "source": [
    "# logger.info(await client.get_account_info_async())\n",
    "logger.info(client.get_account_info())"
   ]
  },
  {
   "cell_type": "code",
   "execution_count": 9,
   "id": "8a825505-05c2-474d-906c-5858006f3791",
   "metadata": {},
   "outputs": [
    {
     "name": "stderr",
     "output_type": "stream",
     "text": [
      "\u001b[34m2025-09-22 10:42:31 - syft_hub - INFO - Accounting configured\n",
      "   Email: callis@openmined.org\n",
      "   Balance: $112.32\n",
      "   Can use both free and paid services\u001b[0m\n"
     ]
    }
   ],
   "source": [
    "# logger.info(await client.show_accounting_status_async())\n",
    "logger.info(client.get_accounting_status())"
   ]
  },
  {
   "cell_type": "code",
   "execution_count": null,
   "id": "a1e06d38-3dc6-4962-b64d-7498a0773af2",
   "metadata": {},
   "outputs": [],
   "source": []
  }
 ],
 "metadata": {
  "kernelspec": {
   "display_name": "Python 3 (ipykernel)",
   "language": "python",
   "name": "python3"
  },
  "language_info": {
   "codemirror_mode": {
    "name": "ipython",
    "version": 3
   },
   "file_extension": ".py",
   "mimetype": "text/x-python",
   "name": "python",
   "nbconvert_exporter": "python",
   "pygments_lexer": "ipython3",
   "version": "3.12.9"
  }
 },
 "nbformat": 4,
 "nbformat_minor": 5
}

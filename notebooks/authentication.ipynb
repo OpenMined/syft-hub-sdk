{
 "cells": [
  {
   "cell_type": "code",
   "execution_count": 1,
   "id": "2fe2a6f5-3bb1-4056-9f13-78cf264a6a02",
   "metadata": {},
   "outputs": [],
   "source": [
    "%%capture output --no-stderr\n",
    "\n",
    "# Install async module\n",
    "!uv pip install nest_asyncio"
   ]
  },
  {
   "cell_type": "code",
   "execution_count": 2,
   "id": "8e9e11ee-3fcb-4bc6-8788-52238460fff5",
   "metadata": {},
   "outputs": [],
   "source": [
    "# Import the SDK\n",
    "import syft_nsai_sdk as sdk\n",
    "import nest_asyncio\n",
    "import httpx\n",
    "import logging\n",
    "import os"
   ]
  },
  {
   "cell_type": "code",
   "execution_count": 3,
   "id": "52a8814c-7ad9-4fc6-aee3-2de342410355",
   "metadata": {},
   "outputs": [],
   "source": [
    "# Import client\n",
    "from syft_nsai_sdk import Client\n",
    "from syft_nsai_sdk.utils.logger import get_logger"
   ]
  },
  {
   "cell_type": "code",
   "execution_count": 4,
   "id": "92efa520-0edc-481a-bef6-a2b434c3334a",
   "metadata": {},
   "outputs": [
    {
     "name": "stderr",
     "output_type": "stream",
     "text": [
      "\u001b[32m2025-09-02 19:19:15 - syft_nsai_sdk - SUCCESS - Logger initialized successfully!\u001b[0m\n"
     ]
    }
   ],
   "source": [
    "# define utilities\n",
    "nest_asyncio.apply()\n",
    "logger = get_logger()\n",
    "logging.getLogger('syft_nsai_sdk').setLevel(logging.INFO)\n",
    "logger.success(\"Logger initialized successfully!\")"
   ]
  },
  {
   "cell_type": "code",
   "execution_count": 5,
   "id": "6910dea2-7f0f-486f-8526-8c8d3c046854",
   "metadata": {},
   "outputs": [
    {
     "name": "stderr",
     "output_type": "stream",
     "text": [
      "\u001b[34m2025-09-02 19:19:16 - syft_nsai_sdk.main - INFO - Found existing accounting credentials for callis@openmined.org\u001b[0m\n",
      "\u001b[34m2025-09-02 19:19:16 - syft_nsai_sdk.main - INFO - Client initialized for callis@openmined.org\u001b[0m\n"
     ]
    }
   ],
   "source": [
    "# Initialize client\n",
    "client = Client()"
   ]
  },
  {
   "cell_type": "code",
   "execution_count": 6,
   "id": "f87ca823-9222-414f-a37e-55cb8032978c",
   "metadata": {},
   "outputs": [
    {
     "name": "stderr",
     "output_type": "stream",
     "text": [
      "\u001b[34m2025-09-02 19:19:20 - syft_nsai_sdk - INFO - SYFTBOX_ACCOUNTING_EMAIL: callis@openmined.org\u001b[0m\n",
      "\u001b[34m2025-09-02 19:19:20 - syft_nsai_sdk - INFO - SYFTBOX_ACCOUNTING_PASSWORD: True\u001b[0m\n"
     ]
    }
   ],
   "source": [
    "# get env vars\n",
    "email = os.getenv('SYFTBOX_ACCOUNTING_EMAIL')\n",
    "password = os.getenv('SYFTBOX_ACCOUNTING_PASSWORD')\n",
    "logger.info(f\"SYFTBOX_ACCOUNTING_EMAIL: {email}\")\n",
    "logger.info(f\"SYFTBOX_ACCOUNTING_PASSWORD: {bool(password)}\")"
   ]
  },
  {
   "cell_type": "code",
   "execution_count": 8,
   "id": "6777e309-7b3f-495c-bffb-5feea51e1d24",
   "metadata": {},
   "outputs": [
    {
     "name": "stderr",
     "output_type": "stream",
     "text": [
      "\u001b[34m2025-09-02 19:19:39 - syft_nsai_sdk.main - INFO - Accounting setup successful for callis@openmined.org\u001b[0m\n"
     ]
    }
   ],
   "source": [
    "# Connect accounting credentials\n",
    "await client.connect_accounting_async(email, \"\")"
   ]
  },
  {
   "cell_type": "code",
   "execution_count": null,
   "id": "8d907a1b-8994-499d-bfeb-f3749ddfae2e",
   "metadata": {},
   "outputs": [],
   "source": []
  }
 ],
 "metadata": {
  "kernelspec": {
   "display_name": "Python 3 (ipykernel)",
   "language": "python",
   "name": "python3"
  },
  "language_info": {
   "codemirror_mode": {
    "name": "ipython",
    "version": 3
   },
   "file_extension": ".py",
   "mimetype": "text/x-python",
   "name": "python",
   "nbconvert_exporter": "python",
   "pygments_lexer": "ipython3",
   "version": "3.12.9"
  }
 },
 "nbformat": 4,
 "nbformat_minor": 5
}

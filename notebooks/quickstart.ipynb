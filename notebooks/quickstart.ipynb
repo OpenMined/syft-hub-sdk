{
 "cells": [
  {
   "cell_type": "markdown",
   "id": "772ee596-e1f8-4dbb-8604-b710e5b8223f",
   "metadata": {},
   "source": [
    "# Quickstart"
   ]
  },
  {
   "cell_type": "code",
   "execution_count": 1,
   "id": "5b8eed42-0d43-4f11-b37c-d1a9186eb905",
   "metadata": {},
   "outputs": [],
   "source": [
    "%%capture output --no-stderr\n",
    "\n",
    "# Install the SDK in development mode (run this once)\n",
    "!pip install nest_asyncio\n",
    "!pip install -e ."
   ]
  },
  {
   "cell_type": "code",
   "execution_count": 2,
   "id": "73e36d72-96c5-4b03-9a44-20aaa598547b",
   "metadata": {},
   "outputs": [],
   "source": [
    "# Import the SDK\n",
    "import syft_nsai_sdk as sdk\n",
    "import nest_asyncio\n",
    "import httpx\n",
    "import logging\n",
    "import os"
   ]
  },
  {
   "cell_type": "code",
   "execution_count": 3,
   "id": "54f2e651-1551-48a4-a0b9-46c93283d982",
   "metadata": {},
   "outputs": [],
   "source": [
    "# import client\n",
    "from syft_nsai_sdk import SyftBoxClient\n",
    "from syft_nsai_sdk.utils.logger import get_logger\n",
    "from IPython.display import display, HTML, Markdown"
   ]
  },
  {
   "cell_type": "code",
   "execution_count": 4,
   "id": "9d65d956-09a5-4f3c-8f49-e272ab467214",
   "metadata": {},
   "outputs": [
    {
     "name": "stderr",
     "output_type": "stream",
     "text": [
      "\u001b[32m2025-08-29 23:48:14 - syft_nsai_sdk - SUCCESS - Logger initialized successfully!\u001b[0m\n"
     ]
    }
   ],
   "source": [
    "# define async\n",
    "nest_asyncio.apply()\n",
    "\n",
    "# initialize logger\n",
    "logger = get_logger()\n",
    "logger.success(\"Logger initialized successfully!\")\n",
    "\n",
    "# Turn off debug logging for your SDK\n",
    "logging.getLogger('syft_nsai_sdk').setLevel(logging.INFO)"
   ]
  },
  {
   "cell_type": "code",
   "execution_count": 5,
   "id": "e4a6d0c1-0746-4608-b2d5-e77cf5530f5a",
   "metadata": {},
   "outputs": [
    {
     "name": "stderr",
     "output_type": "stream",
     "text": [
      "\u001b[34m2025-08-29 23:48:15 - syft_nsai_sdk.main - INFO - Found existing accounting credentials in environment\u001b[0m\n",
      "\u001b[34m2025-08-29 23:48:15 - syft_nsai_sdk.main - INFO - SyftBoxClient initialized for guest@syft.org\u001b[0m\n",
      "\u001b[34m2025-08-29 23:48:15 - syft_nsai_sdk - INFO - Syftbox client created: <syft_nsai_sdk.main.SyftBoxClient object at 0x105929370>\u001b[0m\n"
     ]
    }
   ],
   "source": [
    "# initialize client\n",
    "client = SyftBoxClient()\n",
    "logger.info(f\"Syftbox client created: {client}\")"
   ]
  },
  {
   "cell_type": "code",
   "execution_count": 6,
   "id": "3caec6d1-0319-4fce-9e01-bc319f2b78ef",
   "metadata": {},
   "outputs": [],
   "source": [
    "# # get env vars\n",
    "# email = os.getenv('SYFTBOX_ACCOUNTING_EMAIL')\n",
    "# password = os.getenv('SYFTBOX_ACCOUNTING_PASSWORD')\n",
    "# logger.info(f\"SYFTBOX_ACCOUNTING_EMAIL: {email}\")\n",
    "# logger.info(f\"SYFTBOX_ACCOUNTING_PASSWORD: {bool(password)}\")\n",
    "\n",
    "# # Setup accounting for paid models\n",
    "# await client.setup_accounting(email, password)"
   ]
  },
  {
   "cell_type": "code",
   "execution_count": 7,
   "id": "91ad6613",
   "metadata": {},
   "outputs": [
    {
     "name": "stdout",
     "output_type": "stream",
     "text": [
      "{'email': 'callis@openmined.org', 'balance': 112.9, 'currency': 'USD', 'account_id': 'cme1ec567000aqn3z9vu7q3st', 'created_at': None}\n"
     ]
    }
   ],
   "source": [
    "print(await client.get_account_info())"
   ]
  },
  {
   "cell_type": "code",
   "execution_count": 8,
   "id": "25019054-09b2-45ac-8921-c6e27e477f14",
   "metadata": {},
   "outputs": [
    {
     "name": "stdout",
     "output_type": "stream",
     "text": [
      "⠼ Waiting for model response...✓ Response received                              \n",
      "\n",
      "✓ Response received                                                             \n",
      "\n",
      "                                                                                "
     ]
    },
    {
     "name": "stderr",
     "output_type": "stream",
     "text": [
      "\u001b[34m2025-08-29 23:48:23 - syft_nsai_sdk.services.health - INFO - Batch health check completed in 5.18s for 7 models\u001b[0m\n",
      "\u001b[34m2025-08-29 23:48:23 - syft_nsai_sdk.main - INFO - Discovered 7 models (health_check=True)\u001b[0m\n"
     ]
    },
    {
     "name": "stdout",
     "output_type": "stream",
     "text": [
      "✓ Response received\n",
      "\n",
      "Found 7 models\n"
     ]
    }
   ],
   "source": [
    "# Discover models explicitly \n",
    "models = client.discover_models(service_type=\"chat\")\n",
    "print(f\"Found {len(models)} models\")"
   ]
  },
  {
   "cell_type": "code",
   "execution_count": 9,
   "id": "9ebfd778-8dfa-4733-af86-defa12c50f4e",
   "metadata": {},
   "outputs": [
    {
     "name": "stdout",
     "output_type": "stream",
     "text": [
      "Name                      Owner                               Tags                      Services                 \n",
      "----------------------------------------------------------------------------------------------------\n",
      "keelan-test-3             kj@kj.dev                           test                      chat, search             \n",
      "pal-8                     afdolriski@gmail.com                                          chat, search             \n",
      "carl-model                callis@openmined.org                Chat, Search              chat, search             \n",
      "claude-sonnet-3.5         aggregator@openmined.org            claude, anthropic         chat                     \n",
      "deepseek-v3               aggregator@openmined.org            deepseek, opensource      chat                     \n",
      "test                      irina@openmined.org                 test                      chat, search             \n",
      "sota-model                callisezenwaka@barestripe.com       chat, search              chat, search             \n"
     ]
    }
   ],
   "source": [
    "print(f\"{'Name':<25} {'Owner':<35} {'Tags':<25} {'Services':<25}\")\n",
    "print(\"-\" * 100)\n",
    "for model in models:\n",
    "    enabled_services = [s.type.value for s in model.services if s.enabled]\n",
    "    tags_str = \", \".join(model.tags[:2])\n",
    "    services_str = \", \".join(enabled_services)\n",
    "    print(f\"{model.name:<25} {model.owner:<35} {tags_str:<25} {services_str:<25}\")"
   ]
  },
  {
   "cell_type": "code",
   "execution_count": 10,
   "id": "9c45a424-17f0-4fff-8135-e0030c5b76df",
   "metadata": {},
   "outputs": [
    {
     "name": "stderr",
     "output_type": "stream",
     "text": [
      "\u001b[34m2025-08-29 23:40:26 - syft_nsai_sdk.main - INFO - Discovered 1 models (health_check=False)\u001b[0m\n",
      "\u001b[34m2025-08-29 23:40:26 - syft_nsai_sdk.clients.rpc_client - INFO - Making RPC call to syft://callis@openmined.org/app_data/carl-model/rpc/chat\u001b[0m\n",
      "\u001b[34m2025-08-29 23:40:28 - syft_nsai_sdk.clients.rpc_client - INFO - Got async response, polling with request_id: 683df922-6855-4741-8abc-a3d82f2ca8c8\u001b[0m\n"
     ]
    },
    {
     "name": "stdout",
     "output_type": "stream",
     "text": [
      "✓ Response received                                                             \n",
      "\n"
     ]
    }
   ],
   "source": [
    "# model = client.find_model(\"claude-sonnet-3.5\", \"aggregator@openmined.org\")\n",
    "# model\n",
    "response = await client.chat(\n",
    "    model_name=\"carl-model\",\n",
    "    owner=\"callis@openmined.org\", \n",
    "    prompt=\"Hello! What is API?\",\n",
    "    temperature=0.7,\n",
    "    max_tokens=200\n",
    ")\n",
    "# Chat with a model\n",
    "# response = await client.chat(\n",
    "#     model_name=\"claude-sonnet-3.5\",\n",
    "#     owner=\"aggregator@openmined.org\",\n",
    "#     prompt=\"Hello! What is syftbox?\",\n",
    "#     temperature=0.7,\n",
    "#     max_tokens=200\n",
    "# )"
   ]
  },
  {
   "cell_type": "code",
   "execution_count": 13,
   "id": "de934a1d-e3fe-40a8-bcb1-e0e0d7ec5a27",
   "metadata": {},
   "outputs": [
    {
     "name": "stderr",
     "output_type": "stream",
     "text": [
      "\u001b[34m2025-08-29 23:41:08 - syft_nsai_sdk - INFO - response:\n",
      "\n",
      "API (Application Programming Interface) is a set of functions, commands or services that enable interaction between two computer systems, applications or platforms. It allows sharing data, programs, APIs, and features across different software systems without the need for manual intervention. In essence, an API provides a standardized and secure way to connect and communicate with other systems.\u001b[0m\n"
     ]
    }
   ],
   "source": [
    "# show response\n",
    "logger.info(f\"response:\\n\\n{response}\")"
   ]
  },
  {
   "cell_type": "code",
   "execution_count": 15,
   "id": "f83c4721-1388-4c44-b5fa-72add3f83d3d",
   "metadata": {},
   "outputs": [],
   "source": []
  }
 ],
 "metadata": {
  "kernelspec": {
   "display_name": "Python 3 (ipykernel)",
   "language": "python",
   "name": "python3"
  },
  "language_info": {
   "codemirror_mode": {
    "name": "ipython",
    "version": 3
   },
   "file_extension": ".py",
   "mimetype": "text/x-python",
   "name": "python",
   "nbconvert_exporter": "python",
   "pygments_lexer": "ipython3",
   "version": "3.12.9"
  }
 },
 "nbformat": 4,
 "nbformat_minor": 5
}

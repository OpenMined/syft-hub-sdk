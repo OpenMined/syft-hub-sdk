{
 "cells": [
  {
   "cell_type": "markdown",
   "metadata": {},
   "source": [
    "# SyftBox SDK Development Testing\n",
    "\n",
    "This notebook is for testing and validating the SyftBox SDK during development."
   ]
  },
  {
   "cell_type": "code",
   "execution_count": 1,
   "metadata": {},
   "outputs": [],
   "source": [
    "%%capture output --no-stderr\n",
    "\n",
    "# Install async module\n",
    "# !uv pip install nest_asyncio"
   ]
  },
  {
   "cell_type": "code",
   "execution_count": 2,
   "metadata": {},
   "outputs": [],
   "source": [
    "# Import the SDK\n",
    "import syft_hub as sh\n",
    "# import nest_asyncio\n",
    "# import httpx\n",
    "import logging\n",
    "import os"
   ]
  },
  {
   "cell_type": "code",
   "execution_count": 3,
   "metadata": {},
   "outputs": [],
   "source": [
    "# Import client\n",
    "from syft_hub import Client\n",
    "from syft_hub.utils.logger import get_logger"
   ]
  },
  {
   "cell_type": "code",
   "execution_count": 4,
   "metadata": {},
   "outputs": [
    {
     "name": "stderr",
     "output_type": "stream",
     "text": [
      "\u001b[32m2025-09-08 13:39:29 - syft_hub - SUCCESS - Logger initialized successfully!\u001b[0m\n"
     ]
    }
   ],
   "source": [
    "# define utilities\n",
    "# nest_asyncio.apply()\n",
    "logger = get_logger()\n",
    "logging.getLogger('syft_hub').setLevel(logging.INFO)\n",
    "logger.success(\"Logger initialized successfully!\")"
   ]
  },
  {
   "cell_type": "code",
   "execution_count": 5,
   "metadata": {},
   "outputs": [
    {
     "name": "stderr",
     "output_type": "stream",
     "text": [
      "\u001b[34m2025-09-08 13:39:30 - syft_hub.core.config - INFO - Using config credentials at path: /Users/callisezenwaka/.syftbox/config.json\u001b[0m\n",
      "\u001b[34m2025-09-08 13:39:30 - syft_hub.main - INFO - Found existing accounting credentials for callis@openmined.org\u001b[0m\n",
      "\u001b[34m2025-09-08 13:39:30 - syft_hub.main - INFO - Client initialized for callis@openmined.org\u001b[0m\n"
     ]
    }
   ],
   "source": [
    "# Initialize client\n",
    "client = Client()"
   ]
  },
  {
   "cell_type": "code",
   "execution_count": null,
   "metadata": {},
   "outputs": [
    {
     "name": "stderr",
     "output_type": "stream",
     "text": [
      "\u001b[34m2025-09-08 13:39:31 - syft_hub.main - INFO - Using service: carl-free from datasite: callis@openmined.org\u001b[0m\n"
     ]
    },
    {
     "name": "stdout",
     "output_type": "stream",
     "text": [
      "⠋ Waiting for service response..."
     ]
    }
   ],
   "source": [
    "# chat service\n",
    "response = await client.chat(\n",
    "    service_name=\"callis@openmined.org/carl-free\",\n",
    "    messages=[\n",
    "        {\"role\": \"system\", \"content\": \"You are a helpful assistant\"},\n",
    "        {\"role\": \"user\", \"content\": \"Hello, how are you?\"}\n",
    "    ],\n",
    "    temperature=0.7,\n",
    "    max_tokens=100,\n",
    "    top_p=1.0,\n",
    "    frequency_penalty=0.0,\n",
    "    presence_penalty=0.0,\n",
    "    stop=None,\n",
    ")\n",
    "\n",
    "# response = client.chat_sync(\n",
    "#     service_name=\"callis@openmined.org/carl-free\",\n",
    "#     messages=[\n",
    "#         {\"role\": \"system\", \"content\": \"You are a helpful assistant\"},\n",
    "#         {\"role\": \"user\", \"content\": \"Hello, how are you?\"}\n",
    "#     ],\n",
    "#     temperature=0.7,\n",
    "#     max_tokens=100,\n",
    "#     top_p=1.0,\n",
    "#     frequency_penalty=0.0,\n",
    "#     presence_penalty=0.0,\n",
    "#     stop=None,\n",
    "# )\n",
    "\n",
    "# response = await client.chat_async(\n",
    "#     service_name=\"callis@openmined.org/carl-free\",\n",
    "#     messages=[\n",
    "#         {\"role\": \"system\", \"content\": \"You are a helpful assistant\"},\n",
    "#         {\"role\": \"user\", \"content\": \"Hello, how are you?\"}\n",
    "#     ],\n",
    "#     temperature=0.7,\n",
    "#     max_tokens=100,\n",
    "#     top_p=1.0,\n",
    "#     frequency_penalty=0.0,\n",
    "#     presence_penalty=0.0,\n",
    "#     stop=None,\n",
    "# )"
   ]
  },
  {
   "cell_type": "code",
   "execution_count": null,
   "metadata": {},
   "outputs": [],
   "source": [
    "# show response\n",
    "logger.info(f\"Chat response:\\n\\n {response}\")"
   ]
  },
  {
   "cell_type": "code",
   "execution_count": null,
   "metadata": {},
   "outputs": [],
   "source": []
  }
 ],
 "metadata": {
  "kernelspec": {
   "display_name": "Python 3 (ipykernel)",
   "language": "python",
   "name": "python3"
  },
  "language_info": {
   "codemirror_mode": {
    "name": "ipython",
    "version": 3
   },
   "file_extension": ".py",
   "mimetype": "text/x-python",
   "name": "python",
   "nbconvert_exporter": "python",
   "pygments_lexer": "ipython3",
   "version": "3.12.9"
  }
 },
 "nbformat": 4,
 "nbformat_minor": 4
}

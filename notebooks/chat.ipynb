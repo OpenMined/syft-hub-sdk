{
 "cells": [
  {
   "cell_type": "markdown",
   "metadata": {},
   "source": [
    "# SyftBox SDK Development Testing\n",
    "\n",
    "This notebook is for testing and validating the SyftBox SDK during development."
   ]
  },
  {
   "cell_type": "code",
   "execution_count": 1,
   "metadata": {},
   "outputs": [],
   "source": [
    "# Import the SDK\n",
    "import syft_hub as sh\n",
    "import logging"
   ]
  },
  {
   "cell_type": "code",
   "execution_count": 2,
   "metadata": {},
   "outputs": [],
   "source": [
    "# Import client\n",
    "from syft_hub import Client\n",
    "from syft_hub.utils.logger import get_logger"
   ]
  },
  {
   "cell_type": "code",
   "execution_count": 3,
   "metadata": {},
   "outputs": [
    {
     "name": "stderr",
     "output_type": "stream",
     "text": [
      "\u001b[32m2025-10-13 16:52:46 - syft_hub - SUCCESS - Logger initialized successfully!\u001b[0m\n"
     ]
    }
   ],
   "source": [
    "# define utilities\n",
    "logger = get_logger()\n",
    "logging.getLogger('syft_hub').setLevel(logging.INFO)\n",
    "logger.success(\"Logger initialized successfully!\")"
   ]
  },
  {
   "cell_type": "code",
   "execution_count": 4,
   "metadata": {},
   "outputs": [
    {
     "data": {
      "text/html": [
       "\n",
       "    <style>\n",
       "        .pwd-line-48d4faf9 {\n",
       "            font-family: system-ui, -apple-system, sans-serif;\n",
       "            display: flex;\n",
       "            align-items: center;\n",
       "            gap: 8px;\n",
       "            margin: 8px 0;\n",
       "            font-size: 14px;\n",
       "        }\n",
       "        .pwd-text-48d4faf9 {\n",
       "            font-family: monospace;\n",
       "            color: #333;\n",
       "            user-select: all;\n",
       "            background-color: #f0f0f0;\n",
       "            padding: 4px 8px;\n",
       "            border-radius: var(--jp-border-radius);\n",
       "        }\n",
       "        .copy-btn-48d4faf9 {\n",
       "            display: inline-flex;\n",
       "            align-items: center;\n",
       "            justify-content: center;\n",
       "            padding: 4px 8px;\n",
       "            background: transparent;\n",
       "            border: 1px solid #d0d0d0;\n",
       "            border-radius: 3px;\n",
       "            cursor: pointer;\n",
       "            transition: all 0.2s;\n",
       "            color: #666;\n",
       "            min-width: 32px;\n",
       "            height: 28px;\n",
       "        }\n",
       "        .copy-btn-48d4faf9:hover {\n",
       "            background: #e8e8e8;\n",
       "            border-color: #b0b0b0;\n",
       "        }\n",
       "        .copy-btn-48d4faf9:active {\n",
       "            transform: scale(0.95);\n",
       "        }\n",
       "        .copy-btn-48d4faf9.copied {\n",
       "            color: #16a34a;\n",
       "            border-color: #16a34a;\n",
       "        }\n",
       "        .warning-48d4faf9 {\n",
       "            color: #d97706;\n",
       "            font-size: 13px;\n",
       "            margin-top: 4px;\n",
       "        }\n",
       "    </style>\n",
       "    \n",
       "    <div>\n",
       "        <div class=\"pwd-line-48d4faf9\">\n",
       "            <span>Generated password:</span>\n",
       "            <span class=\"pwd-text-48d4faf9\" id=\"pwd-48d4faf9\">059fa1371f7f1f8f</span>\n",
       "            <button class=\"copy-btn-48d4faf9\" id=\"btn-48d4faf9\" onclick=\"copyPassword_48d4faf9()\" title=\"Copy to clipboard\">\n",
       "                <span id=\"icon-48d4faf9\"><svg width=\"16\" height=\"16\" viewBox=\"0 0 16 16\" fill=\"currentColor\" style=\"vertical-align: middle;\">\n",
       "        <path d=\"M4 2a2 2 0 0 1 2-2h8a2 2 0 0 1 2 2v8a2 2 0 0 1-2 2H6a2 2 0 0 1-2-2V2z\"/>\n",
       "        <path d=\"M2 6a2 2 0 0 0-2 2v6a2 2 0 0 0 2 2h6a2 2 0 0 0 2-2v-1H6a3 3 0 0 1-3-3V6H2z\"/>\n",
       "    </svg></span>\n",
       "            </button>\n",
       "        </div>\n",
       "    </div>\n",
       "    \n",
       "    <script>\n",
       "    async function copyPassword_48d4faf9() {\n",
       "        // Always copy the actual text, not the masked version\n",
       "        const actualText = `059fa1371f7f1f8f`;\n",
       "        const btn = document.getElementById('btn-48d4faf9');\n",
       "        const icon = document.getElementById('icon-48d4faf9');\n",
       "        \n",
       "        try {\n",
       "            await navigator.clipboard.writeText(actualText);\n",
       "            \n",
       "            // Show success state\n",
       "            btn.classList.add('copied');\n",
       "            icon.innerHTML = `<svg width=\"16\" height=\"16\" viewBox=\"0 0 16 16\" fill=\"currentColor\" style=\"vertical-align: middle;\">\n",
       "        <path d=\"M13.854 3.646a.5.5 0 0 1 0 .708l-7 7a.5.5 0 0 1-.708 0l-3.5-3.5a.5.5 0 1 1 .708-.708L6.5 10.293l6.646-6.647a.5.5 0 0 1 .708 0z\"/>\n",
       "    </svg>`;\n",
       "            \n",
       "            // Revert after 2 seconds\n",
       "            setTimeout(() => {\n",
       "                btn.classList.remove('copied');\n",
       "                icon.innerHTML = `<svg width=\"16\" height=\"16\" viewBox=\"0 0 16 16\" fill=\"currentColor\" style=\"vertical-align: middle;\">\n",
       "        <path d=\"M4 2a2 2 0 0 1 2-2h8a2 2 0 0 1 2 2v8a2 2 0 0 1-2 2H6a2 2 0 0 1-2-2V2z\"/>\n",
       "        <path d=\"M2 6a2 2 0 0 0-2 2v6a2 2 0 0 0 2 2h6a2 2 0 0 0 2-2v-1H6a3 3 0 0 1-3-3V6H2z\"/>\n",
       "    </svg>`;\n",
       "            }, 2000);\n",
       "        } catch (err) {\n",
       "            console.error('Copy failed:', err);\n",
       "            alert('Copy failed. Please select and copy the password manually.');\n",
       "        }\n",
       "    }\n",
       "    </script>\n",
       "    "
      ],
      "text/plain": [
       "<IPython.core.display.HTML object>"
      ]
     },
     "metadata": {},
     "output_type": "display_data"
    },
    {
     "name": "stderr",
     "output_type": "stream",
     "text": [
      "\u001b[34m2025-10-13 16:52:46 - syft_hub.main - INFO - Successfully created accounting account for callis@openmined.org\u001b[0m\n"
     ]
    },
    {
     "name": "stdout",
     "output_type": "stream",
     "text": [
      "⚠️ Save the password, this won't be shown again!\n",
      "                                                                                "
     ]
    },
    {
     "name": "stderr",
     "output_type": "stream",
     "text": [
      "\u001b[34m2025-10-13 16:52:46 - syft_hub.main - INFO - Client initialized for callis@openmined.org\u001b[0m\n"
     ]
    },
    {
     "name": "stdout",
     "output_type": "stream",
     "text": [
      "✓ SyftBox sync completed\n"
     ]
    }
   ],
   "source": [
    "# Initialize client\n",
    "client = Client()"
   ]
  },
  {
   "cell_type": "code",
   "execution_count": null,
   "metadata": {},
   "outputs": [],
   "source": [
    "059fa1371f7f1f8f"
   ]
  },
  {
   "cell_type": "code",
   "execution_count": 5,
   "metadata": {},
   "outputs": [
    {
     "data": {
      "text/plain": [
       "🔧 carl-model Service 📋 [Active]\n",
       "============================\n",
       "\n",
       "📍 Datasite:       callis@openmined.org\n",
       "📝 Summary:        A basic service.\n",
       "\n",
       "⚡ Available Services:\n",
       "   • chat(messages, temperature, max_tokens, top_p) - $0.050\n",
       "   • search(message, topK, similarity_threshold) - $0.050\n",
       "\n",
       "💰 Total Pricing:  $0.10/request\n",
       "🏷️  Tags:           Chat, Search\n",
       "\n",
       "💡 Quick Usage:\n",
       "   service = client.load_service(\"callis@openmined.org/carl-model\")"
      ]
     },
     "execution_count": 5,
     "metadata": {},
     "output_type": "execute_result"
    }
   ],
   "source": [
    "# Discover service\n",
    "service = client.get_service(service_name=\"callis@openmined.org/carl-model\")\n",
    "service"
   ]
  },
  {
   "cell_type": "code",
   "execution_count": 6,
   "metadata": {},
   "outputs": [
    {
     "name": "stderr",
     "output_type": "stream",
     "text": [
      "\u001b[34m2025-10-13 16:16:11 - syft_hub.main - INFO - Using service: carl-model from datasite: callis@openmined.org\u001b[0m\n",
      "\u001b[34m2025-10-13 16:16:12 - syft_hub.services.health - INFO - Service carl-model responded with 200 - marking ONLINE\u001b[0m\n"
     ]
    },
    {
     "name": "stdout",
     "output_type": "stream",
     "text": [
      "✓ Response received                                                             \n",
      "\n"
     ]
    }
   ],
   "source": [
    "# chat service\n",
    "# response = await client.chat(\n",
    "#     service_name=\"aggregator@openmined.org/claude-sonnet-3.5\",\n",
    "#     messages=[\n",
    "#         {\"role\": \"system\", \"content\": \"You are a helpful assistant\"},\n",
    "#         {\"role\": \"user\", \"content\": \"Hello, how are you?\"}\n",
    "#     ],\n",
    "#     temperature=0.7,\n",
    "#     max_tokens=100,\n",
    "#     top_p=1.0,\n",
    "#     frequency_penalty=0.0,\n",
    "#     presence_penalty=0.0,\n",
    "#     stop=None,\n",
    "# )\n",
    "response = await client.chat(\n",
    "    service_name=\"callis@openmined.org/carl-model\",\n",
    "    messages=[\n",
    "        {\"role\": \"system\", \"content\": \"You are a helpful assistant\"},\n",
    "        {\"role\": \"user\", \"content\": \"Hello, how are you?\"}\n",
    "    ],\n",
    "    temperature=0.7,\n",
    "    max_tokens=100,\n",
    "    top_p=1.0,\n",
    "    frequency_penalty=0.0,\n",
    "    presence_penalty=0.0,\n",
    "    stop=None,\n",
    ")"
   ]
  },
  {
   "cell_type": "code",
   "execution_count": 7,
   "metadata": {},
   "outputs": [
    {
     "name": "stderr",
     "output_type": "stream",
     "text": [
      "\u001b[34m2025-10-13 16:16:35 - syft_hub - INFO - Chat response:\n",
      "\n",
      " I am doing well. How about you? Take care.\u001b[0m\n"
     ]
    }
   ],
   "source": [
    "# show response\n",
    "logger.info(f\"Chat response:\\n\\n {response}\")"
   ]
  },
  {
   "cell_type": "code",
   "execution_count": null,
   "metadata": {},
   "outputs": [],
   "source": []
  }
 ],
 "metadata": {
  "kernelspec": {
   "display_name": "Python 3 (ipykernel)",
   "language": "python",
   "name": "python3"
  },
  "language_info": {
   "codemirror_mode": {
    "name": "ipython",
    "version": 3
   },
   "file_extension": ".py",
   "mimetype": "text/x-python",
   "name": "python",
   "nbconvert_exporter": "python",
   "pygments_lexer": "ipython3",
   "version": "3.12.9"
  }
 },
 "nbformat": 4,
 "nbformat_minor": 4
}

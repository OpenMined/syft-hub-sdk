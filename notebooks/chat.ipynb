{
 "cells": [
  {
   "cell_type": "markdown",
   "metadata": {},
   "source": [
    "# SyftBox SDK Development Testing\n",
    "\n",
    "This notebook is for testing and validating the SyftBox SDK during development."
   ]
  },
  {
   "cell_type": "code",
   "execution_count": 1,
   "metadata": {},
   "outputs": [],
   "source": [
    "%%capture output --no-stderr\n",
    "\n",
    "# Install async module\n",
    "# !uv pip install nest_asyncio"
   ]
  },
  {
   "cell_type": "code",
   "execution_count": 2,
   "metadata": {},
   "outputs": [],
   "source": [
    "# Import the SDK\n",
    "import syft_hub as sh\n",
    "# import nest_asyncio\n",
    "# import httpx\n",
    "import logging\n",
    "import os"
   ]
  },
  {
   "cell_type": "code",
   "execution_count": 3,
   "metadata": {},
   "outputs": [],
   "source": [
    "# Import client\n",
    "from syft_hub import Client\n",
    "from syft_hub.utils.logger import get_logger"
   ]
  },
  {
   "cell_type": "code",
   "execution_count": 4,
   "metadata": {},
   "outputs": [
    {
     "name": "stderr",
     "output_type": "stream",
     "text": [
      "\u001b[32m2025-09-23 17:06:59 - syft_hub - SUCCESS - Logger initialized successfully!\u001b[0m\n"
     ]
    }
   ],
   "source": [
    "# define utilities\n",
    "# nest_asyncio.apply()\n",
    "logger = get_logger()\n",
    "logging.getLogger('syft_hub').setLevel(logging.INFO)\n",
    "logger.success(\"Logger initialized successfully!\")"
   ]
  },
  {
   "cell_type": "code",
   "execution_count": 5,
   "metadata": {},
   "outputs": [
    {
     "name": "stderr",
     "output_type": "stream",
     "text": [
      "\u001b[34m2025-09-23 17:07:02 - syft_hub.core.config - INFO - Using config credentials at path: /Users/callisezenwaka/.syftbox/config.json\u001b[0m\n",
      "\u001b[34m2025-09-23 17:07:02 - syft_hub.clients.auth_client - INFO - SyftBox config found but no valid refresh token - using guest mode\u001b[0m\n",
      "\u001b[34m2025-09-23 17:07:02 - syft_hub.clients.auth_client - INFO - No SyftBox authentication found, will use guest mode\u001b[0m\n",
      "\u001b[34m2025-09-23 17:07:02 - syft_hub.main - INFO - Using guest mode - no SyftBox authentication found\u001b[0m\n",
      "\u001b[34m2025-09-23 17:07:02 - syft_hub.main - INFO - Found existing accounting credentials for callis@openmined.org\u001b[0m\n",
      "\u001b[34m2025-09-23 17:07:02 - syft_hub.clients.auth_client - INFO - SyftBox config found but no valid refresh token - using guest mode\u001b[0m\n",
      "\u001b[34m2025-09-23 17:07:02 - syft_hub.main - INFO - Client initialized for callis@openmined.org\u001b[0m\n"
     ]
    }
   ],
   "source": [
    "# Initialize client\n",
    "client = Client()"
   ]
  },
  {
   "cell_type": "code",
   "execution_count": 6,
   "metadata": {},
   "outputs": [
    {
     "data": {
      "text/plain": [
       "sota-gpt Service [Active]\n",
       "\n",
       "Datasite:         callis@openmined.org\n",
       "Summary:          test\n",
       "Services:         Chat, Search\n",
       "Pricing:          Free\n",
       "Tags:             chat, search\n",
       "\n",
       "Available operations:\n",
       "  client.chat('callis@openmined.org/sota-gpt', messages=[...])   — Chat with service\n",
       "  client.search('callis@openmined.org/sota-gpt', 'message')     — Search with service"
      ]
     },
     "execution_count": 6,
     "metadata": {},
     "output_type": "execute_result"
    }
   ],
   "source": [
    "# Discover service\n",
    "service = client.get_service(service_name=\"callis@openmined.org/sota-gpt\")\n",
    "service"
   ]
  },
  {
   "cell_type": "code",
   "execution_count": 11,
   "metadata": {},
   "outputs": [
    {
     "name": "stderr",
     "output_type": "stream",
     "text": [
      "\u001b[34m2025-09-23 17:10:29 - syft_hub.main - INFO - Using service: claude-sonnet-3.5 from datasite: aggregator@openmined.org\u001b[0m\n",
      "\u001b[34m2025-09-23 17:10:30 - syft_hub.clients.auth_client - INFO - SyftBox config found but no valid refresh token - using guest mode\u001b[0m\n"
     ]
    },
    {
     "name": "stdout",
     "output_type": "stream",
     "text": [
      "⠋ Waiting for service response..."
     ]
    },
    {
     "name": "stderr",
     "output_type": "stream",
     "text": [
      "\u001b[34m2025-09-23 17:10:32 - syft_hub.clients.auth_client - INFO - SyftBox config found but no valid refresh token - using guest mode\u001b[0m\n"
     ]
    },
    {
     "name": "stdout",
     "output_type": "stream",
     "text": [
      "⠏ Waiting for service response..."
     ]
    },
    {
     "name": "stderr",
     "output_type": "stream",
     "text": [
      "\u001b[34m2025-09-23 17:10:36 - syft_hub.clients.auth_client - INFO - SyftBox config found but no valid refresh token - using guest mode\u001b[0m\n"
     ]
    },
    {
     "name": "stdout",
     "output_type": "stream",
     "text": [
      "✓ Response received                                                             \n",
      "\n"
     ]
    }
   ],
   "source": [
    "# chat service\n",
    "response = await client.chat(\n",
    "    service_name=\"aggregator@openmined.org/claude-sonnet-3.5\",\n",
    "    messages=[\n",
    "        {\"role\": \"system\", \"content\": \"You are a helpful assistant\"},\n",
    "        {\"role\": \"user\", \"content\": \"Hello, how are you?\"}\n",
    "    ],\n",
    "    temperature=0.7,\n",
    "    max_tokens=100,\n",
    "    top_p=1.0,\n",
    "    frequency_penalty=0.0,\n",
    "    presence_penalty=0.0,\n",
    "    stop=None,\n",
    ")\n",
    "\n",
    "# response = client.chat_sync(\n",
    "#     service_name=\"callis@openmined.org/carl-free\",\n",
    "#     messages=[\n",
    "#         {\"role\": \"system\", \"content\": \"You are a helpful assistant\"},\n",
    "#         {\"role\": \"user\", \"content\": \"Hello, how are you?\"}\n",
    "#     ],\n",
    "#     temperature=0.7,\n",
    "#     max_tokens=100,\n",
    "#     top_p=1.0,\n",
    "#     frequency_penalty=0.0,\n",
    "#     presence_penalty=0.0,\n",
    "#     stop=None,\n",
    "# )\n",
    "\n",
    "# response = await client.chat_async(\n",
    "#     service_name=\"callis@openmined.org/carl-free\",\n",
    "#     messages=[\n",
    "#         {\"role\": \"system\", \"content\": \"You are a helpful assistant\"},\n",
    "#         {\"role\": \"user\", \"content\": \"Hello, how are you?\"}\n",
    "#     ],\n",
    "#     temperature=0.7,\n",
    "#     max_tokens=100,\n",
    "#     top_p=1.0,\n",
    "#     frequency_penalty=0.0,\n",
    "#     presence_penalty=0.0,\n",
    "#     stop=None,\n",
    "# )\n",
    "# response = await client.chat(\n",
    "#     service_name=\"callis@openmined.org/carl-model\",\n",
    "#     messages=[\n",
    "#         {\"role\": \"system\", \"content\": \"You are a helpful assistant\"},\n",
    "#         {\"role\": \"user\", \"content\": \"Hello, how are you?\"}\n",
    "#     ],\n",
    "#     temperature=0.7,\n",
    "#     max_tokens=100,\n",
    "#     top_p=1.0,\n",
    "#     frequency_penalty=0.0,\n",
    "#     presence_penalty=0.0,\n",
    "#     stop=None,\n",
    "# )"
   ]
  },
  {
   "cell_type": "code",
   "execution_count": 12,
   "metadata": {},
   "outputs": [
    {
     "name": "stderr",
     "output_type": "stream",
     "text": [
      "\u001b[34m2025-09-23 17:23:44 - syft_hub - INFO - Chat response:\n",
      "\n",
      " I'm doing well, thank you for asking! I'm here and ready to help you with information or assist with questions you might have. How can I help you today?\u001b[0m\n"
     ]
    }
   ],
   "source": [
    "# show response\n",
    "logger.info(f\"Chat response:\\n\\n {response}\")"
   ]
  },
  {
   "cell_type": "code",
   "execution_count": 13,
   "metadata": {},
   "outputs": [
    {
     "name": "stderr",
     "output_type": "stream",
     "text": [
      "\u001b[34m2025-09-23 17:23:47 - syft_hub.main - INFO - Using service: sota-gpt from datasite: callis@openmined.org\u001b[0m\n",
      "\u001b[34m2025-09-23 17:23:48 - syft_hub.clients.auth_client - INFO - SyftBox config found but no valid refresh token - using guest mode\u001b[0m\n"
     ]
    },
    {
     "name": "stdout",
     "output_type": "stream",
     "text": [
      "⠋ Waiting for service response..."
     ]
    },
    {
     "name": "stderr",
     "output_type": "stream",
     "text": [
      "\u001b[34m2025-09-23 17:23:50 - syft_hub.clients.auth_client - INFO - SyftBox config found but no valid refresh token - using guest mode\u001b[0m\n"
     ]
    },
    {
     "name": "stdout",
     "output_type": "stream",
     "text": [
      "⠋ Waiting for service response..."
     ]
    },
    {
     "name": "stderr",
     "output_type": "stream",
     "text": [
      "\u001b[34m2025-09-23 17:23:54 - syft_hub.clients.auth_client - INFO - SyftBox config found but no valid refresh token - using guest mode\u001b[0m\n"
     ]
    },
    {
     "name": "stdout",
     "output_type": "stream",
     "text": [
      "✓ Response received                                                             \n",
      "\n"
     ]
    }
   ],
   "source": [
    "response = await client.chat(\n",
    "    service_name=\"callis@openmined.org/sota-gpt\",\n",
    "    messages=[\n",
    "        {\"role\": \"system\", \"content\": \"You are a helpful assistant\"},\n",
    "        {\"role\": \"user\", \"content\": \"Any idea about Syftbox?\"}\n",
    "    ],\n",
    "    temperature=0.7,\n",
    "    max_tokens=100,\n",
    "    top_p=1.0,\n",
    "    frequency_penalty=0.0,\n",
    "    presence_penalty=0.0,\n",
    "    stop=None,\n",
    ")"
   ]
  },
  {
   "cell_type": "code",
   "execution_count": 14,
   "metadata": {},
   "outputs": [
    {
     "name": "stderr",
     "output_type": "stream",
     "text": [
      "\u001b[34m2025-09-23 17:23:54 - syft_hub - INFO - Chat response:\n",
      "\n",
      " Sure, here's some information about Syftbox:\n",
      "\n",
      "Syftbox is an online learning platform that offers interactive courses in various fields. The platform provides access to a diverse range of online courses taught by leading instructors and experts. Some of the topics covered on Syftbox include business, marketing, finance, law, health, technology, and more. Syftbox also offers certification programs, which allow individuals to earn industry-specific certifications after completing a syftbox course. The platform is known for its interactive, engaging courses that are designed to teach complex concepts in a clear and concise manner. Additionally, Syftbox provides real-world case studies and practice exercises to help students apply what they learn in the classroom. In short, Syftbox offers a wide range of online learning experiences focused on business, law, finance, health, marketing, and technology.\u001b[0m\n"
     ]
    }
   ],
   "source": [
    "# show response\n",
    "logger.info(f\"Chat response:\\n\\n {response}\")"
   ]
  },
  {
   "cell_type": "code",
   "execution_count": null,
   "metadata": {},
   "outputs": [],
   "source": []
  }
 ],
 "metadata": {
  "kernelspec": {
   "display_name": "Python 3 (ipykernel)",
   "language": "python",
   "name": "python3"
  },
  "language_info": {
   "codemirror_mode": {
    "name": "ipython",
    "version": 3
   },
   "file_extension": ".py",
   "mimetype": "text/x-python",
   "name": "python",
   "nbconvert_exporter": "python",
   "pygments_lexer": "ipython3",
   "version": "3.12.9"
  }
 },
 "nbformat": 4,
 "nbformat_minor": 4
}

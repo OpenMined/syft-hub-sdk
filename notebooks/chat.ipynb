{
 "cells": [
  {
   "cell_type": "markdown",
   "metadata": {},
   "source": [
    "# SyftBox SDK Development Testing\n",
    "\n",
    "This notebook is for testing and validating the SyftBox SDK during development."
   ]
  },
  {
   "cell_type": "code",
   "execution_count": 1,
   "metadata": {},
   "outputs": [],
   "source": [
    "# Import the SDK\n",
    "import syft_hub as sh\n",
    "import logging"
   ]
  },
  {
   "cell_type": "code",
   "execution_count": 2,
   "metadata": {},
   "outputs": [],
   "source": [
    "# Import client\n",
    "from syft_hub import Client\n",
    "from syft_hub.utils.logger import get_logger"
   ]
  },
  {
   "cell_type": "code",
   "execution_count": 3,
   "metadata": {},
   "outputs": [
    {
     "name": "stderr",
     "output_type": "stream",
     "text": [
      "\u001b[32m2025-10-09 22:42:49 - syft_hub - SUCCESS - Logger initialized successfully!\u001b[0m\n"
     ]
    }
   ],
   "source": [
    "# define utilities\n",
    "logger = get_logger()\n",
    "logging.getLogger('syft_hub').setLevel(logging.INFO)\n",
    "logger.success(\"Logger initialized successfully!\")"
   ]
  },
  {
   "cell_type": "code",
   "execution_count": 4,
   "metadata": {},
   "outputs": [
    {
     "name": "stderr",
     "output_type": "stream",
     "text": [
      "\u001b[34m2025-10-09 22:42:56 - syft_hub.main - INFO - Connected to existing accounting account for callis@openmined.org\u001b[0m\n"
     ]
    },
    {
     "name": "stdout",
     "output_type": "stream",
     "text": [
      "                                                                                "
     ]
    },
    {
     "name": "stderr",
     "output_type": "stream",
     "text": [
      "\u001b[34m2025-10-09 22:42:57 - syft_hub.main - INFO - Client initialized for callis@openmined.org\u001b[0m\n"
     ]
    },
    {
     "name": "stdout",
     "output_type": "stream",
     "text": [
      "✓ SyftBox sync completed\n"
     ]
    }
   ],
   "source": [
    "# Initialize client\n",
    "client = Client()"
   ]
  },
  {
   "cell_type": "code",
   "execution_count": 5,
   "metadata": {},
   "outputs": [
    {
     "data": {
      "text/plain": [
       "🔧 carl-model Service 📋 [Active]\n",
       "============================\n",
       "\n",
       "📍 Datasite:       callis@openmined.org\n",
       "📝 Summary:        A basic service.\n",
       "\n",
       "⚡ Available Services:\n",
       "   • chat(messages, temperature, max_tokens, top_p) - $0.050\n",
       "   • search(message, topK, similarity_threshold) - $0.050\n",
       "\n",
       "💰 Total Pricing:  $0.10/request\n",
       "🏷️  Tags:           Chat, Search\n",
       "\n",
       "💡 Quick Usage:\n",
       "   service = client.load_service(\"callis@openmined.org/carl-model\")"
      ]
     },
     "execution_count": 5,
     "metadata": {},
     "output_type": "execute_result"
    }
   ],
   "source": [
    "# Discover service\n",
    "service = client.get_service(service_name=\"callis@openmined.org/carl-model\")\n",
    "service"
   ]
  },
  {
   "cell_type": "code",
   "execution_count": 6,
   "metadata": {},
   "outputs": [
    {
     "name": "stderr",
     "output_type": "stream",
     "text": [
      "\u001b[34m2025-10-09 22:43:01 - syft_hub.main - INFO - Using service: carl-model from datasite: callis@openmined.org\u001b[0m\n",
      "\u001b[33m2025-10-09 22:43:16 - syft_hub.services.health - WARNING - Service carl-model timeout - marking OFFLINE\u001b[0m\n"
     ]
    },
    {
     "ename": "ServiceNotFoundError",
     "evalue": "SERVICE_NOT_FOUND: Service 'The node is offline. Please retry or find a different service to use' not found",
     "output_type": "error",
     "traceback": [
      "\u001b[0;31m---------------------------------------------------------------------------\u001b[0m",
      "\u001b[0;31mServiceNotFoundError\u001b[0m                      Traceback (most recent call last)",
      "Cell \u001b[0;32mIn[6], line 15\u001b[0m\n\u001b[1;32m      1\u001b[0m \u001b[38;5;66;03m# chat service\u001b[39;00m\n\u001b[1;32m      2\u001b[0m \u001b[38;5;66;03m# response = await client.chat(\u001b[39;00m\n\u001b[1;32m      3\u001b[0m \u001b[38;5;66;03m#     service_name=\"aggregator@openmined.org/claude-sonnet-3.5\",\u001b[39;00m\n\u001b[0;32m   (...)\u001b[0m\n\u001b[1;32m     13\u001b[0m \u001b[38;5;66;03m#     stop=None,\u001b[39;00m\n\u001b[1;32m     14\u001b[0m \u001b[38;5;66;03m# )\u001b[39;00m\n\u001b[0;32m---> 15\u001b[0m response \u001b[38;5;241m=\u001b[39m \u001b[38;5;28;01mawait\u001b[39;00m client\u001b[38;5;241m.\u001b[39mchat(\n\u001b[1;32m     16\u001b[0m     service_name\u001b[38;5;241m=\u001b[39m\u001b[38;5;124m\"\u001b[39m\u001b[38;5;124mcallis@openmined.org/carl-model\u001b[39m\u001b[38;5;124m\"\u001b[39m,\n\u001b[1;32m     17\u001b[0m     messages\u001b[38;5;241m=\u001b[39m[\n\u001b[1;32m     18\u001b[0m         {\u001b[38;5;124m\"\u001b[39m\u001b[38;5;124mrole\u001b[39m\u001b[38;5;124m\"\u001b[39m: \u001b[38;5;124m\"\u001b[39m\u001b[38;5;124msystem\u001b[39m\u001b[38;5;124m\"\u001b[39m, \u001b[38;5;124m\"\u001b[39m\u001b[38;5;124mcontent\u001b[39m\u001b[38;5;124m\"\u001b[39m: \u001b[38;5;124m\"\u001b[39m\u001b[38;5;124mYou are a helpful assistant\u001b[39m\u001b[38;5;124m\"\u001b[39m},\n\u001b[1;32m     19\u001b[0m         {\u001b[38;5;124m\"\u001b[39m\u001b[38;5;124mrole\u001b[39m\u001b[38;5;124m\"\u001b[39m: \u001b[38;5;124m\"\u001b[39m\u001b[38;5;124muser\u001b[39m\u001b[38;5;124m\"\u001b[39m, \u001b[38;5;124m\"\u001b[39m\u001b[38;5;124mcontent\u001b[39m\u001b[38;5;124m\"\u001b[39m: \u001b[38;5;124m\"\u001b[39m\u001b[38;5;124mHello, how are you?\u001b[39m\u001b[38;5;124m\"\u001b[39m}\n\u001b[1;32m     20\u001b[0m     ],\n\u001b[1;32m     21\u001b[0m     temperature\u001b[38;5;241m=\u001b[39m\u001b[38;5;241m0.7\u001b[39m,\n\u001b[1;32m     22\u001b[0m     max_tokens\u001b[38;5;241m=\u001b[39m\u001b[38;5;241m100\u001b[39m,\n\u001b[1;32m     23\u001b[0m     top_p\u001b[38;5;241m=\u001b[39m\u001b[38;5;241m1.0\u001b[39m,\n\u001b[1;32m     24\u001b[0m     frequency_penalty\u001b[38;5;241m=\u001b[39m\u001b[38;5;241m0.0\u001b[39m,\n\u001b[1;32m     25\u001b[0m     presence_penalty\u001b[38;5;241m=\u001b[39m\u001b[38;5;241m0.0\u001b[39m,\n\u001b[1;32m     26\u001b[0m     stop\u001b[38;5;241m=\u001b[39m\u001b[38;5;28;01mNone\u001b[39;00m,\n\u001b[1;32m     27\u001b[0m )\n",
      "File \u001b[0;32m~/Documents/projects/openmined/syft-hub-sdk/syft_hub/main.py:507\u001b[0m, in \u001b[0;36mClient.chat_async\u001b[0;34m(self, service_name, messages, temperature, max_tokens, **kwargs)\u001b[0m\n\u001b[1;32m    504\u001b[0m     \u001b[38;5;28mself\u001b[39m\u001b[38;5;241m.\u001b[39m_health_status_cache[cache_key] \u001b[38;5;241m=\u001b[39m (health_status, time\u001b[38;5;241m.\u001b[39mtime())\n\u001b[1;32m    506\u001b[0m \u001b[38;5;28;01mif\u001b[39;00m health_status \u001b[38;5;241m==\u001b[39m HealthStatus\u001b[38;5;241m.\u001b[39mOFFLINE:\n\u001b[0;32m--> 507\u001b[0m     \u001b[38;5;28;01mraise\u001b[39;00m ServiceNotFoundError(\u001b[38;5;124m\"\u001b[39m\u001b[38;5;124mThe node is offline. Please retry or find a different service to use\u001b[39m\u001b[38;5;124m\"\u001b[39m)\n\u001b[1;32m    509\u001b[0m \u001b[38;5;66;03m# Validate service supports chat\u001b[39;00m\n\u001b[1;32m    510\u001b[0m \u001b[38;5;28;01mif\u001b[39;00m \u001b[38;5;129;01mnot\u001b[39;00m service\u001b[38;5;241m.\u001b[39msupports_service(ServiceType\u001b[38;5;241m.\u001b[39mCHAT):\n",
      "\u001b[0;31mServiceNotFoundError\u001b[0m: SERVICE_NOT_FOUND: Service 'The node is offline. Please retry or find a different service to use' not found"
     ]
    }
   ],
   "source": [
    "# chat service\n",
    "# response = await client.chat(\n",
    "#     service_name=\"aggregator@openmined.org/claude-sonnet-3.5\",\n",
    "#     messages=[\n",
    "#         {\"role\": \"system\", \"content\": \"You are a helpful assistant\"},\n",
    "#         {\"role\": \"user\", \"content\": \"Hello, how are you?\"}\n",
    "#     ],\n",
    "#     temperature=0.7,\n",
    "#     max_tokens=100,\n",
    "#     top_p=1.0,\n",
    "#     frequency_penalty=0.0,\n",
    "#     presence_penalty=0.0,\n",
    "#     stop=None,\n",
    "# )\n",
    "response = await client.chat(\n",
    "    service_name=\"callis@openmined.org/carl-model\",\n",
    "    messages=[\n",
    "        {\"role\": \"system\", \"content\": \"You are a helpful assistant\"},\n",
    "        {\"role\": \"user\", \"content\": \"Hello, how are you?\"}\n",
    "    ],\n",
    "    temperature=0.7,\n",
    "    max_tokens=100,\n",
    "    top_p=1.0,\n",
    "    frequency_penalty=0.0,\n",
    "    presence_penalty=0.0,\n",
    "    stop=None,\n",
    ")"
   ]
  },
  {
   "cell_type": "code",
   "execution_count": null,
   "metadata": {},
   "outputs": [],
   "source": [
    "# show response\n",
    "logger.info(f\"Chat response:\\n\\n {response}\")"
   ]
  },
  {
   "cell_type": "code",
   "execution_count": null,
   "metadata": {},
   "outputs": [],
   "source": []
  }
 ],
 "metadata": {
  "kernelspec": {
   "display_name": "Python 3 (ipykernel)",
   "language": "python",
   "name": "python3"
  },
  "language_info": {
   "codemirror_mode": {
    "name": "ipython",
    "version": 3
   },
   "file_extension": ".py",
   "mimetype": "text/x-python",
   "name": "python",
   "nbconvert_exporter": "python",
   "pygments_lexer": "ipython3",
   "version": "3.12.9"
  }
 },
 "nbformat": 4,
 "nbformat_minor": 4
}

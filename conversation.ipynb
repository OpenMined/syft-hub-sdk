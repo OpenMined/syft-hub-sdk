{
 "cells": [
  {
   "cell_type": "markdown",
   "metadata": {},
   "source": [
    "# SyftBox SDK Development Testing\n",
    "\n",
    "This notebook is for testing and validating the SyftBox SDK during development."
   ]
  },
  {
   "cell_type": "code",
   "execution_count": 1,
   "metadata": {},
   "outputs": [],
   "source": [
    "%%capture output --no-stderr\n",
    "\n",
    "# Install the SDK in development mode (run this once)\n",
    "!pip install nest_asyncio\n",
    "!pip install -e ."
   ]
  },
  {
   "cell_type": "code",
   "execution_count": 2,
   "metadata": {},
   "outputs": [],
   "source": [
    "# Import the SDK\n",
    "import syft_nsai_sdk as sdk\n",
    "import nest_asyncio\n",
    "import httpx\n",
    "import logging\n",
    "\n",
    "# \n",
    "nest_asyncio.apply()"
   ]
  },
  {
   "cell_type": "code",
   "execution_count": 3,
   "metadata": {},
   "outputs": [
    {
     "name": "stderr",
     "output_type": "stream",
     "text": [
      "\u001b[32m2025-08-27 17:38:30 - syft_nsai_sdk - SUCCESS - SyftBox SDK imported successfully\u001b[0m\n"
     ]
    }
   ],
   "source": [
    "from syft_nsai_sdk.utils.logger import get_logger\n",
    "from syft_nsai_sdk import SyftBoxClient\n",
    "from IPython.display import display, HTML, Markdown\n",
    "\n",
    "logger = get_logger()\n",
    "logger.success(\"SyftBox SDK imported successfully\")\n",
    "\n",
    "# Turn off debug logging for your SDK\n",
    "logging.getLogger('syft_nsai_sdk').setLevel(logging.INFO)"
   ]
  },
  {
   "cell_type": "code",
   "execution_count": 4,
   "metadata": {},
   "outputs": [
    {
     "name": "stderr",
     "output_type": "stream",
     "text": [
      "\u001b[34m2025-08-27 17:38:32 - syft_nsai_sdk.main - INFO - Accounting configured for callis@openmined.org\u001b[0m\n",
      "\u001b[34m2025-08-27 17:38:32 - syft_nsai_sdk.main - INFO - SyftBoxClient initialized for guest@syft.org\u001b[0m\n",
      "\u001b[34m2025-08-27 17:38:32 - syft_nsai_sdk - INFO - Syftbox client created: <syft_nsai_sdk.main.SyftBoxClient object at 0x105f8d430>\u001b[0m\n"
     ]
    }
   ],
   "source": [
    "client = SyftBoxClient()\n",
    "logger.info(f\"Syftbox client created: {client}\")"
   ]
  },
  {
   "cell_type": "code",
   "execution_count": 5,
   "metadata": {},
   "outputs": [
    {
     "name": "stderr",
     "output_type": "stream",
     "text": [
      "\u001b[34m2025-08-27 17:38:34 - syft_nsai_sdk.discovery.scanner - INFO - Found 10 models across 256 datasites\u001b[0m\n",
      "\u001b[34m2025-08-27 17:38:34 - syft_nsai_sdk.discovery.scanner - INFO - Cached 10 models from 8 owners\u001b[0m\n",
      "\u001b[33m2025-08-27 17:38:34 - syft_nsai_sdk.services.health - WARNING - Unexpected error in health check for keelan-test-3: AUTHENTICATION_ERROR: No accounting service URL configured\u001b[0m\n",
      "\u001b[33m2025-08-27 17:38:34 - syft_nsai_sdk.services.health - WARNING - Unexpected error in health check for carl-model: AUTHENTICATION_ERROR: No accounting service URL configured\u001b[0m\n",
      "\u001b[33m2025-08-27 17:38:34 - syft_nsai_sdk.services.health - WARNING - Unexpected error in health check for carl-free: AUTHENTICATION_ERROR: No accounting service URL configured\u001b[0m\n",
      "\u001b[33m2025-08-27 17:38:34 - syft_nsai_sdk.services.health - WARNING - Unexpected error in health check for claude-sonnet-3.5: AUTHENTICATION_ERROR: No accounting service URL configured\u001b[0m\n",
      "\u001b[33m2025-08-27 17:38:34 - syft_nsai_sdk.services.health - WARNING - Unexpected error in health check for deepseek-v3: AUTHENTICATION_ERROR: No accounting service URL configured\u001b[0m\n",
      "\u001b[33m2025-08-27 17:38:34 - syft_nsai_sdk.services.health - WARNING - Unexpected error in health check for test: AUTHENTICATION_ERROR: No accounting service URL configured\u001b[0m\n",
      "\u001b[34m2025-08-27 17:38:34 - syft_nsai_sdk.services.health - INFO - Batch health check completed in 0.04s for 6 models\u001b[0m\n",
      "\u001b[34m2025-08-27 17:38:34 - syft_nsai_sdk.main - INFO - Discovered 6 models (health_check=True)\u001b[0m\n"
     ]
    },
    {
     "name": "stdout",
     "output_type": "stream",
     "text": [
      "Found 6 models\n"
     ]
    }
   ],
   "source": [
    "# STEP 2: Discover models explicitly \n",
    "models = client.discover_models(service_type=\"chat\")\n",
    "print(f\"Found {len(models)} models\")"
   ]
  },
  {
   "cell_type": "code",
   "execution_count": 6,
   "metadata": {},
   "outputs": [
    {
     "name": "stdout",
     "output_type": "stream",
     "text": [
      "Name                 Owner                     Tags                      Services                 \n",
      "----------------------------------------------------------------------------------------------------\n",
      "keelan-test-3        kj@kj.dev                 test                      chat, search             \n",
      "carl-model           callis@openmined.org      Chat, Search              chat, search             \n",
      "carl-free            callis@openmined.org      chat, search              chat, search             \n",
      "claude-sonnet-3.5    aggregator@openmined.org  claude, anthropic         chat, search             \n",
      "deepseek-v3          aggregator@openmined.org  deepseek, opensource      chat                     \n",
      "test                 irina@openmined.org       test                      chat, search             \n"
     ]
    }
   ],
   "source": [
    "print(f\"{'Name':<20} {'Owner':<25} {'Tags':<25} {'Services':<25}\")\n",
    "print(\"-\" * 100)\n",
    "for model in models:\n",
    "    enabled_services = [s.type.value for s in model.services if s.enabled]\n",
    "    tags_str = \", \".join(model.tags[:2])\n",
    "    services_str = \", \".join(enabled_services)\n",
    "    print(f\"{model.name:<20} {model.owner:<25} {tags_str:<25} {services_str:<25}\")"
   ]
  },
  {
   "cell_type": "code",
   "execution_count": 7,
   "metadata": {},
   "outputs": [
    {
     "name": "stdout",
     "output_type": "stream",
     "text": [
      "SYFTBOX_ACCOUNTING_EMAIL: callis@openmined.org\n",
      "SYFTBOX_ACCOUNTING_PASSWORD: True\n",
      "SYFTBOX_ACCOUNTING_URL: True\n"
     ]
    }
   ],
   "source": [
    "# Check env vars are loaded\n",
    "import os\n",
    "\n",
    "email = os.getenv('SYFTBOX_ACCOUNTING_EMAIL')\n",
    "password = os.getenv('SYFTBOX_ACCOUNTING_PASSWORD')\n",
    "service_url = os.getenv('SYFTBOX_ACCOUNTING_URL')\n",
    "print(f\"SYFTBOX_ACCOUNTING_EMAIL: {email}\")\n",
    "# print(f\"SYFTBOX_ACCOUNTING_PASSWORD: {password}\")\n",
    "# print(f\"SYFTBOX_ACCOUNTING_URL: {service_url}\")\n",
    "# print(f\"SYFTBOX_ACCOUNTING_EMAIL: {bool(email)}\")\n",
    "print(f\"SYFTBOX_ACCOUNTING_PASSWORD: {bool(password)}\")\n",
    "print(f\"SYFTBOX_ACCOUNTING_URL: {bool(service_url)}\")"
   ]
  },
  {
   "cell_type": "code",
   "execution_count": 8,
   "metadata": {},
   "outputs": [
    {
     "name": "stdout",
     "output_type": "stream",
     "text": [
      "{'email': 'callis@openmined.org', 'balance': 184.9, 'currency': 'USD'}\n"
     ]
    }
   ],
   "source": [
    "print(await client.get_account_info())"
   ]
  },
  {
   "cell_type": "code",
   "execution_count": 9,
   "metadata": {},
   "outputs": [],
   "source": [
    "# model = client.find_model(\"claude-sonnet-3.5\", \"aggregator@openmined.org\")\n",
    "# model"
   ]
  },
  {
   "cell_type": "code",
   "execution_count": 10,
   "metadata": {},
   "outputs": [
    {
     "name": "stderr",
     "output_type": "stream",
     "text": [
      "\u001b[34m2025-08-27 17:38:44 - syft_nsai_sdk.main - INFO - Discovered 1 models (health_check=False)\u001b[0m\n",
      "\u001b[34m2025-08-27 17:38:44 - syft_nsai_sdk.services.chat - INFO - Building RPC payload for chat request: ChatRequest(messages=[ChatMessage(role='user', content='What is SyftBox?', name=None)], model='claude-sonnet-3.5', options=None, user_email='guest@syft.org', transaction_token=None)\u001b[0m\n"
     ]
    },
    {
     "name": "stdout",
     "output_type": "stream",
     "text": [
      "                                                                                "
     ]
    },
    {
     "name": "stderr",
     "output_type": "stream",
     "text": [
      "\u001b[31m2025-08-27 17:40:47 - syft_nsai_sdk.services.chat - ERROR - Chat request failed for model claude-sonnet-3.5: RPC_ERROR: Polling timed out after 30/30 attempts\u001b[0m\n"
     ]
    },
    {
     "name": "stdout",
     "output_type": "stream",
     "text": [
      "✓ Response received\n",
      "\n"
     ]
    },
    {
     "ename": "PollingTimeoutError",
     "evalue": "RPC_ERROR: Polling timed out after 30/30 attempts",
     "output_type": "error",
     "traceback": [
      "\u001b[31m---------------------------------------------------------------------------\u001b[39m",
      "\u001b[31mPollingTimeoutError\u001b[39m                       Traceback (most recent call last)",
      "\u001b[36mCell\u001b[39m\u001b[36m \u001b[39m\u001b[32mIn[10]\u001b[39m\u001b[32m, line 7\u001b[39m\n\u001b[32m      2\u001b[39m conversation = client.create_conversation(\n\u001b[32m      3\u001b[39m     model_name=\u001b[33m\"\u001b[39m\u001b[33mclaude-sonnet-3.5\u001b[39m\u001b[33m\"\u001b[39m,\n\u001b[32m      4\u001b[39m     owner=\u001b[33m\"\u001b[39m\u001b[33maggregator@openmined.org\u001b[39m\u001b[33m\"\u001b[39m,\n\u001b[32m      5\u001b[39m )\n\u001b[32m      6\u001b[39m \u001b[38;5;66;03m# Each message remembers full context\u001b[39;00m\n\u001b[32m----> \u001b[39m\u001b[32m7\u001b[39m response1 = \u001b[38;5;28;01mawait\u001b[39;00m conversation.send_message(\u001b[33m\"\u001b[39m\u001b[33mWhat is SyftBox?\u001b[39m\u001b[33m\"\u001b[39m)\n",
      "\u001b[36mFile \u001b[39m\u001b[32m~/Documents/projects/openmined/syft-nsai-sdk/syft_nsai_sdk/services/chat.py:531\u001b[39m, in \u001b[36mConversationManager.send_message\u001b[39m\u001b[34m(self, message, **kwargs)\u001b[39m\n\u001b[32m    528\u001b[39m conversation.append(user_message)\n\u001b[32m    530\u001b[39m \u001b[38;5;66;03m# Send conversation\u001b[39;00m\n\u001b[32m--> \u001b[39m\u001b[32m531\u001b[39m response = \u001b[38;5;28;01mawait\u001b[39;00m \u001b[38;5;28mself\u001b[39m.chat_service.send_conversation(\n\u001b[32m    532\u001b[39m     messages=conversation,\n\u001b[32m    533\u001b[39m     **kwargs\n\u001b[32m    534\u001b[39m )\n\u001b[32m    536\u001b[39m \u001b[38;5;66;03m# Update conversation history\u001b[39;00m\n\u001b[32m    537\u001b[39m \u001b[38;5;28mself\u001b[39m.messages.append(user_message)\n",
      "\u001b[36mFile \u001b[39m\u001b[32m~/Documents/projects/openmined/syft-nsai-sdk/syft_nsai_sdk/services/chat.py:178\u001b[39m, in \u001b[36mChatService.send_conversation\u001b[39m\u001b[34m(self, messages, model, max_tokens, temperature, top_p, stop_sequences, user_email, transaction_token)\u001b[39m\n\u001b[32m    174\u001b[39m payload = \u001b[38;5;28mself\u001b[39m._build_rpc_payload(request)\n\u001b[32m    176\u001b[39m \u001b[38;5;28;01mtry\u001b[39;00m:\n\u001b[32m    177\u001b[39m     \u001b[38;5;66;03m# Make RPC call\u001b[39;00m\n\u001b[32m--> \u001b[39m\u001b[32m178\u001b[39m     response_data = \u001b[38;5;28;01mawait\u001b[39;00m \u001b[38;5;28mself\u001b[39m.rpc_client.call_chat(\u001b[38;5;28mself\u001b[39m.model_info, payload)\n\u001b[32m    180\u001b[39m     \u001b[38;5;66;03m# Parse response\u001b[39;00m\n\u001b[32m    181\u001b[39m     \u001b[38;5;28;01mreturn\u001b[39;00m \u001b[38;5;28mself\u001b[39m._parse_rpc_response(response_data)\n",
      "\u001b[36mFile \u001b[39m\u001b[32m~/Documents/projects/openmined/syft-nsai-sdk/syft_nsai_sdk/networking/rpc_client.py:352\u001b[39m, in \u001b[36mSyftBoxRPCClient.call_chat\u001b[39m\u001b[34m(self, model_info, request_data)\u001b[39m\n\u001b[32m    342\u001b[39m \u001b[38;5;250m\u001b[39m\u001b[33;03m\"\"\"Call the chat endpoint of a model.\u001b[39;00m\n\u001b[32m    343\u001b[39m \u001b[33;03m\u001b[39;00m\n\u001b[32m    344\u001b[39m \u001b[33;03mArgs:\u001b[39;00m\n\u001b[32m   (...)\u001b[39m\u001b[32m    349\u001b[39m \u001b[33;03m    Chat response data\u001b[39;00m\n\u001b[32m    350\u001b[39m \u001b[33;03m\"\"\"\u001b[39;00m\n\u001b[32m    351\u001b[39m syft_url = \u001b[38;5;28mself\u001b[39m.build_syft_url(model_info.owner, model_info.name, \u001b[33m\"\u001b[39m\u001b[33mchat\u001b[39m\u001b[33m\"\u001b[39m)\n\u001b[32m--> \u001b[39m\u001b[32m352\u001b[39m \u001b[38;5;28;01mreturn\u001b[39;00m \u001b[38;5;28;01mawait\u001b[39;00m \u001b[38;5;28mself\u001b[39m.call_rpc(syft_url, request_data)\n",
      "\u001b[36mFile \u001b[39m\u001b[32m~/Documents/projects/openmined/syft-nsai-sdk/syft_nsai_sdk/networking/rpc_client.py:188\u001b[39m, in \u001b[36mSyftBoxRPCClient.call_rpc\u001b[39m\u001b[34m(self, syft_url, payload, headers)\u001b[39m\n\u001b[32m    185\u001b[39m         \u001b[38;5;28;01mraise\u001b[39;00m RPCError(\u001b[33m\"\u001b[39m\u001b[33mAsync response but no poll URL found\u001b[39m\u001b[33m\"\u001b[39m, syft_url)\n\u001b[32m    187\u001b[39m     \u001b[38;5;66;03m# Poll for the actual response\u001b[39;00m\n\u001b[32m--> \u001b[39m\u001b[32m188\u001b[39m     \u001b[38;5;28;01mreturn\u001b[39;00m \u001b[38;5;28;01mawait\u001b[39;00m \u001b[38;5;28mself\u001b[39m._poll_for_response(poll_url_path, syft_url, request_id)\n\u001b[32m    190\u001b[39m \u001b[38;5;28;01melse\u001b[39;00m:\n\u001b[32m    191\u001b[39m     \u001b[38;5;66;03m# Error response\u001b[39;00m\n\u001b[32m    192\u001b[39m     \u001b[38;5;28;01mtry\u001b[39;00m:\n",
      "\u001b[36mFile \u001b[39m\u001b[32m~/Documents/projects/openmined/syft-nsai-sdk/syft_nsai_sdk/networking/rpc_client.py:324\u001b[39m, in \u001b[36mSyftBoxRPCClient._poll_for_response\u001b[39m\u001b[34m(self, poll_url_path, syft_url, request_id)\u001b[39m\n\u001b[32m    321\u001b[39m                 \u001b[38;5;28;01mraise\u001b[39;00m PollingError(\u001b[33mf\u001b[39m\u001b[33m\"\u001b[39m\u001b[33mNetwork error during polling: \u001b[39m\u001b[38;5;132;01m{\u001b[39;00me\u001b[38;5;132;01m}\u001b[39;00m\u001b[33m\"\u001b[39m, syft_url, poll_url)\n\u001b[32m    323\u001b[39m     \u001b[38;5;66;03m# Max attempts reached\u001b[39;00m\n\u001b[32m--> \u001b[39m\u001b[32m324\u001b[39m     \u001b[38;5;28;01mraise\u001b[39;00m PollingTimeoutError(syft_url, \u001b[38;5;28mself\u001b[39m.max_poll_attempts, \u001b[38;5;28mself\u001b[39m.max_poll_attempts)\n\u001b[32m    325\u001b[39m \u001b[38;5;28;01mfinally\u001b[39;00m:\n\u001b[32m    326\u001b[39m     \u001b[38;5;66;03m# Always stop spinner, even if an exception occurs\u001b[39;00m\n\u001b[32m    327\u001b[39m     \u001b[38;5;28;01mawait\u001b[39;00m spinner.stop_async(\u001b[33m\"\u001b[39m\u001b[33mResponse received\u001b[39m\u001b[33m\"\u001b[39m)\n",
      "\u001b[31mPollingTimeoutError\u001b[39m: RPC_ERROR: Polling timed out after 30/30 attempts"
     ]
    }
   ],
   "source": [
    "# Create conversation (enhanced with owner support)\n",
    "conversation = client.create_conversation(\n",
    "    model_name=\"claude-sonnet-3.5\",\n",
    "    owner=\"aggregator@openmined.org\",\n",
    ")\n",
    "# Each message remembers full context\n",
    "response1 = await conversation.send_message(\"What is SyftBox?\")"
   ]
  },
  {
   "cell_type": "code",
   "execution_count": 11,
   "metadata": {},
   "outputs": [
    {
     "name": "stdout",
     "output_type": "stream",
     "text": [
      "Response:\n",
      "ChatResponse(id='7d8285a1-577a-459d-b7ab-fbc7d85bbdc8', model='claude-sonnet-3.5', message=ChatMessage(role='assistant', content=\"{'detail': 'Chat completion failed'}\", name=None), usage=ChatUsage(prompt_tokens=0, completion_tokens=0, total_tokens=0), cost=None, provider_info=None)\n"
     ]
    }
   ],
   "source": [
    "print(f\"Response:\\n{response1}\")"
   ]
  },
  {
   "cell_type": "code",
   "execution_count": null,
   "metadata": {},
   "outputs": [],
   "source": [
    "# second conversation\n",
    "response2 = await conversation.send_message(\"How does it work?\")  # Remembers first question"
   ]
  },
  {
   "cell_type": "code",
   "execution_count": null,
   "metadata": {},
   "outputs": [],
   "source": [
    "print(f\"Response:\\n{response2}\")"
   ]
  },
  {
   "cell_type": "code",
   "execution_count": null,
   "metadata": {},
   "outputs": [],
   "source": [
    "# third conversation\n",
    "response3 = await conversation.send_message(\"Give an example\")    # Remembers both previous"
   ]
  },
  {
   "cell_type": "code",
   "execution_count": null,
   "metadata": {},
   "outputs": [],
   "source": [
    "print(f\"Response:\\n{response3}\")"
   ]
  }
 ],
 "metadata": {
  "kernelspec": {
   "display_name": "Python 3 (ipykernel)",
   "language": "python",
   "name": "python3"
  },
  "language_info": {
   "codemirror_mode": {
    "name": "ipython",
    "version": 3
   },
   "file_extension": ".py",
   "mimetype": "text/x-python",
   "name": "python",
   "nbconvert_exporter": "python",
   "pygments_lexer": "ipython3",
   "version": "3.12.9"
  }
 },
 "nbformat": 4,
 "nbformat_minor": 4
}
